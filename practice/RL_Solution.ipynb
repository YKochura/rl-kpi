{
  "nbformat": 4,
  "nbformat_minor": 0,
  "metadata": {
    "kernelspec": {
      "name": "python3",
      "display_name": "Python 3",
      "language": "python"
    },
    "language_info": {
      "name": "python",
      "version": "3.7.6",
      "mimetype": "text/x-python",
      "codemirror_mode": {
        "name": "ipython",
        "version": 3
      },
      "pygments_lexer": "ipython3",
      "nbconvert_exporter": "python",
      "file_extension": ".py"
    },
    "colab": {
      "provenance": []
    },
    "accelerator": "GPU",
    "gpuClass": "standard"
  },
  "cells": [
    {
      "cell_type": "code",
      "metadata": {
        "id": "wkd375upWYok",
        "trusted": false
      },
      "source": [
        "# Copyright 2020 MIT 6.S191 Introduction to Deep Learning. All Rights Reserved.\n",
        "#\n",
        "# Licensed under the MIT License. You may not use this file except in compliance\n",
        "# with the License. Use and/or modification of this code outside of 6.S191 must\n",
        "# reference:\n",
        "#\n",
        "# © MIT 6.S191: Introduction to Deep Learning\n",
        "# http://introtodeeplearning.com\n",
        "#\n",
        "# Переклад -- Бояршин Ігор, ІВ-91мн"
      ],
      "execution_count": null,
      "outputs": []
    },
    {
      "cell_type": "markdown",
      "metadata": {
        "id": "WoXYKhfZMHiw"
      },
      "source": [
        "# Лабораторна 1: Навчання з підкріпленням\n",
        "\n",
        "Навчання з підкріпленням (НП) є підмножиною машинного навчання, в якому завдання навчання постає у вигляді вдаємодії між агентами та навколишнім середовищем. Зазвичай передбачається, що агенти не мають попередніх знань про навколишній світ, і тому мають навчитися пересуватися по навколишньому середовищу шляхом оптимізації функції винагороди. У межах середовища агент може виконувати деякі дії та отримувати зворотній зв'язок у вигляді позитивної чи негативної винагороди в залежності від своїх дій. Таким чином, процес функціонування агента виглядає як метод \"спроб та помилок\", або як дитина навчалася б відрізняти \"погане\" від \"хорошого\".\n",
        "\n",
        "Говорячи конкретно, наш НП агент буде взаємодіяти з середовищем, виконуючи дій у кожен момент часу, та отримуючи відповідну винагороду, за допомогої якої він буде змінювати свій стан і вчитися.\n",
        "\n",
        "![alt text](https://www.kdnuggets.com/images/reinforcement-learning-fig1-700.jpg)\n",
        "\n",
        "У той час як головною метою навчання з підкріпленням є навчання агента діяти у реальному фізичному середовищі, на практиці ігри є дуже зручним інструментом для розробки НП алгоритмів та агентів. Ігри мають набір характеристик, що робить їх дуже зручними для НП:\n",
        "\n",
        "1.   В більшості випадків ігри мають чудово описане середовище. Наприклад, всі правила шахім можна легко описати та запрограмувати у симуляторі;\n",
        "2.   Ігри легко піддаються розпаралелюванню. Оскільки їх не треба запускати у реальному світі, їх можна симулювати на великих кластерах даних;\n",
        "3.   Прості сценарії в іграх дають можливість швидко накидати робочу модель. Це значно пришвидшує розробку алгоритмів, що в кінці кінців будуть запущені у реальному світі; а також...\n",
        "4.   ... Ігри це весело!\n",
        "\n",
        "У попередній роботі ми розглянули контрольоване (з LSTM, CNN) та неконтрольоване / напів-контрольоване (з VAE) завдання навчання. Навчання з підкріпленням фундаментально відрізняється, оскільки ми тренуємо глибинний алгоритм навчання керувати діями нашого агента, що намагається знайти оптимальний шлях досягнення мети у своєму середовищі. Метою тренування агента є визначення найкращого наступного кроку для отримання найбільшої кінцевої винагороди. У цій лабораторній роботі ми фокусуємось на створенні алгоритму навчання з підкріпленням для вивчення двох різних середовищ з різним рівнем складності.\n",
        "\n",
        "1.   **Cartpole**:   Балансування стовпа, що стоїть на візку, у вертикальному положенні, пересуваючи візок тільки вліво та вправо. Малопросторове середовище спостереження.\n",
        "2.   [**Pong**](https://en.wikipedia.org/wiki/Pong): Виграйте ваших опонентів (інший штучний інтелект або людей) у грі Pong. Великопросторове середовище спостереження -- навчання напряму з піксельних даних.\n",
        "\n",
        "Почнемо! Спочатку заімпортуємо TensorFlow та декілька залежностей.\n"
      ]
    },
    {
      "cell_type": "code",
      "source": [
        "!apt-get install -y xvfb python-opengl x11-utils > /dev/null 2>&1\n",
        "!pip install gym pyvirtualdisplay scikit-video > /dev/null 2>&1\n",
        "!pip install gym[atari,accept-rom-license]\n",
        "!pip install gym[classic_control]"
      ],
      "metadata": {
        "colab": {
          "base_uri": "https://localhost:8080/"
        },
        "id": "DpsxA1yoV83G",
        "outputId": "f8e3e847-2cac-4d0e-a95e-907fcf054127"
      },
      "execution_count": 1,
      "outputs": [
        {
          "output_type": "stream",
          "name": "stdout",
          "text": [
            "Requirement already satisfied: gym[accept-rom-license,atari] in /usr/local/lib/python3.10/dist-packages (0.25.2)\n",
            "Requirement already satisfied: numpy>=1.18.0 in /usr/local/lib/python3.10/dist-packages (from gym[accept-rom-license,atari]) (1.23.5)\n",
            "Requirement already satisfied: cloudpickle>=1.2.0 in /usr/local/lib/python3.10/dist-packages (from gym[accept-rom-license,atari]) (2.2.1)\n",
            "Requirement already satisfied: gym-notices>=0.0.4 in /usr/local/lib/python3.10/dist-packages (from gym[accept-rom-license,atari]) (0.0.8)\n",
            "Collecting autorom[accept-rom-license]~=0.4.2 (from gym[accept-rom-license,atari])\n",
            "  Downloading AutoROM-0.4.2-py3-none-any.whl (16 kB)\n",
            "Collecting ale-py~=0.7.5 (from gym[accept-rom-license,atari])\n",
            "  Downloading ale_py-0.7.5-cp310-cp310-manylinux_2_17_x86_64.manylinux2014_x86_64.whl (1.6 MB)\n",
            "\u001b[2K     \u001b[90m━━━━━━━━━━━━━━━━━━━━━━━━━━━━━━━━━━━━━━━━\u001b[0m \u001b[32m1.6/1.6 MB\u001b[0m \u001b[31m7.4 MB/s\u001b[0m eta \u001b[36m0:00:00\u001b[0m\n",
            "\u001b[?25hRequirement already satisfied: importlib-resources in /usr/local/lib/python3.10/dist-packages (from ale-py~=0.7.5->gym[accept-rom-license,atari]) (6.1.0)\n",
            "Requirement already satisfied: click in /usr/local/lib/python3.10/dist-packages (from autorom[accept-rom-license]~=0.4.2->gym[accept-rom-license,atari]) (8.1.7)\n",
            "Requirement already satisfied: requests in /usr/local/lib/python3.10/dist-packages (from autorom[accept-rom-license]~=0.4.2->gym[accept-rom-license,atari]) (2.31.0)\n",
            "Requirement already satisfied: tqdm in /usr/local/lib/python3.10/dist-packages (from autorom[accept-rom-license]~=0.4.2->gym[accept-rom-license,atari]) (4.66.1)\n",
            "Collecting AutoROM.accept-rom-license (from autorom[accept-rom-license]~=0.4.2->gym[accept-rom-license,atari])\n",
            "  Downloading AutoROM.accept-rom-license-0.6.1.tar.gz (434 kB)\n",
            "\u001b[2K     \u001b[90m━━━━━━━━━━━━━━━━━━━━━━━━━━━━━━━━━━━━━━━━\u001b[0m \u001b[32m434.7/434.7 kB\u001b[0m \u001b[31m11.3 MB/s\u001b[0m eta \u001b[36m0:00:00\u001b[0m\n",
            "\u001b[?25h  Installing build dependencies ... \u001b[?25l\u001b[?25hdone\n",
            "  Getting requirements to build wheel ... \u001b[?25l\u001b[?25hdone\n",
            "  Preparing metadata (pyproject.toml) ... \u001b[?25l\u001b[?25hdone\n",
            "Requirement already satisfied: charset-normalizer<4,>=2 in /usr/local/lib/python3.10/dist-packages (from requests->autorom[accept-rom-license]~=0.4.2->gym[accept-rom-license,atari]) (3.3.0)\n",
            "Requirement already satisfied: idna<4,>=2.5 in /usr/local/lib/python3.10/dist-packages (from requests->autorom[accept-rom-license]~=0.4.2->gym[accept-rom-license,atari]) (3.4)\n",
            "Requirement already satisfied: urllib3<3,>=1.21.1 in /usr/local/lib/python3.10/dist-packages (from requests->autorom[accept-rom-license]~=0.4.2->gym[accept-rom-license,atari]) (2.0.6)\n",
            "Requirement already satisfied: certifi>=2017.4.17 in /usr/local/lib/python3.10/dist-packages (from requests->autorom[accept-rom-license]~=0.4.2->gym[accept-rom-license,atari]) (2023.7.22)\n",
            "Building wheels for collected packages: AutoROM.accept-rom-license\n",
            "  Building wheel for AutoROM.accept-rom-license (pyproject.toml) ... \u001b[?25l\u001b[?25hdone\n",
            "  Created wheel for AutoROM.accept-rom-license: filename=AutoROM.accept_rom_license-0.6.1-py3-none-any.whl size=446660 sha256=9c97255ee7a3672de12ffd5c406547c2b1d9c02834a666c966a8c1475166f9ff\n",
            "  Stored in directory: /root/.cache/pip/wheels/6b/1b/ef/a43ff1a2f1736d5711faa1ba4c1f61be1131b8899e6a057811\n",
            "Successfully built AutoROM.accept-rom-license\n",
            "Installing collected packages: ale-py, AutoROM.accept-rom-license, autorom\n",
            "Successfully installed AutoROM.accept-rom-license-0.6.1 ale-py-0.7.5 autorom-0.4.2\n",
            "Requirement already satisfied: gym[classic_control] in /usr/local/lib/python3.10/dist-packages (0.25.2)\n",
            "Requirement already satisfied: numpy>=1.18.0 in /usr/local/lib/python3.10/dist-packages (from gym[classic_control]) (1.23.5)\n",
            "Requirement already satisfied: cloudpickle>=1.2.0 in /usr/local/lib/python3.10/dist-packages (from gym[classic_control]) (2.2.1)\n",
            "Requirement already satisfied: gym-notices>=0.0.4 in /usr/local/lib/python3.10/dist-packages (from gym[classic_control]) (0.0.8)\n",
            "Collecting pygame==2.1.0 (from gym[classic_control])\n",
            "  Downloading pygame-2.1.0-cp310-cp310-manylinux_2_17_x86_64.manylinux2014_x86_64.whl (18.3 MB)\n",
            "\u001b[2K     \u001b[90m━━━━━━━━━━━━━━━━━━━━━━━━━━━━━━━━━━━━━━━━\u001b[0m \u001b[32m18.3/18.3 MB\u001b[0m \u001b[31m25.9 MB/s\u001b[0m eta \u001b[36m0:00:00\u001b[0m\n",
            "\u001b[?25hInstalling collected packages: pygame\n",
            "  Attempting uninstall: pygame\n",
            "    Found existing installation: pygame 2.5.2\n",
            "    Uninstalling pygame-2.5.2:\n",
            "      Successfully uninstalled pygame-2.5.2\n",
            "Successfully installed pygame-2.1.0\n"
          ]
        }
      ]
    },
    {
      "cell_type": "code",
      "metadata": {
        "id": "EvdePP-VyVWp",
        "trusted": false,
        "colab": {
          "base_uri": "https://localhost:8080/"
        },
        "outputId": "d489329a-7744-4de2-9e55-d242dfa7b5bb"
      },
      "source": [
        "\n",
        "%tensorflow_version 2.x\n",
        "import tensorflow as tf\n",
        "\n",
        "import numpy as np\n",
        "import base64, io, time, gym\n",
        "import IPython, functools\n",
        "import matplotlib.pyplot as plt\n",
        "from tqdm import tqdm\n",
        "\n",
        "from IPython.display import HTML\n",
        "import cv2\n"
      ],
      "execution_count": 2,
      "outputs": [
        {
          "output_type": "stream",
          "name": "stdout",
          "text": [
            "Colab only includes TensorFlow 2.x; %tensorflow_version has no effect.\n"
          ]
        }
      ]
    },
    {
      "cell_type": "code",
      "source": [
        "# Допоміжні функції\n",
        "\n",
        "def play_video(filename, width=None):\n",
        "    encoded = base64.b64encode(io.open(filename, 'r+b').read())\n",
        "    video_width = 'width=\"' + str(width) + '\"' if width is not None else ''\n",
        "    embedded = HTML(data='''\n",
        "        <video controls {0}>\n",
        "            <source src=\"data:video/mp4;base64,{1}\" type=\"video/mp4\" />\n",
        "        </video>'''.format(video_width, encoded.decode('ascii')))\n",
        "\n",
        "    return embedded\n",
        "\n",
        "\n",
        "def preprocess_pong(image):\n",
        "    I = image[35:195] # Crop\n",
        "    I = I[::2, ::2, 0] # Downsample width and height by a factor of 2\n",
        "    I[I == 144] = 0 # Remove background type 1\n",
        "    I[I == 109] = 0 # Remove background type 2\n",
        "    I[I != 0] = 1 # Set remaining elements (paddles, ball, etc.) to 1\n",
        "    I = cv2.dilate(I, np.ones((3, 3), np.uint8), iterations=1)\n",
        "    I = I[::2, ::2, np.newaxis]\n",
        "    return I.astype(np.float)\n",
        "\n",
        "\n",
        "def pong_change(prev, curr):\n",
        "    prev = preprocess_pong(prev)\n",
        "    curr = preprocess_pong(curr)\n",
        "    I = prev - curr\n",
        "    # I = (I - I.min()) / (I.max() - I.min() + 1e-10)\n",
        "    return I\n",
        "\n",
        "\n",
        "class Memory:\n",
        "  def __init__(self):\n",
        "      self.clear()\n",
        "\n",
        "  # Resets/restarts the memory buffer\n",
        "  def clear(self):\n",
        "      self.observations = []\n",
        "      self.actions = []\n",
        "      self.rewards = []\n",
        "\n",
        "  # Add observations, actions, rewards to memory\n",
        "  def add_to_memory(self, new_observation, new_action, new_reward):\n",
        "      self.observations.append(new_observation)\n",
        "      self.actions.append(new_action)\n",
        "      self.rewards.append(new_reward)\n",
        "\n",
        "\n",
        "def aggregate_memories(memories):\n",
        "  batch_memory = Memory()\n",
        "\n",
        "  for memory in memories:\n",
        "    for step in zip(memory.observations, memory.actions, memory.rewards):\n",
        "      batch_memory.add_to_memory(*step)\n",
        "\n",
        "  return batch_memory\n",
        "\n",
        "\n",
        "def parallelized_collect_rollout(batch_size, envs, model, choose_action):\n",
        "\n",
        "    assert len(envs) == batch_size, \"Number of parallel environments must be equal to the batch size.\"\n",
        "\n",
        "    memories = [Memory() for _ in range(batch_size)]\n",
        "    next_observations = [single_env.reset() for single_env in envs]\n",
        "    previous_frames = [obs for obs in next_observations]\n",
        "    done = [False] * batch_size\n",
        "    rewards = [0] * batch_size\n",
        "\n",
        "    while True:\n",
        "\n",
        "        current_frames = [obs for obs in next_observations]\n",
        "        diff_frames = [pong_change(prev, curr) for (prev, curr) in zip(previous_frames, current_frames)]\n",
        "\n",
        "        diff_frames_not_done = [diff_frames[b] for b in range(batch_size) if not done[b]]\n",
        "        actions_not_done = choose_action(model, np.array(diff_frames_not_done), single=False)\n",
        "\n",
        "        actions = [None] * batch_size\n",
        "        ind_not_done = 0\n",
        "        for b in range(batch_size):\n",
        "            if not done[b]:\n",
        "                actions[b] = actions_not_done[ind_not_done]\n",
        "                ind_not_done += 1\n",
        "\n",
        "        for b in range(batch_size):\n",
        "            if done[b]:\n",
        "                continue\n",
        "            next_observations[b], rewards[b], done[b], info = envs[b].step(actions[b])\n",
        "            previous_frames[b] = current_frames[b]\n",
        "            memories[b].add_to_memory(diff_frames[b], actions[b], rewards[b])\n",
        "\n",
        "        if all(done):\n",
        "            break\n",
        "\n",
        "    return memories\n",
        "\n",
        "\n",
        "def save_video_of_model(model, env_name, suffix=\"\"):\n",
        "    import skvideo.io\n",
        "    from pyvirtualdisplay import Display\n",
        "    display = Display(visible=0, size=(400, 300))\n",
        "    display.start()\n",
        "\n",
        "    env = gym.make(env_name)\n",
        "    obs = env.reset()\n",
        "    prev_obs = obs\n",
        "\n",
        "    filename = env_name + suffix + \".mp4\"\n",
        "    output_video = skvideo.io.FFmpegWriter(filename)\n",
        "\n",
        "    counter = 0\n",
        "    done = False\n",
        "    while not done:\n",
        "        frame = env.render(mode='rgb_array')\n",
        "        output_video.writeFrame(frame)\n",
        "\n",
        "        if \"CartPole\" in env_name:\n",
        "            input_obs = obs\n",
        "        elif \"Pong\" in env_name:\n",
        "            input_obs = pong_change(prev_obs, obs)\n",
        "        else:\n",
        "            raise ValueError(f\"Unknown env for saving: {env_name}\")\n",
        "\n",
        "        action = model(np.expand_dims(input_obs, 0)).numpy().argmax()\n",
        "\n",
        "        prev_obs = obs\n",
        "        obs, reward, done, info = env.step(action)\n",
        "        counter += 1\n",
        "\n",
        "    output_video.close()\n",
        "    print(\"Successfully saved {} frames into {}!\".format(counter, filename))\n",
        "    return filename\n",
        "\n",
        "\n",
        "def save_video_of_memory(memory, filename, size=(512,512)):\n",
        "    import skvideo.io\n",
        "\n",
        "    output_video = skvideo.io.FFmpegWriter(filename)\n",
        "\n",
        "    for observation in memory.observations:\n",
        "        output_video.writeFrame(cv2.resize(255*observation, size))\n",
        "\n",
        "    output_video.close()\n",
        "    return filename"
      ],
      "metadata": {
        "id": "9-tKN3WxWhB4"
      },
      "execution_count": 3,
      "outputs": []
    },
    {
      "cell_type": "code",
      "source": [
        "import matplotlib.pyplot as plt\n",
        "\n",
        "from IPython import display as ipythondisplay\n",
        "from string import Formatter\n",
        "\n",
        "\n",
        "\n",
        "def display_model(model):\n",
        "  tf.keras.utils.plot_model(model,\n",
        "             to_file='tmp.png',\n",
        "             show_shapes=True)\n",
        "  return ipythondisplay.Image('tmp.png')\n",
        "\n",
        "\n",
        "def plot_sample(x,y,vae):\n",
        "    plt.figure(figsize=(2,1))\n",
        "    plt.subplot(1, 2, 1)\n",
        "\n",
        "    idx = np.where(y==1)[0][0]\n",
        "    plt.imshow(x[idx])\n",
        "    plt.grid(False)\n",
        "\n",
        "    plt.subplot(1, 2, 2)\n",
        "    _, _, _, recon = vae(x)\n",
        "    recon = np.clip(recon, 0, 1)\n",
        "    plt.imshow(recon[idx])\n",
        "    plt.grid(False)\n",
        "\n",
        "    plt.show()\n",
        "\n",
        "\n",
        "\n",
        "class LossHistory:\n",
        "  def __init__(self, smoothing_factor=0.0):\n",
        "    self.alpha = smoothing_factor\n",
        "    self.loss = []\n",
        "  def append(self, value):\n",
        "    self.loss.append( self.alpha*self.loss[-1] + (1-self.alpha)*value if len(self.loss)>0 else value )\n",
        "  def get(self):\n",
        "    return self.loss\n",
        "\n",
        "class PeriodicPlotter:\n",
        "  def __init__(self, sec, xlabel='', ylabel='', scale=None):\n",
        "\n",
        "    self.xlabel = xlabel\n",
        "    self.ylabel = ylabel\n",
        "    self.sec = sec\n",
        "    self.scale = scale\n",
        "\n",
        "    self.tic = time.time()\n",
        "\n",
        "  def plot(self, data):\n",
        "    if time.time() - self.tic > self.sec:\n",
        "      plt.cla()\n",
        "\n",
        "      if self.scale is None:\n",
        "        plt.plot(data)\n",
        "      elif self.scale == 'semilogx':\n",
        "        plt.semilogx(data)\n",
        "      elif self.scale == 'semilogy':\n",
        "        plt.semilogy(data)\n",
        "      elif self.scale == 'loglog':\n",
        "        plt.loglog(data)\n",
        "      else:\n",
        "        raise ValueError(\"unrecognized parameter scale {}\".format(self.scale))\n",
        "\n",
        "      plt.xlabel(self.xlabel); plt.ylabel(self.ylabel)\n",
        "      ipythondisplay.clear_output(wait=True)\n",
        "      ipythondisplay.display(plt.gcf())\n",
        "\n",
        "      self.tic = time.time()\n",
        "\n",
        "\n",
        "def create_grid_of_images(xs, size=(5,5)):\n",
        "    \"\"\" Combine a list of images into a single image grid by stacking them into an array of shape `size` \"\"\"\n",
        "\n",
        "    grid = []\n",
        "    counter = 0\n",
        "    for i in range(size[0]):\n",
        "        row = []\n",
        "        for j in range(size[1]):\n",
        "          row.append(xs[counter])\n",
        "          counter += 1\n",
        "        row = np.hstack(row)\n",
        "        grid.append(row)\n",
        "    grid = np.vstack(grid)\n",
        "    return grid"
      ],
      "metadata": {
        "id": "k95CbNQWYVlz"
      },
      "execution_count": 16,
      "outputs": []
    },
    {
      "cell_type": "markdown",
      "metadata": {
        "id": "zmrHSiXKTXTY"
      },
      "source": [
        "Перед тим як ми почнемо, давайте зробимо крок назад та визначемо наш підхід, що зазвичай використовується до будь-яких завдань навчання з підкріпленням:\n",
        "\n",
        "1. **Ініціалізація середовища та агенту**: тут ми визначимо, що бачить агент, а також які дії він може виконувати у середовищі.\n",
        "2. **Визначення пам'яті нашого агента**: це дозволить агенту запам'ятовувати свої попередні дії та винагороди.\n",
        "3. **Визначення функції винагороди**: визначає винагороду за дію або послідовність дій.\n",
        "4. **Визначення алгоритму навчання**: за допомогою цього буде виконано підкріплення хороших дій та покарання поганих дій агента.\n"
      ]
    },
    {
      "cell_type": "markdown",
      "metadata": {
        "id": "UT7YL8KBJIIc"
      },
      "source": [
        "# Частина 1: Cartpole\n",
        "\n",
        "## 3.1 Визначення середовища Cartpole та агента\n",
        "\n",
        "### Середовище\n",
        "\n",
        "Для того щоб моделювати середовища для обох завдань, ми використаємо інструмент, зроблений за допомогою OpenAI, під назвою [OpenAI Gym](https://gym.openai.com/). Він пропонує декілька зазделегідь створених середовищ для тренування та тестування агентів навчання з підкріпленням, включаючи класичні завдання для фізичного контролю, відеоігри Atari, а також симуляції роботів. Для доступу до середовища Cartpole environment,ми використаємо `env = gym.make(\"CartPole-v0\")`, до якого ми отримали доступ, підключивши пакет `gym`. Ми можемо створити різні [середовища](https://gym.openai.com/envs/#classic_control), передавши їх до функції `make`.\n",
        "\n",
        "Однією з проблем, з якою ми можемо зтикнутися, створюючи НП алгоритми, це те, що багато аспектів навчання за своєю сутністю є випадковими: ініціалізація стану гри, зміна середовища, дії агента. Тому гарною ідеєю є встановлення початкового seed для середовища, аби забезпечити деякий рівень контролю. Так само як можна використовувати `numpy.random.seed`, ми викликаємо таку саму функцію у gym, `seed`, з нашим середовищем, для того аби наше середовище мало одні і ті самі випадкові величини при різних запусках."
      ]
    },
    {
      "cell_type": "code",
      "metadata": {
        "id": "quv9SC0iIYFm",
        "trusted": false,
        "colab": {
          "base_uri": "https://localhost:8080/"
        },
        "outputId": "467aa68d-301a-42df-d719-ba787dff1d07"
      },
      "source": [
        " ### Ініціалізація середовища Cartpole ###\n",
        "\n",
        "env = gym.make(\"CartPole-v1\")\n",
        "env.reset(seed=1)"
      ],
      "execution_count": 6,
      "outputs": [
        {
          "output_type": "execute_result",
          "data": {
            "text/plain": [
              "array([ 0.00118216,  0.04504637, -0.03558404,  0.04486495], dtype=float32)"
            ]
          },
          "metadata": {},
          "execution_count": 6
        }
      ]
    },
    {
      "cell_type": "markdown",
      "metadata": {
        "id": "mhEITUcKK455"
      },
      "source": [
        "У Cartpole стовп прікріплений за допомогою шарніру до візка, що рухається вздовж шляху бех тертя. На початку стовп вертикальний, і метою є запобігання його падіння. Система контролюється шляхом прикладання сили зі значенням +1 чи -1 до візку. Винагорода +1 надається за кожен момент часу, коли стовп залишається вертикальним. Епізод закінчується коли стовп відхиляється більше ніж на 15 градусів від вертикалі, або візок від'їзжає більше ніж на 2.4 одиниці від центра шляху. Візуальна репрезентація візку зображена на малюнку нижче:\n",
        "\n",
        "<img width=\"400px\" src=\"https://danielpiedrahita.files.wordpress.com/2017/02/cart-pole.png\"></img>\n",
        "\n",
        "Маючи цей сетап середовища та цілей гри, ми можемо подумати про: 1) які спостереження можуть допомогти визначити стан середовища; 2) які дій ягент може робити.\n",
        "\n",
        "Спочатку, подумаємо про спостереження. У цьому середовищі нашими спостереженнями будуть:\n",
        "\n",
        "1. Позиція візку\n",
        "2. Швидкість візку\n",
        "3. Кут стовпа\n",
        "4. Двишкість повороту стовпа\n",
        "\n",
        "Ми можемо перевірити розмір простору, вивівши його на екран:\n"
      ]
    },
    {
      "cell_type": "code",
      "metadata": {
        "id": "UVJaEcbdIX82",
        "trusted": false,
        "colab": {
          "base_uri": "https://localhost:8080/"
        },
        "outputId": "5367e9da-2448-447d-8f7d-650d3fe1b4fc"
      },
      "source": [
        "n_observations = env.observation_space\n",
        "print(\"Environment has observation space =\", n_observations)"
      ],
      "execution_count": 7,
      "outputs": [
        {
          "output_type": "stream",
          "name": "stdout",
          "text": [
            "Environment has observation space = Box([-4.8000002e+00 -3.4028235e+38 -4.1887903e-01 -3.4028235e+38], [4.8000002e+00 3.4028235e+38 4.1887903e-01 3.4028235e+38], (4,), float32)\n"
          ]
        }
      ]
    },
    {
      "cell_type": "markdown",
      "metadata": {
        "id": "ZibGgjrALgPM"
      },
      "source": [
        "Далі, ми розглядаємо простір дій. На кожному кроці, агент може пересуватися або вліво або вправо. Ми знову ж таки можемо перевірити розмір простору, вивівши значення на екран:"
      ]
    },
    {
      "cell_type": "code",
      "metadata": {
        "id": "qc9SIPxBIXrm",
        "trusted": false,
        "colab": {
          "base_uri": "https://localhost:8080/"
        },
        "outputId": "9d46351a-ddd5-4b54-ae25-d187fbc1d5a8"
      },
      "source": [
        "n_actions = env.action_space.n\n",
        "print(\"Number of possible actions that the agent can choose from =\", n_actions)"
      ],
      "execution_count": 8,
      "outputs": [
        {
          "output_type": "stream",
          "name": "stdout",
          "text": [
            "Number of possible actions that the agent can choose from = 2\n"
          ]
        }
      ]
    },
    {
      "cell_type": "markdown",
      "metadata": {
        "id": "pPfHME8aRKkb"
      },
      "source": [
        "### Агент Cartpole\n",
        "\n",
        "Тепер, коли ми задали середовище та зрозімули розмірність даних просторів спостереження та дій, ми готові визначати нашого агента. У глибинному навчанні з підкріпленням, агент задається глибинною нейронною мережею. Ця мережа буде брати на вхід спостережння середовища та видавати ймовірності виконання кожної з можливих дій. Оскільки Cartpole є простором з малою степенню, для агенту гарно підійде проста feed-forward нейронна мережа. Ми задамо це за допомогою `Sequential` API.\n"
      ]
    },
    {
      "cell_type": "code",
      "metadata": {
        "id": "W-o_XK4oQ4eu",
        "trusted": false
      },
      "source": [
        "### Задаємо агента Cartpole ###\n",
        "\n",
        "# Задаємо feed-forward нейронну мережу\n",
        "def create_cartpole_model():\n",
        "  model = tf.keras.models.Sequential([\n",
        "      tf.keras.layers.Dense(units=32, activation='relu'),\n",
        "\n",
        "      tf.keras.layers.Dense(units=n_actions, activation=None)\n",
        "  ])\n",
        "  return model\n",
        "\n",
        "cartpole_model = create_cartpole_model()"
      ],
      "execution_count": 9,
      "outputs": []
    },
    {
      "cell_type": "markdown",
      "metadata": {
        "id": "d5D5NSIYS2IW"
      },
      "source": [
        "Тепер, коли ми задали основну архітектуру мережі, ми визначимо *функцію дій*, що виконуватиме прямий прохід по мережі на основі множини спосережень, а також збирає вихід з мережі. На основі цього буде прийматися рішення про наступний крок агенту.\n",
        "\n",
        "**Важливим моментом є те, що ця функція є загальною -- ми будемо використовувати її для Cartpole та Pong, але взагалі її можна використовувати і для інших завдань навчання з підкріпленням!**"
      ]
    },
    {
      "cell_type": "code",
      "metadata": {
        "id": "E_vVZRr8Q4R_",
        "trusted": false
      },
      "source": [
        "### Визначимо фінкцію дій агента ###\n",
        "\n",
        "# Функція, що бере на вхід множину спостережень, виконує прямий прохід по мережі,\n",
        "#   і повертає обрану дію.\n",
        "# Аргументи:\n",
        "#   model: мережа, що визначає агента\n",
        "#   observation: спостереження, що даються на вхід моделі\n",
        "# Вихід:\n",
        "#   action: вибрана дія агента\n",
        "def choose_action(model, observation):\n",
        "  observation = np.expand_dims(observation, axis=0)\n",
        "\n",
        "  logits = model.predict(observation)\n",
        "  prob_weights = tf.nn.softmax(logits).numpy()\n",
        "\n",
        "  action = np.random.choice(n_actions, size=1, p=prob_weights.flatten())[0]\n",
        "\n",
        "  return action"
      ],
      "execution_count": 10,
      "outputs": []
    },
    {
      "cell_type": "markdown",
      "metadata": {
        "id": "_tR9uAWcTnkr"
      },
      "source": [
        "## 3.2 Визначаємо пам'ять агента\n",
        "\n",
        "Тепер, коли ми визначили середовище та архітектуру мережі агента, а також функцію дій, ми готові перейти до наступного кроку у НП:\n",
        "1. **Ініціалізація середовища та агента**: тут ми опишемо різні спостереження та дії, що їх може виконати агент у середовищі.\n",
        "2. **Визначення пам'яті агента**: це дасть змогу агенту запам'ятовувати свої попередні дії та винагороди.\n",
        "3. **Задання алгоритму навчання**: за допомогою цього буде виконано підкріплення хороших дій та покарання поганих дій агента.\n",
        "\n",
        "У навчанні з підкріпленням, тренування виконується завдяки взаємодії агента з середовищем та виконання дій агентом; *епізодом* називається послідовність дій, що закінчується у якомусь кінцевому стані, як-от падіння стовпа чи аварія візку. Агенту потрібно буде пам'ятати усі його дії та спостереження, так що коли закінчується епізод, він зможе \"підкріпити\" хороші дії та \"покарати\" погані. Першим кроком є задання простого буферу пам'яті, що зберігає спостереження агента, його дії, а також отримані винагороди за конкретні епізоди.\n",
        "\n",
        "**Знову ж таки, зверніть увагу на модульність цього буферу пам'яті -- він може та буде використовуватися у інших завданнях НП**"
      ]
    },
    {
      "cell_type": "code",
      "metadata": {
        "id": "8MM6JwXVQ4JG",
        "trusted": false
      },
      "source": [
        "### Пам'яті агента ###\n",
        "\n",
        "class Memory:\n",
        "  def __init__(self):\n",
        "      self.clear()\n",
        "\n",
        "  # Стирає пам'ять\n",
        "  def clear(self):\n",
        "      self.observations = []\n",
        "      self.actions = []\n",
        "      self.rewards = []\n",
        "\n",
        "  # Додаємо спостереження, дію та винагороду до пам'яті\n",
        "  def add_to_memory(self, new_observation, new_action, new_reward):\n",
        "      self.observations.append(new_observation)\n",
        "      self.actions.append(new_action)\n",
        "      self.rewards.append(new_reward)\n",
        "\n",
        "memory = Memory()"
      ],
      "execution_count": 11,
      "outputs": []
    },
    {
      "cell_type": "markdown",
      "metadata": {
        "id": "D4YhtPaUVj5m"
      },
      "source": [
        "## 3.3 Функція винагороди\n",
        "\n",
        "Ми майже готові почати навчання нашого агенту! Наступним кроком є підрахунок винагород нашого агенту за його дії у середовищі. Оскільки ми (та агент) не знає напевно, коли закінчиться гра чи завдання (коли звалиться стовп), має сенс отримувати винагороду одразу, а не потім. Ця ідея схожа з отриманням грошей за проценти вкладу.\n",
        "\n",
        "Для підрахунку очікуванної сумарної винагороди, яку ще називають **повернення**, у заданий момент часу у епізоді навчання, ми сумуємо винагороду зі знижкою на момент часу $t$, у межах епізоду навчання, з проектуванянм у майбутнє. Ми визначаємо повернення (сумарну винагороду) у час $t$, $R_{t}$, як:\n",
        "\n",
        ">$R_{t}=\\sum_{k=0}^\\infty\\gamma^kr_{t+k}$\n",
        "\n",
        "де $0 < \\gamma < 1$ це фактор знижки і $r_{t}$ це винагорода на кроці $t$, а індекс $k$ інкрементує проекцію у майбутнє у межах одного епізоду навчання. Інтуітивно можна думати, що ця функція занижує винагороди, що будуть отримані у майбутньому, і натомість примушує агента приорітизувати винагороди \"зараз\". Оскільки ми не можемо продовжити епізоди до нескінченності, на практиці підрахунок буде обмежений кількістю кроків у епізоді -- після цього вважаться, що винагорода рівна нулю.\n",
        "\n",
        "Зверніть увагу на форму цієї суми -- нам потрібно буде подумати про те, як її реалізувати. Конкретніше, нам потрібно буде ініціалізувати масим нулями, з довжиною рівною кількості кроків, та заповнювати його реальними значеннями знижки винагороди по ходу того, як ми ітеруємося по винагородам епізоду, що зберігаються у пам'яті агента. Остаточно нам важливо, які дії краще у порівнянні з іншими діями у цьому епізоді -- тому ми нормалізуємо підраховані винагороди за допомогою середнього та стандартного відхилення винагород по всім епізодам.\n"
      ]
    },
    {
      "cell_type": "code",
      "metadata": {
        "id": "5_Q2OFYtQ32X",
        "trusted": false
      },
      "source": [
        "### Функція винагород ###\n",
        "\n",
        "# Допоміжна функція, що нормалізує масив\n",
        "def normalize(x):\n",
        "  x -= np.mean(x)\n",
        "  x /= np.std(x)\n",
        "  return x.astype(np.float32)\n",
        "\n",
        "# Підраховує нормалізовані, скидочні, а також сумарні винагороди (тобто, повернення)\n",
        "# Аргументи:\n",
        "#   rewards: винагорода у кожний момент часу\n",
        "#   gamma: ступінь скидки\n",
        "# Повертає:\n",
        "#   Нормалізовану скидочну винагороду\n",
        "def discount_rewards(rewards, gamma=0.95):\n",
        "  discounted_rewards = np.zeros_like(rewards)\n",
        "  R = 0\n",
        "  for t in reversed(range(0, len(rewards))):\n",
        "      R = R * gamma + rewards[t]\n",
        "      discounted_rewards[t] = R\n",
        "\n",
        "  return normalize(discounted_rewards)"
      ],
      "execution_count": 12,
      "outputs": []
    },
    {
      "cell_type": "markdown",
      "metadata": {
        "id": "QzbY-mjGYcmt"
      },
      "source": [
        "## 3.4 Алгоритм навчання\n",
        "\n",
        "Тепер ми можемо почати визначати алгоритм навчання, що буде використовуватися для підкріплення хороших дій агента та карати за погані дії. У цій роботі ми зфокусуємося на методах *стратегій градієнту*, метою яких є **максимізація** вірогідності дій, що призводять до великої винагороди. Аналогічно, це означає що потрібно **мінімізувати** негативну вірогідність цих же дій. Ми досягаємо цього множенням вірогідностей на їх відповідну винагороду -- таким чином підсилюючи силу дій з великою винагородою.\n",
        "\n",
        "Оскільки функція логаримфу монотонно зростає, це означає що мінімізація **негативної вірогідності** еквівалентна мінімізації **негативного логарифму вірогідності**. Згадаймо, що ми можемо легко підрахувати негативний логарифм вірогідності дискретних дій, обчисливши його  [softmax cross entropy](https://www.tensorflow.org/api_docs/python/tf/nn/sparse_softmax_cross_entropy_with_logits). Як і у навчанні з учителем, можна використати стокастичний градієнтий спуск для отримання бажаної мінімізації.\n",
        "\n",
        "Почнемо з визначення функції втрат."
      ]
    },
    {
      "cell_type": "code",
      "metadata": {
        "id": "fsgZ3IDCY_Zn",
        "trusted": false
      },
      "source": [
        "### Функція втрат ###\n",
        "\n",
        "# Аргументи:\n",
        "#   logits: прогнози мережи щодо дій\n",
        "#   actions: дії, що виконам агент в епізоді\n",
        "#   rewards: винагороди, що отримав агент у епізоді\n",
        "# Повертає:\n",
        "#   втрату\n",
        "def compute_loss(logits, actions, rewards):\n",
        "  neg_logprob = tf.nn.sparse_softmax_cross_entropy_with_logits(logits=logits, labels=actions)\n",
        "\n",
        "  loss = tf.reduce_mean( neg_logprob * rewards )\n",
        "  return loss"
      ],
      "execution_count": 13,
      "outputs": []
    },
    {
      "cell_type": "markdown",
      "metadata": {
        "id": "Rr5vQ9fqbPpp"
      },
      "source": [
        "Тепер використаємо функцію втрат для визначення кроку тренування алгоритму:"
      ]
    },
    {
      "cell_type": "code",
      "metadata": {
        "id": "_50ada7nbZ7L",
        "trusted": false
      },
      "source": [
        "### Крок тренування (forward та backpropagation) ###\n",
        "\n",
        "def train_step(model, optimizer, observations, actions, discounted_rewards):\n",
        "  with tf.GradientTape() as tape:\n",
        "      logits = model(observations)\n",
        "      loss = compute_loss(logits, actions, discounted_rewards)\n",
        "\n",
        "  grads = tape.gradient(loss, model.trainable_variables)\n",
        "  optimizer.apply_gradients(zip(grads, model.trainable_variables))\n"
      ],
      "execution_count": 14,
      "outputs": []
    },
    {
      "cell_type": "markdown",
      "metadata": {
        "id": "XsjKXh6BcgjR"
      },
      "source": [
        "## 3.5 Запускаємо!\n",
        "\n",
        "Оскільки у агента немає попередніх знань про середовище, він почне навчатися балансувати стовп на візку, базуючись лише на зворотньому зв'язку, отриманому з середовища! Визначивши можливі дії нашого агента, як він отримує нові спостереження, а також як він оновлює свій стан, ми побачимо як він поступово навчається стратегії дій для оптимізації балансування стовпа так довго, як тільки можна. Для цього ми будемо спостерігати, як змінюються винагороди в залежності від тренування -- як вони мають змінюватися по ходу тренування?"
      ]
    },
    {
      "cell_type": "code",
      "metadata": {
        "id": "XmOzc2rrcn8Q",
        "trusted": false,
        "colab": {
          "base_uri": "https://localhost:8080/",
          "height": 1000
        },
        "outputId": "cffc59e8-1a45-423a-ff94-d34be07a2cf8"
      },
      "source": [
        "### Тренування Cartpole! ###\n",
        "\n",
        "# Швидкість навчання та оптимізатор\n",
        "learning_rate = 1e-3\n",
        "optimizer = tf.keras.optimizers.Adam(learning_rate)\n",
        "\n",
        "# створення агенту\n",
        "cartpole_model = create_cartpole_model()\n",
        "\n",
        "# для слідкування за прогресом\n",
        "smoothed_reward = LossHistory(smoothing_factor=0.9)\n",
        "plotter = PeriodicPlotter(sec=2, xlabel='Iterations', ylabel='Rewards')\n",
        "\n",
        "if hasattr(tqdm, '_instances'): tqdm._instances.clear() # очистити якщо існує\n",
        "for i_episode in range(500):\n",
        "\n",
        "  plotter.plot(smoothed_reward.get())\n",
        "\n",
        "  # Перезапустити середовище\n",
        "  observation = env.reset()\n",
        "  memory.clear()\n",
        "\n",
        "  while True:\n",
        "      # на основі спостережень, вибрати дію та зробити її в середовищі\n",
        "      action = choose_action(cartpole_model, observation)\n",
        "      next_observation, reward, done, info = env.step(action)\n",
        "      # додати до пам'яті\n",
        "      memory.add_to_memory(observation, action, reward)\n",
        "\n",
        "      # епізод закінчився? сталася аварія, чи все так добре, що ми закінчили?\n",
        "      if done:\n",
        "          # Визначити сумарну винагороду та додати її\n",
        "          total_reward = sum(memory.rewards)\n",
        "          smoothed_reward.append(total_reward)\n",
        "\n",
        "          # почати тренування -- ми нічого не знаємо про те, як впорається агент до того, як він потрапить у аварію\n",
        "          train_step(cartpole_model, optimizer,\n",
        "                     observations=np.vstack(memory.observations),\n",
        "                     actions=np.array(memory.actions),\n",
        "                     discounted_rewards = discount_rewards(memory.rewards))\n",
        "\n",
        "          # очистити пам'ять\n",
        "          memory.clear()\n",
        "          break\n",
        "      # оновити спостереження\n",
        "      observation = next_observation"
      ],
      "execution_count": 17,
      "outputs": [
        {
          "output_type": "display_data",
          "data": {
            "text/plain": [
              "<Figure size 640x480 with 1 Axes>"
            ],
            "image/png": "[encoded data removed]"
          },
          "metadata": {}
        },
        {
          "output_type": "stream",
          "name": "stdout",
          "text": [
            "1/1 [==============================] - 0s 23ms/step\n",
            "1/1 [==============================] - 0s 17ms/step\n",
            "1/1 [==============================] - 0s 18ms/step\n",
            "1/1 [==============================] - 0s 17ms/step\n",
            "1/1 [==============================] - 0s 19ms/step\n",
            "1/1 [==============================] - 0s 20ms/step\n",
            "1/1 [==============================] - 0s 19ms/step\n",
            "1/1 [==============================] - 0s 19ms/step\n",
            "1/1 [==============================] - 0s 16ms/step\n",
            "1/1 [==============================] - 0s 18ms/step\n",
            "1/1 [==============================] - 0s 18ms/step\n",
            "1/1 [==============================] - 0s 17ms/step\n",
            "1/1 [==============================] - 0s 22ms/step\n",
            "1/1 [==============================] - 0s 16ms/step\n",
            "1/1 [==============================] - 0s 16ms/step\n",
            "1/1 [==============================] - 0s 20ms/step\n",
            "1/1 [==============================] - 0s 18ms/step\n",
            "1/1 [==============================] - 0s 19ms/step\n",
            "1/1 [==============================] - 0s 19ms/step\n",
            "1/1 [==============================] - 0s 17ms/step\n",
            "1/1 [==============================] - 0s 19ms/step\n",
            "1/1 [==============================] - 0s 18ms/step\n",
            "1/1 [==============================] - 0s 19ms/step\n",
            "1/1 [==============================] - 0s 17ms/step\n",
            "1/1 [==============================] - 0s 16ms/step\n",
            "1/1 [==============================] - 0s 18ms/step\n",
            "1/1 [==============================] - 0s 18ms/step\n",
            "1/1 [==============================] - 0s 19ms/step\n",
            "1/1 [==============================] - 0s 18ms/step\n",
            "1/1 [==============================] - 0s 17ms/step\n",
            "1/1 [==============================] - 0s 20ms/step\n",
            "1/1 [==============================] - 0s 20ms/step\n",
            "1/1 [==============================] - 0s 19ms/step\n",
            "1/1 [==============================] - 0s 18ms/step\n",
            "1/1 [==============================] - 0s 21ms/step\n",
            "1/1 [==============================] - 0s 18ms/step\n",
            "1/1 [==============================] - 0s 24ms/step\n",
            "1/1 [==============================] - 0s 19ms/step\n",
            "1/1 [==============================] - 0s 17ms/step\n",
            "1/1 [==============================] - 0s 18ms/step\n",
            "1/1 [==============================] - 0s 18ms/step\n",
            "1/1 [==============================] - 0s 19ms/step\n",
            "1/1 [==============================] - 0s 16ms/step\n",
            "1/1 [==============================] - 0s 17ms/step\n",
            "1/1 [==============================] - 0s 18ms/step\n",
            "1/1 [==============================] - 0s 17ms/step\n",
            "1/1 [==============================] - 0s 20ms/step\n",
            "1/1 [==============================] - 0s 20ms/step\n",
            "1/1 [==============================] - 0s 18ms/step\n",
            "1/1 [==============================] - 0s 19ms/step\n",
            "1/1 [==============================] - 0s 17ms/step\n",
            "1/1 [==============================] - 0s 19ms/step\n",
            "1/1 [==============================] - 0s 18ms/step\n",
            "1/1 [==============================] - 0s 34ms/step\n",
            "1/1 [==============================] - 0s 29ms/step\n",
            "1/1 [==============================] - 0s 28ms/step\n",
            "1/1 [==============================] - 0s 25ms/step\n",
            "1/1 [==============================] - 0s 27ms/step\n",
            "1/1 [==============================] - 0s 26ms/step\n",
            "1/1 [==============================] - 0s 26ms/step\n",
            "1/1 [==============================] - 0s 26ms/step\n",
            "1/1 [==============================] - 0s 41ms/step\n",
            "1/1 [==============================] - 0s 24ms/step\n",
            "1/1 [==============================] - 0s 24ms/step\n",
            "1/1 [==============================] - 0s 25ms/step\n",
            "1/1 [==============================] - 0s 25ms/step\n",
            "1/1 [==============================] - 0s 25ms/step\n",
            "1/1 [==============================] - 0s 26ms/step\n",
            "1/1 [==============================] - 0s 28ms/step\n",
            "1/1 [==============================] - 0s 25ms/step\n",
            "1/1 [==============================] - 0s 39ms/step\n",
            "1/1 [==============================] - 0s 30ms/step\n",
            "1/1 [==============================] - 0s 25ms/step\n",
            "1/1 [==============================] - 0s 25ms/step\n",
            "1/1 [==============================] - 0s 27ms/step\n",
            "1/1 [==============================] - 0s 25ms/step\n",
            "1/1 [==============================] - 0s 28ms/step\n",
            "1/1 [==============================] - 0s 29ms/step\n",
            "1/1 [==============================] - 0s 27ms/step\n",
            "1/1 [==============================] - 0s 26ms/step\n",
            "1/1 [==============================] - 0s 29ms/step\n",
            "1/1 [==============================] - 0s 27ms/step\n",
            "1/1 [==============================] - 0s 29ms/step\n",
            "1/1 [==============================] - 0s 17ms/step\n",
            "1/1 [==============================] - 0s 17ms/step\n",
            "1/1 [==============================] - 0s 17ms/step\n",
            "1/1 [==============================] - 0s 16ms/step\n",
            "1/1 [==============================] - 0s 17ms/step\n",
            "1/1 [==============================] - 0s 17ms/step\n",
            "1/1 [==============================] - 0s 17ms/step\n",
            "1/1 [==============================] - 0s 17ms/step\n",
            "1/1 [==============================] - 0s 18ms/step\n",
            "1/1 [==============================] - 0s 17ms/step\n",
            "1/1 [==============================] - 0s 20ms/step\n",
            "1/1 [==============================] - 0s 16ms/step\n",
            "1/1 [==============================] - 0s 18ms/step\n",
            "1/1 [==============================] - 0s 17ms/step\n",
            "1/1 [==============================] - 0s 17ms/step\n",
            "1/1 [==============================] - 0s 18ms/step\n",
            "1/1 [==============================] - 0s 18ms/step\n",
            "1/1 [==============================] - 0s 19ms/step\n",
            "1/1 [==============================] - 0s 17ms/step\n",
            "1/1 [==============================] - 0s 20ms/step\n",
            "1/1 [==============================] - 0s 20ms/step\n"
          ]
        },
        {
          "output_type": "display_data",
          "data": {
            "text/plain": [
              "<Figure size 640x480 with 1 Axes>"
            ],
            "image/png": "[encoded data removed]"
          },
          "metadata": {}
        }
      ]
    },
    {
      "cell_type": "markdown",
      "metadata": {
        "id": "mkcUtGF1VE-K"
      },
      "source": [
        "Для того щоб дізнатися як впорався агент, ми можемо зробити відео натренованої моделі в процесі балансування. Майте на увазі, що це повністю незнайоме для нього середовище!\n",
        "\n",
        "Давайте подивимося створене відео і побачимо, як впорався наш агент!\n"
      ]
    },
    {
      "cell_type": "code",
      "source": [
        "!sudo apt-get install xvfb"
      ],
      "metadata": {
        "colab": {
          "base_uri": "https://localhost:8080/"
        },
        "id": "vRPIAkE6eymd",
        "outputId": "dbde0b99-df81-4535-d032-85ed07164b63"
      },
      "execution_count": 20,
      "outputs": [
        {
          "output_type": "stream",
          "name": "stdout",
          "text": [
            "Reading package lists... Done\n",
            "Building dependency tree... Done\n",
            "Reading state information... Done\n",
            "The following additional packages will be installed:\n",
            "  libfontenc1 libxfont2 libxkbfile1 x11-xkb-utils xfonts-base xfonts-encodings\n",
            "  xfonts-utils xserver-common\n",
            "The following NEW packages will be installed:\n",
            "  libfontenc1 libxfont2 libxkbfile1 x11-xkb-utils xfonts-base xfonts-encodings\n",
            "  xfonts-utils xserver-common xvfb\n",
            "0 upgraded, 9 newly installed, 0 to remove and 18 not upgraded.\n",
            "Need to get 7,812 kB of archives.\n",
            "After this operation, 11.9 MB of additional disk space will be used.\n",
            "Get:1 http://archive.ubuntu.com/ubuntu jammy/main amd64 libfontenc1 amd64 1:1.1.4-1build3 [14.7 kB]\n",
            "Get:2 http://archive.ubuntu.com/ubuntu jammy/main amd64 libxfont2 amd64 1:2.0.5-1build1 [94.5 kB]\n",
            "Get:3 http://archive.ubuntu.com/ubuntu jammy/main amd64 libxkbfile1 amd64 1:1.1.0-1build3 [71.8 kB]\n",
            "Get:4 http://archive.ubuntu.com/ubuntu jammy/main amd64 x11-xkb-utils amd64 7.7+5build4 [172 kB]\n",
            "Get:5 http://archive.ubuntu.com/ubuntu jammy/main amd64 xfonts-encodings all 1:1.0.5-0ubuntu2 [578 kB]\n",
            "Get:6 http://archive.ubuntu.com/ubuntu jammy/main amd64 xfonts-utils amd64 1:7.7+6build2 [94.6 kB]\n",
            "Get:7 http://archive.ubuntu.com/ubuntu jammy/main amd64 xfonts-base all 1:1.0.5 [5,896 kB]\n",
            "Get:8 http://archive.ubuntu.com/ubuntu jammy-updates/main amd64 xserver-common all 2:21.1.4-2ubuntu1.7~22.04.1 [28.0 kB]\n",
            "Get:9 http://archive.ubuntu.com/ubuntu jammy-updates/universe amd64 xvfb amd64 2:21.1.4-2ubuntu1.7~22.04.1 [863 kB]\n",
            "Fetched 7,812 kB in 2s (5,121 kB/s)\n",
            "debconf: unable to initialize frontend: Dialog\n",
            "debconf: (No usable dialog-like program is installed, so the dialog based frontend cannot be used. at /usr/share/perl5/Debconf/FrontEnd/Dialog.pm line 78, <> line 9.)\n",
            "debconf: falling back to frontend: Readline\n",
            "debconf: unable to initialize frontend: Readline\n",
            "debconf: (This frontend requires a controlling tty.)\n",
            "debconf: falling back to frontend: Teletype\n",
            "dpkg-preconfigure: unable to re-open stdin: \n",
            "Selecting previously unselected package libfontenc1:amd64.\n",
            "(Reading database ... 120875 files and directories currently installed.)\n",
            "Preparing to unpack .../0-libfontenc1_1%3a1.1.4-1build3_amd64.deb ...\n",
            "Unpacking libfontenc1:amd64 (1:1.1.4-1build3) ...\n",
            "Selecting previously unselected package libxfont2:amd64.\n",
            "Preparing to unpack .../1-libxfont2_1%3a2.0.5-1build1_amd64.deb ...\n",
            "Unpacking libxfont2:amd64 (1:2.0.5-1build1) ...\n",
            "Selecting previously unselected package libxkbfile1:amd64.\n",
            "Preparing to unpack .../2-libxkbfile1_1%3a1.1.0-1build3_amd64.deb ...\n",
            "Unpacking libxkbfile1:amd64 (1:1.1.0-1build3) ...\n",
            "Selecting previously unselected package x11-xkb-utils.\n",
            "Preparing to unpack .../3-x11-xkb-utils_7.7+5build4_amd64.deb ...\n",
            "Unpacking x11-xkb-utils (7.7+5build4) ...\n",
            "Selecting previously unselected package xfonts-encodings.\n",
            "Preparing to unpack .../4-xfonts-encodings_1%3a1.0.5-0ubuntu2_all.deb ...\n",
            "Unpacking xfonts-encodings (1:1.0.5-0ubuntu2) ...\n",
            "Selecting previously unselected package xfonts-utils.\n",
            "Preparing to unpack .../5-xfonts-utils_1%3a7.7+6build2_amd64.deb ...\n",
            "Unpacking xfonts-utils (1:7.7+6build2) ...\n",
            "Selecting previously unselected package xfonts-base.\n",
            "Preparing to unpack .../6-xfonts-base_1%3a1.0.5_all.deb ...\n",
            "Unpacking xfonts-base (1:1.0.5) ...\n",
            "Selecting previously unselected package xserver-common.\n",
            "Preparing to unpack .../7-xserver-common_2%3a21.1.4-2ubuntu1.7~22.04.1_all.deb ...\n",
            "Unpacking xserver-common (2:21.1.4-2ubuntu1.7~22.04.1) ...\n",
            "Selecting previously unselected package xvfb.\n",
            "Preparing to unpack .../8-xvfb_2%3a21.1.4-2ubuntu1.7~22.04.1_amd64.deb ...\n",
            "Unpacking xvfb (2:21.1.4-2ubuntu1.7~22.04.1) ...\n",
            "Setting up libfontenc1:amd64 (1:1.1.4-1build3) ...\n",
            "Setting up xfonts-encodings (1:1.0.5-0ubuntu2) ...\n",
            "Setting up libxkbfile1:amd64 (1:1.1.0-1build3) ...\n",
            "Setting up libxfont2:amd64 (1:2.0.5-1build1) ...\n",
            "Setting up x11-xkb-utils (7.7+5build4) ...\n",
            "Setting up xfonts-utils (1:7.7+6build2) ...\n",
            "Setting up xfonts-base (1:1.0.5) ...\n",
            "Setting up xserver-common (2:21.1.4-2ubuntu1.7~22.04.1) ...\n",
            "Setting up xvfb (2:21.1.4-2ubuntu1.7~22.04.1) ...\n",
            "Processing triggers for man-db (2.10.2-1) ...\n",
            "Processing triggers for fontconfig (2.13.1-4.2ubuntu5) ...\n",
            "Processing triggers for libc-bin (2.35-0ubuntu3.1) ...\n",
            "/sbin/ldconfig.real: /usr/local/lib/libtbbbind.so.3 is not a symbolic link\n",
            "\n",
            "/sbin/ldconfig.real: /usr/local/lib/libtbbbind_2_5.so.3 is not a symbolic link\n",
            "\n",
            "/sbin/ldconfig.real: /usr/local/lib/libtbbmalloc.so.2 is not a symbolic link\n",
            "\n",
            "/sbin/ldconfig.real: /usr/local/lib/libtbbbind_2_0.so.3 is not a symbolic link\n",
            "\n",
            "/sbin/ldconfig.real: /usr/local/lib/libtbbmalloc_proxy.so.2 is not a symbolic link\n",
            "\n",
            "/sbin/ldconfig.real: /usr/local/lib/libtbb.so.12 is not a symbolic link\n",
            "\n"
          ]
        }
      ]
    },
    {
      "cell_type": "code",
      "metadata": {
        "id": "PAYBkv6Zbk0J",
        "trusted": false,
        "colab": {
          "base_uri": "https://localhost:8080/",
          "height": 615
        },
        "outputId": "5b026cbf-c6c0-4215-a79f-c131371758e5"
      },
      "source": [
        "saved_cartpole = save_video_of_model(cartpole_model, \"CartPole-v1\")\n",
        "play_video(saved_cartpole)"
      ],
      "execution_count": 21,
      "outputs": [
        {
          "output_type": "stream",
          "name": "stderr",
          "text": [
            "/usr/local/lib/python3.10/dist-packages/gym/core.py:317: DeprecationWarning: \u001b[33mWARN: Initializing wrapper in old step API which returns one bool instead of two. It is recommended to set `new_step_api=True` to use new step API. This will be the default behaviour in future.\u001b[0m\n",
            "  deprecation(\n",
            "/usr/local/lib/python3.10/dist-packages/gym/wrappers/step_api_compatibility.py:39: DeprecationWarning: \u001b[33mWARN: Initializing environment in old step API which returns one bool instead of two. It is recommended to set `new_step_api=True` to use new step API. This will be the default behaviour in future.\u001b[0m\n",
            "  deprecation(\n",
            "/usr/local/lib/python3.10/dist-packages/gym/core.py:43: DeprecationWarning: \u001b[33mWARN: The argument mode in render method is deprecated; use render_mode during environment initialization instead.\n",
            "See here for more information: https://www.gymlibrary.ml/content/api/\u001b[0m\n",
            "  deprecation(\n",
            "/usr/local/lib/python3.10/dist-packages/skvideo/io/abstract.py:514: DeprecationWarning: tostring() is deprecated. Use tobytes() instead.\n",
            "  self._proc.stdin.write(vid.tostring())\n"
          ]
        },
        {
          "output_type": "stream",
          "name": "stdout",
          "text": [
            "Successfully saved 459 frames into CartPole-v1.mp4!\n"
          ]
        },
        {
          "output_type": "execute_result",
          "data": {
            "text/plain": [
              "<IPython.core.display.HTML object>"
            ],
            "text/html": [
              "\n",
              "        <video controls >\n",
              "            <source src=\"data:video/mp4;base64,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\" type=\"video/mp4\" />\n",
              "        </video>"
            ]
          },
          "metadata": {},
          "execution_count": 21
        }
      ]
    },
    {
      "cell_type": "markdown",
      "metadata": {
        "id": "CSbVNDpaVb3_"
      },
      "source": [
        "Як все пройшло? Чи можливо зменшити час тренування та все ще показати гарний результат? Чи збільшення часу тренування дасть кращий результат?"
      ]
    },
    {
      "cell_type": "markdown",
      "metadata": {
        "id": "Eu6Mqxc720ST"
      },
      "source": [
        "## Частина 2: Pong\n",
        "\n",
        "У Cartpole ми працювали зі статичним середовищем -- іншими словами, воно не змінювалося із часом. Але що відбудеться, якщо наше середовище буде динамчним та непередбачуваним? Саме це відбувається у [Pong](https://en.wikipedia.org/wiki/Pong), оскільки частиною середовища є наш опонент. Ми не знаємо, як опонент будет реагувати на наші дії, а тому збільшується складність задачі. Задача також стає значно цікавішою, адже ми можемо навчитися перемагати нашого опонента. НП дає нам потужний інструмент для тренування систем штучного інтелекту з можливістю взаємодії з динамічним та непередбачуваним середовищем. У цій частині роботи ми використаємо ті самі інструменти, що і у першій частині, для побудови НП агенту, здатного грату в гру Pong.\n"
      ]
    },
    {
      "cell_type": "markdown",
      "metadata": {
        "id": "srZ4YE29isuA"
      },
      "source": [
        "## 3.6 Визначення та вивчення середовища Pong\n",
        "\n",
        "Як і з Cartpole, ми створемо середовище Pong у OpenAI gym з seed рівним 1."
      ]
    },
    {
      "cell_type": "code",
      "metadata": {
        "id": "lbYHLr66i15n",
        "trusted": false,
        "colab": {
          "base_uri": "https://localhost:8080/"
        },
        "outputId": "788dae2e-638e-4b1b-d5e0-dd5ae15e89ea"
      },
      "source": [
        "env = gym.make(\"Pong-v4\", frameskip=5)\n",
        "env.seed(1) # для відтворюваності"
      ],
      "execution_count": 23,
      "outputs": [
        {
          "output_type": "execute_result",
          "data": {
            "text/plain": [
              "(1835504127, 1731038949)"
            ]
          },
          "metadata": {},
          "execution_count": 23
        }
      ]
    },
    {
      "cell_type": "markdown",
      "metadata": {
        "id": "52uZ2Xhyi-MW"
      },
      "source": [
        "Тепер давайте подумаємо про простір спостереження середовища Pong. Замість фізичного опису моделі з чотирьох складових, як ми зробили у Cartpole, у Pong нашими спостереженнями будуть окремі кадри відео, на яких зображено стан ігрового поля. Таким чином, спостерженнями є окремі RGB картинки з роздільною здатністю 210x160 RGB та розмірністю (210,160,3).\n",
        "\n",
        "Зному ж таки, ми можемо перевірити це, вивівши простір спостереження на екран:"
      ]
    },
    {
      "cell_type": "code",
      "metadata": {
        "id": "0yX4GWvxjnHS",
        "trusted": false,
        "colab": {
          "base_uri": "https://localhost:8080/"
        },
        "outputId": "323bb2a9-4e09-47da-ef36-d75b630c62ea"
      },
      "source": [
        "print(\"Environment has observation space =\", env.observation_space)"
      ],
      "execution_count": 24,
      "outputs": [
        {
          "output_type": "stream",
          "name": "stdout",
          "text": [
            "Environment has observation space = Box(0, 255, (210, 160, 3), uint8)\n"
          ]
        }
      ]
    },
    {
      "cell_type": "markdown",
      "metadata": {
        "id": "uuEC2TdSjx9D"
      },
      "source": [
        "У грі Pong на кожному кроці агент (що контролює дощечку) має на вибір 6 дій: не робити нічного, рухатися направо, наліво, стріляти, стріляти направо, стріляти наліво. Давайте підтвердимо розмір простору дій:"
      ]
    },
    {
      "cell_type": "code",
      "metadata": {
        "id": "Iuy9oPc1kag3",
        "trusted": false,
        "colab": {
          "base_uri": "https://localhost:8080/"
        },
        "outputId": "69ec37f0-595d-42a5-fc2a-8f7c92db632d"
      },
      "source": [
        "n_actions = env.action_space.n\n",
        "print(\"Number of possible actions that the agent can choose from =\", n_actions)"
      ],
      "execution_count": 25,
      "outputs": [
        {
          "output_type": "stream",
          "name": "stdout",
          "text": [
            "Number of possible actions that the agent can choose from = 6\n"
          ]
        }
      ]
    },
    {
      "cell_type": "markdown",
      "metadata": {
        "id": "9-fghDRigUE5"
      },
      "source": [
        "## 3.7 Визначення агенту Pong\n",
        "\n",
        "Як і раніше, ми використаємо нейронну мережу для задання нашого агента. Яка, на вашу думку, архітектура мережі найкраще підійде для цієї гри? Оскільки нашими спостереженнями є картинки, ми додамо згорткові шари до мережі для підвищення якості навчання."
      ]
    },
    {
      "cell_type": "code",
      "metadata": {
        "id": "IJiqbFYpgYRH",
        "trusted": false
      },
      "source": [
        "### Визначення агента Pong ###\n",
        "\n",
        "# Функціонально задаємо шари для зручності\n",
        "# Усі згорткові шари матимуть активаційну функцію ReLu\n",
        "Conv2D = functools.partial(tf.keras.layers.Conv2D, padding='same', activation='relu')\n",
        "Flatten = tf.keras.layers.Flatten\n",
        "Dense = tf.keras.layers.Dense\n",
        "\n",
        "# Задамо CNN для агенту Pong\n",
        "def create_pong_model():\n",
        "  model = tf.keras.models.Sequential([\n",
        "    # Згорткові шари\n",
        "    # Спочатку, 16 7x7 фільтрів та 4x4 stride\n",
        "    Conv2D(filters=16, kernel_size=7, strides=4),\n",
        "\n",
        "    Conv2D(filters=32, kernel_size=5, strides=2),\n",
        "\n",
        "    Conv2D(filters=48, kernel_size=3, strides=2),\n",
        "\n",
        "    Flatten(),\n",
        "\n",
        "    # Повнозв'язний шар та вихід\n",
        "    Dense(units=64, activation='relu'),\n",
        "    # Зверніть увагу на розмірність простору дій агента\n",
        "    Dense(units=n_actions, activation=None)\n",
        "\n",
        "  ])\n",
        "  return model\n",
        "\n",
        "pong_model = create_pong_model()"
      ],
      "execution_count": 26,
      "outputs": []
    },
    {
      "cell_type": "markdown",
      "metadata": {
        "id": "yaeZ067olFiJ"
      },
      "source": [
        "Оскільки ми уже визначали функцію дій, `choose_action(model, observation)`, ще раз це робити нам не потрібно. Замість цього, ми зможемо використати її ще раз пізніше, передавши її до нової моделі, `pong_model`. Це чудово, оскільки наша функція дій є модульною та загальною для будь-яких НП агентів!"
      ]
    },
    {
      "cell_type": "markdown",
      "metadata": {
        "id": "l0RvqOVkmc2r"
      },
      "source": [
        "## 3.8 Сцецифічні для Pong функції\n",
        "\n",
        "У першій частині (Cartpole), ми зробили декілька спеціальних функцій для побудови та тренування нашого НП агента -- `choose_action(model, observation)` та клас `Memory`, наприклад. Однак для того аби використати їх у нашій грі Pong, нам потрібно зробити декілька невеликих модифікацій.\n",
        "\n",
        "Наприклад, потрібно визначити, що буде, коли гра закінчиться. У Pong, ми знаємо що гра закінчилась якщо вінагорода складає +1 (ми перемогли!) або -1 (ми програли). В інших випадках, ми очікуємо нульову винагороду на кожному кроці -- гравці змагаються один з одним. Тому, коли гра закінчиться, нам потрібно буде зкинути винагороду до 0. Тому функція винагороди зміниться."
      ]
    },
    {
      "cell_type": "code",
      "metadata": {
        "id": "iEZG2o50luLu",
        "trusted": false
      },
      "source": [
        "### Функція винагороди Pong ###\n",
        "\n",
        "# Обчислимо нормалізовані та знижкові винагороди для Pong (тобто повернення)\n",
        "# Аргументи:\n",
        "#   rewards: винагорода на кожному кроці епізоду\n",
        "#   gamma: множник знижки. Ми підвищили його до 0.99 -- менший ступінь зменшення із часом.\n",
        "# Повертає:\n",
        "#   нормалізовану знижкову винагороду\n",
        "def discount_rewards(rewards, gamma=0.99):\n",
        "  discounted_rewards = np.zeros_like(rewards)\n",
        "  R = 0\n",
        "  for t in reversed(range(0, len(rewards))):\n",
        "      # Нове: онуляємо суму, якщо винагорода не рівна нулю (гра закінчилась)\n",
        "      if rewards[t] != 0:\n",
        "        R = 0\n",
        "      # оновлюємо загальну знижкову винагороду, як і раніше\n",
        "      R = R * gamma + rewards[t]\n",
        "      discounted_rewards[t] = R\n",
        "\n",
        "  return normalize(discounted_rewards)"
      ],
      "execution_count": 27,
      "outputs": []
    },
    {
      "cell_type": "markdown",
      "metadata": {
        "id": "HopLpb4IoOqA"
      },
      "source": [
        "Також нам потрібно подумати про природу спостережень у середовищі Pong, і як вона буде передаватися до нашої мережі. Перед тим як передавати картинку у наши мережу, ми зробимо невеличку обробку зображення, а саме обріжемо та розтягнемо його, почистимо задній план до єдиного кольору, а також переведемо важливі компоненти гри в один колір. Давайте візуалізуємо, як буде виглядати кадр до та після обробки."
      ]
    },
    {
      "cell_type": "code",
      "metadata": {
        "id": "no5IIYtFm8pI",
        "trusted": false,
        "colab": {
          "base_uri": "https://localhost:8080/",
          "height": 421
        },
        "outputId": "40743229-cd4d-400a-c745-edcd334f91e4"
      },
      "source": [
        "observation = env.reset()\n",
        "for i in range(30):\n",
        "  observation, _,_,_ = env.step(0)\n",
        "observation_pp = preprocess_pong(observation)\n",
        "\n",
        "f = plt.figure(figsize=(10,3))\n",
        "ax = f.add_subplot(121)\n",
        "ax2 = f.add_subplot(122)\n",
        "ax.imshow(observation); ax.grid(False);\n",
        "ax2.imshow(np.squeeze(observation_pp)); ax2.grid(False); plt.title('Preprocessed Observation');"
      ],
      "execution_count": 28,
      "outputs": [
        {
          "output_type": "stream",
          "name": "stderr",
          "text": [
            "/usr/local/lib/python3.10/dist-packages/gym/utils/passive_env_checker.py:227: DeprecationWarning: \u001b[33mWARN: Core environment is written in old step API which returns one bool instead of two. It is recommended to rewrite the environment with new step API. \u001b[0m\n",
            "  logger.deprecation(\n",
            "<ipython-input-3-5eac7ab425fd>:20: DeprecationWarning: `np.float` is a deprecated alias for the builtin `float`. To silence this warning, use `float` by itself. Doing this will not modify any behavior and is safe. If you specifically wanted the numpy scalar type, use `np.float64` here.\n",
            "Deprecated in NumPy 1.20; for more details and guidance: https://numpy.org/devdocs/release/1.20.0-notes.html#deprecations\n",
            "  return I.astype(np.float)\n"
          ]
        },
        {
          "output_type": "display_data",
          "data": {
            "text/plain": [
              "<Figure size 1000x300 with 2 Axes>"
            ],
            "image/png": "[encoded data removed]"
          },
          "metadata": {}
        }
      ]
    },
    {
      "cell_type": "markdown",
      "metadata": {
        "id": "bYwIWC-Cz8F2"
      },
      "source": [
        "Що ви помітили? Як можуть ці зміни бути важливими для тренування нашого НП алгоритму?"
      ]
    },
    {
      "cell_type": "markdown",
      "metadata": {
        "id": "mRqcaDQ1pm3x"
      },
      "source": [
        "## 3.9 Тренування Pong\n",
        "\n",
        "Тепер ми готові до початку тренування нашого НП алгоритму та агенту для гри у Pong!\n",
        "Ми вже визначили нашу функцію втрат -- `compute_loss`, яка використовує стратегію вивчення градієнту, а також нашу функцію кроку backpropagation з `train_step`! Ми будемо використовувати ці функції для тренування агенту Pong agent. Давайте пройдемося по блокам тренування.\n",
        "\n",
        "У грі Pong, замість того щоб передавати нашій мережі одну картинку в один момент часу, натомість краще буде передавати різницю між двома сусідніми спостереженнями, що дає нам інформацію про зміщення між кадрами -- як змінюється гра. Спочатку ми обробимо початкові спостерження, `x`, а потім підрахуємо різницю від попереднього зображення.\n",
        "\n",
        "Ця зміна спостереження пройде крізь нашого агента Pong, модель мережі CNN, що потім прийме рішення щодо наступної дії, базуючись на цьому спостереженні. Буде порахована звичайна винагорода, після чого спостереження, дія та винагорода будуть збережені до пам'яті. Це буде продовжуватися доки не закінчиться епізод тренування, тобто сама гра.\n",
        "\n",
        "Далі ми підрахуємо знижкову винагороду, і використаємо цю інформацію для виконання кроку тренування. Пам'ять буде стерта, і ми зробимо все спочатку!\n",
        "\n",
        "Давайте запустимо блок коду для тренування нашого агента Pong. Зверніть увагу, що сам процес тренування на цей раз займе значно більше часу (декілька годин). Потім ми зному зробимо візуалізацію остаточних винагород як функцію від тренування, для того щоб побачити як тренується агент."
      ]
    },
    {
      "cell_type": "code",
      "metadata": {
        "id": "xCwyQQrPnkZG",
        "trusted": false,
        "colab": {
          "base_uri": "https://localhost:8080/",
          "height": 248
        },
        "outputId": "229b2699-4674-4cae-8a50-92a39ff2a11c"
      },
      "source": [
        "### Тренування Pong ###\n",
        "\n",
        "# Гіперпараметри\n",
        "learning_rate=1e-4\n",
        "MAX_ITERS = 4 # Збільште максимальну кількість епізодів до 1000\n",
        "\n",
        "# Модель та оптимізатор\n",
        "pong_model = create_pong_model()\n",
        "optimizer = tf.keras.optimizers.Adam(learning_rate)\n",
        "\n",
        "# побудова графіків\n",
        "smoothed_reward = LossHistory(smoothing_factor=0.9)\n",
        "plotter = PeriodicPlotter(sec=5, xlabel='Iterations', ylabel='Rewards')\n",
        "memory = Memory()\n",
        "\n",
        "for i_episode in range(MAX_ITERS):\n",
        "\n",
        "  plotter.plot(smoothed_reward.get())\n",
        "\n",
        "  # Перезапускаємо середовище\n",
        "  observation = env.reset()\n",
        "  previous_frame = preprocess_pong(observation)\n",
        "\n",
        "  while True:\n",
        "      # Обробляємо картинку\n",
        "      current_frame = preprocess_pong(observation)\n",
        "\n",
        "      obs_change = current_frame - previous_frame\n",
        "\n",
        "      action = choose_action(pong_model, obs_change)\n",
        "      # Зробимо вибрану дію\n",
        "      next_observation, reward, done, info = env.step(action)\n",
        "\n",
        "      memory.add_to_memory(obs_change, action, reward)\n",
        "\n",
        "      # епізод закінчився?\n",
        "      if done:\n",
        "          # визначимо загальну винагороду та запам'ятаємо її\n",
        "          total_reward = sum(memory.rewards)\n",
        "          smoothed_reward.append( total_reward )\n",
        "\n",
        "          # починаємо тренування\n",
        "          train_step(pong_model,\n",
        "                     optimizer,\n",
        "                     observations = np.stack(memory.observations, 0),\n",
        "                     actions = np.array(memory.actions),\n",
        "                     discounted_rewards = discount_rewards(memory.rewards))\n",
        "\n",
        "          memory.clear()\n",
        "          break\n",
        "\n",
        "      observation = next_observation\n",
        "      previous_frame = current_frame"
      ],
      "execution_count": 2,
      "outputs": [
        {
          "output_type": "error",
          "ename": "NameError",
          "evalue": "ignored",
          "traceback": [
            "\u001b[0;31m---------------------------------------------------------------------------\u001b[0m",
            "\u001b[0;31mNameError\u001b[0m                                 Traceback (most recent call last)",
            "\u001b[0;32m<ipython-input-2-9341a0679bf3>\u001b[0m in \u001b[0;36m<cell line: 8>\u001b[0;34m()\u001b[0m\n\u001b[1;32m      6\u001b[0m \u001b[0;34m\u001b[0m\u001b[0m\n\u001b[1;32m      7\u001b[0m \u001b[0;31m# Модель та оптимізатор\u001b[0m\u001b[0;34m\u001b[0m\u001b[0;34m\u001b[0m\u001b[0m\n\u001b[0;32m----> 8\u001b[0;31m \u001b[0mpong_model\u001b[0m \u001b[0;34m=\u001b[0m \u001b[0mcreate_pong_model\u001b[0m\u001b[0;34m(\u001b[0m\u001b[0;34m)\u001b[0m\u001b[0;34m\u001b[0m\u001b[0;34m\u001b[0m\u001b[0m\n\u001b[0m\u001b[1;32m      9\u001b[0m \u001b[0moptimizer\u001b[0m \u001b[0;34m=\u001b[0m \u001b[0mtf\u001b[0m\u001b[0;34m.\u001b[0m\u001b[0mkeras\u001b[0m\u001b[0;34m.\u001b[0m\u001b[0moptimizers\u001b[0m\u001b[0;34m.\u001b[0m\u001b[0mAdam\u001b[0m\u001b[0;34m(\u001b[0m\u001b[0mlearning_rate\u001b[0m\u001b[0;34m)\u001b[0m\u001b[0;34m\u001b[0m\u001b[0;34m\u001b[0m\u001b[0m\n\u001b[1;32m     10\u001b[0m \u001b[0;34m\u001b[0m\u001b[0m\n",
            "\u001b[0;31mNameError\u001b[0m: name 'create_pong_model' is not defined"
          ]
        }
      ]
    },
    {
      "cell_type": "markdown",
      "metadata": {
        "id": "8LiEY5Y_ts-Z"
      },
      "source": [
        "Нарешті, тепер ми можемо перевірити, як натренувався наш агент. Він зіграє у ново-створеному середовищі Pong проти комп'ютера, базової системи штучного інтелекту для Pong. Наш агент грає за зелену дощечку. Давайте подивимось на матч!"
      ]
    },
    {
      "cell_type": "code",
      "metadata": {
        "id": "TvHXbkL0tR6M",
        "trusted": false,
        "colab": {
          "base_uri": "https://localhost:8080/",
          "height": 230
        },
        "outputId": "d547a60c-3491-4a07-d085-db60534b6133"
      },
      "source": [
        "saved_pong = save_video_of_model(\n",
        "    pong_model, \"Pong-v4\", obs_diff=True,\n",
        "    pp_fn=preprocess_pong)\n",
        "play_video(saved_pong)"
      ],
      "execution_count": 1,
      "outputs": [
        {
          "output_type": "error",
          "ename": "NameError",
          "evalue": "ignored",
          "traceback": [
            "\u001b[0;31m---------------------------------------------------------------------------\u001b[0m",
            "\u001b[0;31mNameError\u001b[0m                                 Traceback (most recent call last)",
            "\u001b[0;32m<ipython-input-1-82ae425ed3ee>\u001b[0m in \u001b[0;36m<cell line: 1>\u001b[0;34m()\u001b[0m\n\u001b[0;32m----> 1\u001b[0;31m saved_pong = save_video_of_model(\n\u001b[0m\u001b[1;32m      2\u001b[0m     \u001b[0mpong_model\u001b[0m\u001b[0;34m,\u001b[0m \u001b[0;34m\"Pong-v4\"\u001b[0m\u001b[0;34m,\u001b[0m \u001b[0mobs_diff\u001b[0m\u001b[0;34m=\u001b[0m\u001b[0;32mTrue\u001b[0m\u001b[0;34m,\u001b[0m\u001b[0;34m\u001b[0m\u001b[0;34m\u001b[0m\u001b[0m\n\u001b[1;32m      3\u001b[0m     pp_fn=preprocess_pong)\n\u001b[1;32m      4\u001b[0m \u001b[0mplay_video\u001b[0m\u001b[0;34m(\u001b[0m\u001b[0msaved_pong\u001b[0m\u001b[0;34m)\u001b[0m\u001b[0;34m\u001b[0m\u001b[0;34m\u001b[0m\u001b[0m\n",
            "\u001b[0;31mNameError\u001b[0m: name 'save_video_of_model' is not defined"
          ]
        }
      ]
    },
    {
      "cell_type": "markdown",
      "metadata": {
        "id": "Q1GElzkfngMQ"
      },
      "source": [
        "## 3.10 Висновки\n",
        "\n",
        "На цьому все! Вітаємо з тренуванням двох агентів та перевіркою їх роботи! Пропонуємо дати відповідь на такі питання:\n",
        "\n",
        "*   Як показав себе агент на практиці для кожного середовища?\n",
        "\n",
        "*   Чи можна витратити менше часу на тренування та все ще показати гарний результат?\n",
        "\n",
        "*   Чи вважаєте ви, що збільшуючи час навчання агентта ми могли б покращити результат ще більше?\n",
        "\n",
        "* Як складність між Pong та Cartpole впливає на швидкість тренування та загальний результат?\n",
        "\n",
        "* Які речі можна змінити у агенті або процесі навчання для того аби покращити результат?"
      ]
    }
  ]
}