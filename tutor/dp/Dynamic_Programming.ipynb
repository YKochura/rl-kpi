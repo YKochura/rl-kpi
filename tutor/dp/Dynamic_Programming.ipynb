{
  "nbformat": 4,
  "nbformat_minor": 0,
  "metadata": {
    "colab": {
      "name": "Dynamic Programming.ipynb",
      "provenance": [],
      "collapsed_sections": []
    },
    "kernelspec": {
      "name": "python3",
      "display_name": "Python 3"
    },
    "language_info": {
      "name": "python"
    }
  },
  "cells": [
    {
      "cell_type": "markdown",
      "metadata": {
        "id": "FFt85FyjDbHm"
      },
      "source": [
        "<a href=\"https://colab.research.google.com/github/YKochura/rl-kpi/blob/main/tutor/dp/Dynamic_Programming.ipynb\" target=\"_parent\"><img src=\"https://colab.research.google.com/assets/colab-badge.svg\" alt=\"Open In Colab\"/></a>"
      ]
    },
    {
      "cell_type": "markdown",
      "metadata": {
        "id": "2OmSAch9bPpL"
      },
      "source": [
        "## Динамічне програмування"
      ]
    },
    {
      "cell_type": "code",
      "metadata": {
        "id": "XGDI6FoUQ2W0"
      },
      "source": [
        "def fib(n):\n",
        "    if n <= 1:\n",
        "        return n\n",
        "    else:\n",
        "        return fib(n - 1) + fib(n - 2)"
      ],
      "execution_count": 1,
      "outputs": []
    },
    {
      "cell_type": "code",
      "metadata": {
        "colab": {
          "base_uri": "https://localhost:8080/"
        },
        "id": "AAO1jlMMQ7kp",
        "outputId": "dfec5159-62a8-4c8f-b5f4-67541e46dc88"
      },
      "source": [
        "fib(10)"
      ],
      "execution_count": 2,
      "outputs": [
        {
          "output_type": "execute_result",
          "data": {
            "text/plain": [
              "55"
            ]
          },
          "metadata": {},
          "execution_count": 2
        }
      ]
    },
    {
      "cell_type": "code",
      "metadata": {
        "id": "uByRnH-vQ_pN"
      },
      "source": [
        "mem = {0:0, 1:1}\n",
        "\n",
        "def fib_mem(n):\n",
        "    if n not in mem:\n",
        "        mem[n] = fib(n - 1) + fib(n - 2)\n",
        "    return mem[n]"
      ],
      "execution_count": 3,
      "outputs": []
    },
    {
      "cell_type": "code",
      "metadata": {
        "colab": {
          "base_uri": "https://localhost:8080/"
        },
        "id": "S4dS-aDvRCpM",
        "outputId": "aba6a9b5-5170-479a-a631-87f60c0df620"
      },
      "source": [
        "fib_mem(10)"
      ],
      "execution_count": 4,
      "outputs": [
        {
          "output_type": "execute_result",
          "data": {
            "text/plain": [
              "55"
            ]
          },
          "metadata": {},
          "execution_count": 4
        }
      ]
    },
    {
      "cell_type": "markdown",
      "metadata": {
        "id": "noNNk6QHVwGG"
      },
      "source": [
        "[timeit](https://docs.python.org/3/library/timeit.html)\n",
        "\n",
        "`timeit` is more accurate then `time`, for three reasons:\n",
        "\n",
        "     \n",
        "\n",
        "*   it repeats the tests many times to eliminate the influence of other tasks on your machine, such as disk flushing and OS scheduling.\n",
        "*   it disables the garbage collector to prevent that process from skewing the results by scheduling a collection run at an inopportune moment.\n",
        "*  it picks the most accurate timer for your OS\n",
        "    \n",
        "   "
      ]
    },
    {
      "cell_type": "code",
      "metadata": {
        "colab": {
          "base_uri": "https://localhost:8080/"
        },
        "id": "LR9gv2pQRFWA",
        "outputId": "98041c38-e3d5-444e-a134-2eb859c18dbb"
      },
      "source": [
        "%timeit fib(38)\n",
        "# We get 17.3 seconds to run with n=38\n"
      ],
      "execution_count": 5,
      "outputs": [
        {
          "output_type": "stream",
          "name": "stdout",
          "text": [
            "1 loop, best of 5: 17.3 s per loop\n"
          ]
        }
      ]
    },
    {
      "cell_type": "code",
      "metadata": {
        "colab": {
          "base_uri": "https://localhost:8080/"
        },
        "id": "BzFbGVJMRVb6",
        "outputId": "d06a71ab-1320-49f4-e41c-ab079429635c"
      },
      "source": [
        "%timeit fib_mem(38)\n",
        "# We get 292  ns to run with n=38"
      ],
      "execution_count": 6,
      "outputs": [
        {
          "output_type": "stream",
          "name": "stdout",
          "text": [
            "The slowest run took 59345940.87 times longer than the fastest. This could mean that an intermediate result is being cached.\n",
            "1 loop, best of 5: 292 ns per loop\n"
          ]
        }
      ]
    },
    {
      "cell_type": "code",
      "metadata": {
        "colab": {
          "base_uri": "https://localhost:8080/"
        },
        "id": "KfP8Lwn0SCCo",
        "outputId": "02ef1da1-3c21-4237-a029-fa693dae0d09"
      },
      "source": [
        "mem"
      ],
      "execution_count": 7,
      "outputs": [
        {
          "output_type": "execute_result",
          "data": {
            "text/plain": [
              "{0: 0, 1: 1, 10: 55, 38: 39088169}"
            ]
          },
          "metadata": {},
          "execution_count": 7
        }
      ]
    }
  ]
}