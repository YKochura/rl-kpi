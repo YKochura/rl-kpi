{
  "nbformat": 4,
  "nbformat_minor": 0,
  "metadata": {
    "colab": {
      "name": "EEML2022_RL_Tutorial",
      "provenance": [],
      "collapsed_sections": [
        "c-H2d6UZi7Sf"
      ]
    },
    "kernelspec": {
      "display_name": "Python 3",
      "name": "python3"
    }
  },
  "cells": [
    {
      "cell_type": "markdown",
      "metadata": {
        "id": "ULdrhOaVbsdO"
      },
      "source": [
        "#RL Tutorial \n",
        "\n",
        "<a href=\"https://colab.research.google.com/github/eemlcommunity/PracticalSessions2022/blob/master/rl/EEML2022_RL_Tutorial.ipynb\" target=\"_parent\"><img src=\"https://colab.research.google.com/assets/colab-badge.svg\" alt=\"Open In Colab\"/></a>\n",
        "\n",
        "Contact us at feryal@google.com & gcomanici@google.com for any questions/comments :)\n",
        "\n",
        "Special thanks to Anita Gergely and Bobak Shahriari.\n",
        "\n",
        "\n",
        "\n"
      ]
    },
    {
      "cell_type": "markdown",
      "metadata": {
        "id": "Dv-846KxIqPD"
      },
      "source": [
        "The tutorial covers a number of important reinforcement learning (RL) algorithms, including policy iteration, Q-Learning, and Neural Fitted Q. In the first part, we will guide you through the general interaction between RL agents and environments, where the agents ought to take actions in order to maximize returns (i.e. cumulative reward). Next, we will implement Policy Iteration, SARSA, and Q-Learning for a simple tabular environment. The core ideas in the latter will be scaled to more complex MDPs through the use of function approximation. Lastly, we will provide a short introduction to deep reinforcement learning and the DQN algorithm.\n"
      ]
    },
    {
      "cell_type": "markdown",
      "metadata": {
        "id": "ffeeXVm4AuZ6"
      },
      "source": [
        "# Overview"
      ]
    },
    {
      "cell_type": "markdown",
      "metadata": {
        "id": "kT8rkxTUAZzL"
      },
      "source": [
        "The agent interacts with the environment in a loop corresponding to the following diagram. The environment defines a set of <font color='blue'>**actions**</font>  that an agent can take.  The agent takes an action informed by the <font color='red'>**observations**</font> it recieves, and will get a <font color='green'>**reward**</font> from the environment after each action. The goal in RL is to find an agent whose actions maximize the total accumulation of rewards obtained from the environment. \n",
        "\n",
        "\n",
        "<center><img src=\"https://drive.google.com/uc?id=1sVOD2Ux5F_1Yq3KjyLOKFjFm2WRNTbIH\" width=\"500\" /></center>\n",
        "\n",
        "The tutorial is mainly focused on **value based methods**: agents are maintaining a value for all state-action pairs and use those estimates to choose actions that maximize that value (instead of maintaining a policy directly, like in policy gradient methods). \n",
        "\n",
        "We represent the action-value function (otherwise known as Q-function) associated with following/employing a policy $\\pi$ in a given MDP as:\n",
        "\n",
        "$$ Q^{\\pi}(\\color{red}{s},\\color{blue}{a}) = \\mathbb{E}_{\\tau \\sim P^{\\pi}} \\left[ \\sum_t \\gamma^t \\color{green}{R_t}| s_0=\\color{red}s,a=\\color{blue}{a_0} \\right]$$\n",
        "\n",
        "where $\\tau = \\{\\color{red}{s_0}, \\color{blue}{a_0}, \\color{green}{r_0}, \\color{red}{s_1}, \\color{blue}{a_1}, \\color{green}{r_1}, \\cdots \\}$\n",
        "\n",
        "Recall that efficient value estimations are based on the famous **_Bellman Optimallity Equation_**:\n",
        "\n",
        "$$ Q^\\pi(\\color{red}{s},\\color{blue}{a}) =  \\color{green}{r}(\\color{red}{s},\\color{blue}{a}) + \\gamma  \\sum_{\\color{red}{s'}\\in \\color{red}{\\mathcal{S}}} P(\\color{red}{s'} |\\color{red}{s},\\color{blue}{a}) V^\\pi(\\color{red}{s'}) $$\n",
        "\n",
        "where $V^\\pi$ is the expected $Q^\\pi$ value for a particular state, i.e. $V^\\pi(\\color{red}{s}) = \\sum_{\\color{blue}{a} \\in \\color{blue}{\\mathcal{A}}} \\pi(\\color{blue}{a} |\\color{red}{s}) Q^\\pi(\\color{red}{s},\\color{blue}{a})$."
      ]
    },
    {
      "cell_type": "markdown",
      "metadata": {
        "id": "xaJxoatMhJ71"
      },
      "source": [
        "## Installation"
      ]
    },
    {
      "cell_type": "markdown",
      "metadata": {
        "id": "ovuCuHCC78Zu"
      },
      "source": [
        "### Install required libraries\n",
        "\n",
        "1. [Acme](https://github.com/deepmind/acme) is a library of reinforcement learning (RL) agents and agent building blocks. Acme strives to expose simple, efficient, and readable agents, that serve both as reference implementations of popular algorithms and as strong baselines, while still providing enough flexibility to do novel research. The design of Acme also attempts to provide multiple points of entry to the RL problem at differing levels of complexity.\n",
        "\n",
        "\n",
        "2. [Haiku](https://github.com/deepmind/dm-haiku) is a simple neural network library for JAX developed by some of the authors of Sonnet, a neural network library for TensorFlow.\n",
        "\n",
        "3. [dm_env](https://github.com/deepmind/dm_env): DeepMind Environment API, which will be covered in more details in the [Environment subsection](https://colab.research.google.com/drive/1oKyyhOFAFSBTpVnmuOm9HXh5D5ekqhh5#scrollTo=I6KuVGSk4uc9) below."
      ]
    },
    {
      "cell_type": "code",
      "metadata": {
        "id": "KH3O0zcXUeun"
      },
      "source": [
        "#@title Installations  { form-width: \"30%\" }\n",
        "\n",
        "!pip install dm-acme\n",
        "!pip install dm-acme[reverb]\n",
        "!pip install dm-acme[jax]\n",
        "!pip install dm-acme[tf]\n",
        "!pip install dm-acme[envs]\n",
        "!pip install dm-env\n",
        "!pip install dm-haiku\n",
        "!sudo apt-get install -y xvfb ffmpeg\n",
        "!pip install imageio\n",
        "\n",
        "from IPython.display import clear_output\n",
        "clear_output()"
      ],
      "execution_count": 53,
      "outputs": []
    },
    {
      "cell_type": "markdown",
      "metadata": {
        "id": "c-H2d6UZi7Sf"
      },
      "source": [
        "## Import Modules"
      ]
    },
    {
      "cell_type": "code",
      "metadata": {
        "id": "HJ74Id-8MERq"
      },
      "source": [
        "#@title Imports  { form-width: \"30%\" }\n",
        "%matplotlib inline\n",
        "\n",
        "import IPython\n",
        "\n",
        "import acme\n",
        "from acme import environment_loop\n",
        "from acme import datasets\n",
        "from acme import specs\n",
        "from acme import wrappers\n",
        "from acme.wrappers import gym_wrapper\n",
        "from acme.agents.jax import dqn\n",
        "from acme.adders import reverb as adders\n",
        "from acme.utils import counting\n",
        "from acme.utils import loggers\n",
        "import base64\n",
        "import collections\n",
        "from collections import namedtuple\n",
        "import dm_env\n",
        "import enum\n",
        "import functools\n",
        "import gym\n",
        "import haiku as hk\n",
        "import io\n",
        "import imageio\n",
        "import itertools\n",
        "import jax\n",
        "from jax import tree_util\n",
        "# from jax.experimental import optix\n",
        "import optax\n",
        "import jax.numpy as jnp\n",
        "import matplotlib.pyplot as plt\n",
        "import numpy as np\n",
        "import pandas as pd\n",
        "import random\n",
        "import reverb\n",
        "import rlax\n",
        "import time\n",
        "\n",
        "import warnings\n",
        "warnings.filterwarnings('ignore')\n",
        "\n",
        "np.set_printoptions(precision=3, suppress=1)\n",
        "\n",
        "plt.style.use('seaborn-notebook')\n",
        "plt.style.use('seaborn-whitegrid')"
      ],
      "execution_count": 54,
      "outputs": []
    },
    {
      "cell_type": "markdown",
      "metadata": {
        "id": "HeGPIOMkUTEn"
      },
      "source": [
        "# RL Lab - Part 0: Environment & Agent"
      ]
    },
    {
      "cell_type": "markdown",
      "metadata": {
        "id": "I6KuVGSk4uc9"
      },
      "source": [
        "## Environment\n"
      ]
    },
    {
      "cell_type": "markdown",
      "metadata": {
        "id": "UhZwB__DPcyM"
      },
      "source": [
        "\n",
        "We will focus on a simple grid world environment for this practical session. \n",
        "\n",
        "\n",
        "<img src=\"https://drive.google.com/uc?id=1qBjh_PRdZ4GWTDqB9pmjLEOlUAsOfrZi\" width=\"500\" />\n",
        "\n",
        "\n",
        "\n",
        "This environment consists of either walls and empty cells. The agent starts from an initial location and needs to navigate to reach a goal location. \n"
      ]
    },
    {
      "cell_type": "code",
      "metadata": {
        "id": "inIAhwLKuHKr",
        "cellView": "form"
      },
      "source": [
        "#@title Gridworld Implementation { form-width: \"30%\" }\n",
        "\n",
        "\n",
        "class ObservationType(enum.IntEnum):\n",
        "  STATE_INDEX = enum.auto()\n",
        "  AGENT_ONEHOT = enum.auto()\n",
        "  GRID = enum.auto()\n",
        "  AGENT_GOAL_POS = enum.auto()\n",
        "\n",
        "\n",
        "class GridWorld(dm_env.Environment):\n",
        "\n",
        "  def __init__(self,\n",
        "               layout,\n",
        "               start_state,\n",
        "               goal_state=None,\n",
        "               observation_type=ObservationType.STATE_INDEX,\n",
        "               discount=0.9,\n",
        "               penalty_for_walls=-5,\n",
        "               reward_goal=10,\n",
        "               max_episode_length=None,\n",
        "               randomize_goals=False):\n",
        "    \"\"\"Build a grid environment.\n",
        "\n",
        "    Simple gridworld defined by a map layout, a start and a goal state.\n",
        "\n",
        "    Layout should be a NxN grid, containing:\n",
        "      * 0: empty\n",
        "      * -1: wall\n",
        "      * Any other positive value: value indicates reward; episode will terminate\n",
        "\n",
        "    Args:\n",
        "      layout: NxN array of numbers, indicating the layout of the environment.\n",
        "      start_state: Tuple (y, x) of starting location.\n",
        "      goal_state: Optional tuple (y, x) of goal location. Will be randomly\n",
        "        sampled once if None.\n",
        "      observation_type: Enum observation type to use. One of:\n",
        "        * ObservationType.STATE_INDEX: int32 index of agent occupied tile.\n",
        "        * ObservationType.AGENT_ONEHOT: NxN float32 grid, with a 1 where the \n",
        "          agent is and 0 elsewhere.\n",
        "        * ObservationType.GRID: NxNx3 float32 grid of feature channels. \n",
        "          First channel contains walls (1 if wall, 0 otherwise), second the \n",
        "          agent position (1 if agent, 0 otherwise) and third goal position\n",
        "          (1 if goal, 0 otherwise)\n",
        "        * ObservationType.AGENT_GOAL_POS: float32 tuple with \n",
        "          (agent_y, agent_x, goal_y, goal_x)\n",
        "      discount: Discounting factor included in all Timesteps.\n",
        "      penalty_for_walls: Reward added when hitting a wall (should be negative).\n",
        "      reward_goal: Reward added when finding the goal (should be positive).\n",
        "      max_episode_length: If set, will terminate an episode after this many \n",
        "        steps.\n",
        "      randomize_goals: If true, randomize goal at every episode.\n",
        "    \"\"\"\n",
        "    if observation_type not in ObservationType:\n",
        "      raise ValueError('observation_type should be a ObservationType instace.')\n",
        "    self._layout = np.array(layout)\n",
        "    self._start_state = start_state\n",
        "    self._state = self._start_state\n",
        "    self._number_of_states = np.prod(np.shape(self._layout))\n",
        "    self._discount = discount\n",
        "    self._penalty_for_walls = penalty_for_walls\n",
        "    self._reward_goal = reward_goal\n",
        "    self._observation_type = observation_type\n",
        "    self._layout_dims = self._layout.shape\n",
        "    self._max_episode_length = max_episode_length\n",
        "    self._num_episode_steps = 0\n",
        "    self._randomize_goals = randomize_goals\n",
        "    if goal_state is None:\n",
        "      # Randomly sample goal_state if not provided\n",
        "      goal_state = self._sample_goal()\n",
        "    self.goal_state = goal_state\n",
        "\n",
        "  def _sample_goal(self):\n",
        "    \"\"\"Randomly sample reachable non-starting state.\"\"\"\n",
        "    # Sample a new goal\n",
        "    n = 0\n",
        "    max_tries = 1e5\n",
        "    while n < max_tries:\n",
        "      goal_state = tuple(np.random.randint(d) for d in self._layout_dims)\n",
        "      if goal_state != self._state and self._layout[goal_state] == 0:\n",
        "        # Reachable state found!\n",
        "        return goal_state\n",
        "      n += 1\n",
        "    raise ValueError('Failed to sample a goal state.')\n",
        "\n",
        "  @property\n",
        "  def number_of_states(self):\n",
        "    return self._number_of_states\n",
        "\n",
        "  @property\n",
        "  def goal_state(self):\n",
        "    return self._goal_state\n",
        "\n",
        "  def set_state(self, x, y):\n",
        "    self._state = (y, x)\n",
        "\n",
        "  @goal_state.setter\n",
        "  def goal_state(self, new_goal):\n",
        "    if new_goal == self._state or self._layout[new_goal] < 0:\n",
        "      raise ValueError('This is not a valid goal!')\n",
        "    # Zero out any other goal\n",
        "    self._layout[self._layout > 0] = 0\n",
        "    # Setup new goal location\n",
        "    self._layout[new_goal] = self._reward_goal\n",
        "    self._goal_state = new_goal\n",
        "\n",
        "  def observation_spec(self):\n",
        "    if self._observation_type is ObservationType.AGENT_ONEHOT:\n",
        "      return specs.Array(\n",
        "          shape=self._layout_dims,\n",
        "          dtype=np.float32,\n",
        "          name='observation_agent_onehot')\n",
        "    elif self._observation_type is ObservationType.GRID:\n",
        "      return specs.Array(\n",
        "          shape=self._layout_dims + (3,),\n",
        "          dtype=np.float32,\n",
        "          name='observation_grid')\n",
        "    elif self._observation_type is ObservationType.AGENT_GOAL_POS:\n",
        "      return specs.Array(\n",
        "          shape=(4,), dtype=np.float32, name='observation_agent_goal_pos')\n",
        "    elif self._observation_type is ObservationType.STATE_INDEX:\n",
        "      return specs.DiscreteArray(\n",
        "          self._number_of_states, dtype=int, name='observation_state_index')\n",
        "\n",
        "  def action_spec(self):\n",
        "    return specs.DiscreteArray(4, dtype=int, name='action')\n",
        "\n",
        "  def get_obs(self):\n",
        "    if self._observation_type is ObservationType.AGENT_ONEHOT:\n",
        "      obs = np.zeros(self._layout.shape, dtype=np.float32)\n",
        "      # Place agent\n",
        "      obs[self._state] = 1\n",
        "      return obs\n",
        "    elif self._observation_type is ObservationType.GRID:\n",
        "      obs = np.zeros(self._layout.shape + (3,), dtype=np.float32)\n",
        "      obs[..., 0] = self._layout < 0\n",
        "      obs[self._state[0], self._state[1], 1] = 1\n",
        "      obs[self._goal_state[0], self._goal_state[1], 2] = 1\n",
        "      return obs\n",
        "    elif self._observation_type is ObservationType.AGENT_GOAL_POS:\n",
        "      return np.array(self._state + self._goal_state, dtype=np.float32)\n",
        "    elif self._observation_type is ObservationType.STATE_INDEX:\n",
        "      y, x = self._state\n",
        "      return y * self._layout.shape[1] + x\n",
        "\n",
        "  def reset(self):\n",
        "    self._state = self._start_state\n",
        "    self._num_episode_steps = 0\n",
        "    if self._randomize_goals:\n",
        "      self.goal_state = self._sample_goal()\n",
        "    return dm_env.TimeStep(\n",
        "        step_type=dm_env.StepType.FIRST,\n",
        "        reward=None,\n",
        "        discount=None,\n",
        "        observation=self.get_obs())\n",
        "\n",
        "  def step(self, action):\n",
        "    y, x = self._state\n",
        "\n",
        "    if action == 0:  # up\n",
        "      new_state = (y - 1, x)\n",
        "    elif action == 1:  # right\n",
        "      new_state = (y, x + 1)\n",
        "    elif action == 2:  # down\n",
        "      new_state = (y + 1, x)\n",
        "    elif action == 3:  # left\n",
        "      new_state = (y, x - 1)\n",
        "    else:\n",
        "      raise ValueError(\n",
        "          'Invalid action: {} is not 0, 1, 2, or 3.'.format(action))\n",
        "\n",
        "    new_y, new_x = new_state\n",
        "    step_type = dm_env.StepType.MID\n",
        "    if self._layout[new_y, new_x] == -1:  # wall\n",
        "      reward = self._penalty_for_walls\n",
        "      discount = self._discount\n",
        "      new_state = (y, x)\n",
        "    elif self._layout[new_y, new_x] == 0:  # empty cell\n",
        "      reward = 0.\n",
        "      discount = self._discount\n",
        "    else:  # a goal\n",
        "      reward = self._layout[new_y, new_x]\n",
        "      discount = 0.\n",
        "      new_state = self._start_state\n",
        "      step_type = dm_env.StepType.LAST\n",
        "\n",
        "    self._state = new_state\n",
        "    self._num_episode_steps += 1\n",
        "    if (self._max_episode_length is not None and\n",
        "        self._num_episode_steps >= self._max_episode_length):\n",
        "      step_type = dm_env.StepType.LAST\n",
        "    return dm_env.TimeStep(\n",
        "        step_type=step_type,\n",
        "        reward=np.float32(reward),\n",
        "        discount=discount,\n",
        "        observation=self.get_obs())\n",
        "\n",
        "  def plot_grid(self, add_start=True):\n",
        "    plt.figure(figsize=(4, 4))\n",
        "    plt.imshow(self._layout <= -1, interpolation='nearest')\n",
        "    ax = plt.gca()\n",
        "    ax.grid(0)\n",
        "    plt.xticks([])\n",
        "    plt.yticks([])\n",
        "    # Add start/goal\n",
        "    if add_start:\n",
        "      plt.text(\n",
        "          self._start_state[1],\n",
        "          self._start_state[0],\n",
        "          r'$\\mathbf{S}$',\n",
        "          fontsize=16,\n",
        "          ha='center',\n",
        "          va='center')\n",
        "    plt.text(\n",
        "        self._goal_state[1],\n",
        "        self._goal_state[0],\n",
        "        r'$\\mathbf{G}$',\n",
        "        fontsize=16,\n",
        "        ha='center',\n",
        "        va='center')\n",
        "    h, w = self._layout.shape\n",
        "    for y in range(h - 1):\n",
        "      plt.plot([-0.5, w - 0.5], [y + 0.5, y + 0.5], '-k', lw=2)\n",
        "    for x in range(w - 1):\n",
        "      plt.plot([x + 0.5, x + 0.5], [-0.5, h - 0.5], '-k', lw=2)\n",
        "\n",
        "  def plot_state(self, return_rgb=False):\n",
        "    self.plot_grid(add_start=False)\n",
        "    # Add the agent location\n",
        "    plt.text(\n",
        "        self._state[1],\n",
        "        self._state[0],\n",
        "        u'😃',\n",
        "        fontname='symbola',\n",
        "        fontsize=18,\n",
        "        ha='center',\n",
        "        va='center',\n",
        "    )\n",
        "    if return_rgb:\n",
        "      fig = plt.gcf()\n",
        "      plt.axis('tight')\n",
        "      plt.subplots_adjust(0, 0, 1, 1, 0, 0)\n",
        "      fig.canvas.draw()\n",
        "      data = np.fromstring(fig.canvas.tostring_rgb(), dtype=np.uint8, sep='')\n",
        "      w, h = fig.canvas.get_width_height()\n",
        "      data = data.reshape((h, w, 3))\n",
        "      plt.close(fig)\n",
        "      return data\n",
        "\n",
        "  def plot_policy(self, policy):\n",
        "    action_names = [\n",
        "        r'$\\uparrow$', r'$\\rightarrow$', r'$\\downarrow$', r'$\\leftarrow$'\n",
        "    ]\n",
        "    self.plot_grid()\n",
        "    plt.title('Policy Visualization')\n",
        "    h, w = self._layout.shape\n",
        "    for y in range(h):\n",
        "      for x in range(w):\n",
        "        # if ((y, x) != self._start_state) and ((y, x) != self._goal_state):\n",
        "        if (y, x) != self._goal_state:\n",
        "          action_name = action_names[policy[y, x]]\n",
        "          plt.text(x, y, action_name, ha='center', va='center')\n",
        "\n",
        "  def plot_greedy_policy(self, q):\n",
        "    greedy_actions = np.argmax(q, axis=2)\n",
        "    self.plot_policy(greedy_actions)\n",
        "\n",
        "\n",
        "def build_gridworld_task(task,\n",
        "                         discount=0.9,\n",
        "                         penalty_for_walls=-5,\n",
        "                         observation_type=ObservationType.STATE_INDEX,\n",
        "                         max_episode_length=200):\n",
        "  \"\"\"Construct a particular Gridworld layout with start/goal states.\n",
        "\n",
        "  Args:\n",
        "      task: string name of the task to use. One of {'simple', 'obstacle', \n",
        "        'random_goal'}.\n",
        "      discount: Discounting factor included in all Timesteps.\n",
        "      penalty_for_walls: Reward added when hitting a wall (should be negative).\n",
        "      observation_type: Enum observation type to use. One of:\n",
        "        * ObservationType.STATE_INDEX: int32 index of agent occupied tile.\n",
        "        * ObservationType.AGENT_ONEHOT: NxN float32 grid, with a 1 where the \n",
        "          agent is and 0 elsewhere.\n",
        "        * ObservationType.GRID: NxNx3 float32 grid of feature channels. \n",
        "          First channel contains walls (1 if wall, 0 otherwise), second the \n",
        "          agent position (1 if agent, 0 otherwise) and third goal position\n",
        "          (1 if goal, 0 otherwise)\n",
        "        * ObservationType.AGENT_GOAL_POS: float32 tuple with \n",
        "          (agent_y, agent_x, goal_y, goal_x).\n",
        "      max_episode_length: If set, will terminate an episode after this many \n",
        "        steps.\n",
        "  \"\"\"\n",
        "  tasks_specifications = {\n",
        "      'simple': {\n",
        "          'layout': [\n",
        "              [-1, -1, -1, -1, -1, -1, -1, -1, -1, -1],\n",
        "              [-1, 0, 0, 0, 0, 0, 0, 0, 0, -1],\n",
        "              [-1, 0, 0, 0, -1, -1, 0, 0, 0, -1],\n",
        "              [-1, 0, 0, 0, -1, -1, 0, 0, 0, -1],\n",
        "              [-1, 0, 0, 0, -1, -1, 0, 0, 0, -1],\n",
        "              [-1, 0, 0, 0, 0, 0, 0, 0, 0, -1],\n",
        "              [-1, 0, 0, 0, 0, 0, 0, 0, 0, -1],\n",
        "              [-1, 0, 0, 0, 0, 0, 0, 0, 0, -1],\n",
        "              [-1, -1, -1, -1, -1, -1, -1, -1, -1, -1],\n",
        "          ],\n",
        "          'start_state': (2, 2),\n",
        "          'goal_state': (7, 2)\n",
        "      },\n",
        "      'obstacle': {\n",
        "          'layout': [\n",
        "              [-1, -1, -1, -1, -1, -1, -1, -1, -1, -1],\n",
        "              [-1, 0, 0, 0, 0, 0, -1, 0, 0, -1],\n",
        "              [-1, 0, 0, 0, -1, 0, 0, 0, 0, -1],\n",
        "              [-1, 0, 0, 0, -1, -1, 0, 0, 0, -1],\n",
        "              [-1, 0, 0, 0, -1, -1, 0, 0, 0, -1],\n",
        "              [-1, 0, 0, 0, 0, 0, 0, 0, 0, -1],\n",
        "              [-1, 0, 0, 0, 0, 0, 0, 0, 0, -1],\n",
        "              [-1, 0, 0, 0, 0, 0, 0, 0, 0, -1],\n",
        "              [-1, -1, -1, -1, -1, -1, -1, -1, -1, -1],\n",
        "          ],\n",
        "          'start_state': (2, 2),\n",
        "          'goal_state': (2, 8)\n",
        "      },\n",
        "      'random_goal': {\n",
        "          'layout': [\n",
        "              [-1, -1, -1, -1, -1, -1, -1, -1, -1, -1],\n",
        "              [-1, 0, 0, 0, 0, 0, 0, 0, 0, -1],\n",
        "              [-1, 0, 0, 0, -1, -1, 0, 0, 0, -1],\n",
        "              [-1, 0, 0, 0, -1, -1, 0, 0, 0, -1],\n",
        "              [-1, 0, 0, 0, -1, -1, 0, 0, 0, -1],\n",
        "              [-1, 0, 0, 0, 0, 0, 0, 0, 0, -1],\n",
        "              [-1, 0, 0, 0, 0, 0, 0, 0, 0, -1],\n",
        "              [-1, 0, 0, 0, 0, 0, 0, 0, 0, -1],\n",
        "              [-1, -1, -1, -1, -1, -1, -1, -1, -1, -1],\n",
        "          ],\n",
        "          'start_state': (2, 2),\n",
        "          # 'randomize_goals': True\n",
        "      },\n",
        "  }\n",
        "  return GridWorld(\n",
        "      discount=discount,\n",
        "      penalty_for_walls=penalty_for_walls,\n",
        "      observation_type=observation_type,\n",
        "      max_episode_length=max_episode_length,\n",
        "      **tasks_specifications[task])\n",
        "\n",
        "\n",
        "def setup_environment(environment):\n",
        "  # Make sure the environment outputs single-precision floats.\n",
        "  environment = wrappers.SinglePrecisionWrapper(environment)\n",
        "\n",
        "  # Grab the spec of the environment.\n",
        "  environment_spec = specs.make_environment_spec(environment)\n",
        "\n",
        "  return environment, environment_spec"
      ],
      "execution_count": 3,
      "outputs": []
    },
    {
      "cell_type": "markdown",
      "metadata": {
        "id": "ZizdE9SQS-cN"
      },
      "source": [
        "\n",
        "We will use two distinct tabular GridWorlds:\n",
        "* `simple` where the goal is at the bottom left of the grid, little navigation required.\n",
        "* `obstacle` where the goal is behind an obstacle to avoid.\n",
        "\n",
        "You can visualize the grid worlds by running the cell below. \n",
        "\n",
        "Note that `S` indicates the start state and `G` indicates the goal. \n"
      ]
    },
    {
      "cell_type": "code",
      "metadata": {
        "id": "7Xdnh3Odc63Q",
        "cellView": "form",
        "outputId": "bbefe433-20cc-4c41-d28c-fd14e4638620",
        "colab": {
          "base_uri": "https://localhost:8080/",
          "height": 72
        }
      },
      "source": [
        "# @title Visualise gridworlds { form-width: \"30%\" }\n",
        "\n",
        "# Instantiate two tabular environments, a simple task, and one that involves\n",
        "# the avoidance of an obstacle.\n",
        "simple_grid = build_gridworld_task(\n",
        "    task='simple', observation_type=ObservationType.GRID)\n",
        "obstacle_grid = build_gridworld_task(\n",
        "    task='obstacle', observation_type=ObservationType.GRID)\n",
        "\n",
        "# Plot them.\n",
        "simple_grid.plot_grid()\n",
        "plt.title('Simple')\n",
        "\n",
        "obstacle_grid.plot_grid()\n",
        "plt.title('Obstacle');"
      ],
      "execution_count": 4,
      "outputs": [
        {
          "output_type": "display_data",
          "data": {
            "text/plain": [
              "<Figure size 288x288 with 1 Axes>"
            ],
            "image/png": "[encoded data removed]"
          },
          "metadata": {}
        },
        {
          "output_type": "display_data",
          "data": {
            "text/plain": [
              "<Figure size 288x288 with 1 Axes>"
            ],
            "image/png": "[encoded data removed]"
          },
          "metadata": {}
        }
      ]
    },
    {
      "cell_type": "code",
      "metadata": {
        "id": "oqRb9fpdpe55",
        "outputId": "a23eaa71-1bc9-4187-a199-ef83e1b4aaf2",
        "colab": {
          "base_uri": "https://localhost:8080/",
          "height": 54
        }
      },
      "source": [
        "simple_grid.plot_grid()"
      ],
      "execution_count": 5,
      "outputs": [
        {
          "output_type": "display_data",
          "data": {
            "text/plain": [
              "<Figure size 288x288 with 1 Axes>"
            ],
            "image/png": "[encoded data removed]"
          },
          "metadata": {}
        }
      ]
    },
    {
      "cell_type": "markdown",
      "metadata": {
        "id": "RTsiWgDSCL7C"
      },
      "source": [
        "\n",
        "In this environment, the agent has four possible  <font color='blue'>**Actions**</font>: `up`, `right`, `down`, and `left`.  <font color='green'>**Reward**</font> is `-5` for bumping into a wall, `+10` for reaching the goal, and `0` otherwise. The episode ends when the agent reaches the goal, and otherwise continues. **Discount** on continuing steps, is $\\gamma = 0.9$. \n",
        "\n",
        "Before we start building an agent to interact with this environment, let's first look at the types of objects the environment either returns (e.g. observations) or consumes (e.g. actions). The `environment_spec` will show you the form of the *observations*, *rewards* and *discounts* that the environment exposes and the form of the *actions* that can be taken.\n"
      ]
    },
    {
      "cell_type": "code",
      "metadata": {
        "id": "rmKop4FECVV6",
        "outputId": "47e5dc22-6268-4c86-fa93-4d9b36125393",
        "colab": {
          "base_uri": "https://localhost:8080/"
        }
      },
      "source": [
        "environment, environment_spec = setup_environment(simple_grid)\n",
        "\n",
        "print('actions:\\n', environment_spec.actions, '\\n')\n",
        "print('observations:\\n', environment_spec.observations, '\\n')\n",
        "print('rewards:\\n', environment_spec.rewards, '\\n')\n",
        "print('discounts:\\n', environment_spec.discounts, '\\n')"
      ],
      "execution_count": 6,
      "outputs": [
        {
          "output_type": "stream",
          "name": "stdout",
          "text": [
            "actions:\n",
            " DiscreteArray(shape=(), dtype=int32, name=action, minimum=0, maximum=3, num_values=4) \n",
            "\n",
            "observations:\n",
            " Array(shape=(9, 10, 3), dtype=dtype('float32'), name='observation_grid') \n",
            "\n",
            "rewards:\n",
            " Array(shape=(), dtype=dtype('float32'), name='reward') \n",
            "\n",
            "discounts:\n",
            " BoundedArray(shape=(), dtype=dtype('float32'), name='discount', minimum=0.0, maximum=1.0) \n",
            "\n"
          ]
        }
      ]
    },
    {
      "cell_type": "markdown",
      "metadata": {
        "id": "0VVTmep2UK6U"
      },
      "source": [
        "\n",
        "We first set the environment to its initial location by calling the `reset` method which returns the first observation. \n"
      ]
    },
    {
      "cell_type": "code",
      "metadata": {
        "id": "rHden9m9FNPK",
        "outputId": "d2c043d2-c9e5-4e6d-dbe8-c0c400a12a7b",
        "colab": {
          "base_uri": "https://localhost:8080/",
          "height": 72
        }
      },
      "source": [
        "environment.reset()\n",
        "environment.plot_state()"
      ],
      "execution_count": 7,
      "outputs": [
        {
          "output_type": "stream",
          "name": "stderr",
          "text": [
            "WARNING:matplotlib.font_manager:findfont: Font family ['symbola'] not found. Falling back to DejaVu Sans.\n"
          ]
        },
        {
          "output_type": "display_data",
          "data": {
            "text/plain": [
              "<Figure size 288x288 with 1 Axes>"
            ],
            "image/png": "[encoded data removed]"
          },
          "metadata": {}
        }
      ]
    },
    {
      "cell_type": "markdown",
      "metadata": {
        "id": "pXb7u9epFWnX"
      },
      "source": [
        "Now we want to take an action using the `step` method to interact with the environment which returns a `TimeStep` \n",
        "namedtuple with fields:\n",
        "\n",
        "```none\n",
        "step_type, reward, discount, observation\n",
        "``` \n",
        "\n",
        "We can then visualise the updated state of the grid. "
      ]
    },
    {
      "cell_type": "code",
      "metadata": {
        "id": "LY1eopIWFe95",
        "outputId": "ac966e7f-4480-4d54-956e-4b7b6cc8bc8f",
        "colab": {
          "base_uri": "https://localhost:8080/",
          "height": 54
        }
      },
      "source": [
        "timestep = environment.step(1)\n",
        "environment.plot_state()"
      ],
      "execution_count": 8,
      "outputs": [
        {
          "output_type": "display_data",
          "data": {
            "text/plain": [
              "<Figure size 288x288 with 1 Axes>"
            ],
            "image/png": "[encoded data removed]"
          },
          "metadata": {}
        }
      ]
    },
    {
      "cell_type": "markdown",
      "metadata": {
        "id": "_0YgLdsi3kXw"
      },
      "source": [
        "## Agent\n",
        "\n",
        "We will be implementing Tabular & Function Approximation agents. Tabular agents are purely in Python while for Function Approximation agents, we will use JAX."
      ]
    },
    {
      "cell_type": "markdown",
      "metadata": {
        "id": "4MAYbEvtJ1kT"
      },
      "source": [
        "### Agent Implementation\n",
        "\n",
        "Each agent implements the following functions:\n",
        "\n",
        "\n",
        "\n",
        "> `__init__(self, number_of_actions, number_of_states, ...)`\n",
        "\n",
        "\n",
        "The constructor will provide the agent the number of actions and number of\n",
        "states.\n",
        "\n",
        "> `select_action(self, observation)`:\n",
        "\n",
        "This is the policy used by the actor to interact with the environment.\n",
        "\n",
        "> `observe_first(self, timestep)`:\n",
        "\n",
        "This function provides the agent with initial timestep in a given episode. Note\n",
        "that this is not the result of an action choice by the agent, hence it will only\n",
        "have `timestep.observation` set to a proper value.\n",
        "\n",
        "> `observe(self, action, next_timestep)`:\n",
        "\n",
        "This function provides the agent with the timestep that resulted from the given\n",
        "action choice. The timestep provides a `reward`, a `discount`, and an\n",
        "`observation`, all results of the previous action choice.\n",
        "\n",
        "> `update(self)`:\n",
        "\n",
        "This function commonly implements the update rules for the internal parameters of the agent (e.g. Q-values, network parameters for value or policy models, transition models).\n",
        "\n",
        "\n",
        "Note: `timestep.step_type` will be either `MID` or `LAST` and should be used to\n",
        "determine whether this is the last observation in the episode.\n"
      ]
    },
    {
      "cell_type": "code",
      "metadata": {
        "id": "0lU-ybzz4Ng7",
        "cellView": "form"
      },
      "source": [
        "#@title Example: Random Agent  { form-width: \"30%\" }\n",
        "\n",
        "# Uniform random policy\n",
        "def random_policy(q):\n",
        "  return np.random.randint(4)\n",
        "\n",
        "# (Do not worry about the details here, we will explain the Actor class below)\n",
        "class RandomAgent(acme.Actor):\n",
        "  def select_action(self, observation):\n",
        "    return random_policy(None)    \n",
        "    \n",
        "  def observe_first(self, timestep):\n",
        "    \"\"\"The agent is being notified that environment was reset.\"\"\"\n",
        "    pass\n",
        "\n",
        "  def observe(self, action, next_timestep):\n",
        "    \"\"\"The agent is being notified of an environment step.\"\"\"\n",
        "    pass\n",
        "\n",
        "  def update(self):    \n",
        "    \"\"\"Agent should update its parameters.\"\"\"\n",
        "    pass"
      ],
      "execution_count": 9,
      "outputs": []
    },
    {
      "cell_type": "markdown",
      "metadata": {
        "id": "W_U3ltgWqEPm"
      },
      "source": [
        "## Environment loops\n",
        "\n",
        "Environment loops are where agent-environment interaction is facilitated. Below we define a loop which repeatedly prompts the agent to select an action and forwards that to the environment. Meanwhile, the agent also makes updates and gradually learns to solve the task."
      ]
    },
    {
      "cell_type": "code",
      "metadata": {
        "id": "pSFDZPksEGpl",
        "cellView": "form"
      },
      "source": [
        "#@title Run loop  { form-width: \"30%\" }\n",
        "\n",
        "\n",
        "def run_loop(environment,\n",
        "             agent,\n",
        "             num_episodes=None,\n",
        "             num_steps=None,\n",
        "             logger_time_delta=1.,\n",
        "             label='training_loop',\n",
        "             log_loss=False,\n",
        "             ):\n",
        "  \"\"\"Perform the run loop.\n",
        "\n",
        "  We are following the Acme run loop.\n",
        "\n",
        "  Run the environment loop for `num_episodes` episodes. Each episode is itself\n",
        "  a loop which interacts first with the environment to get an observation and\n",
        "  then give that observation to the agent in order to retrieve an action. Upon\n",
        "  termination of an episode a new episode will be started. If the number of\n",
        "  episodes is not given then this will interact with the environment\n",
        "  infinitely.\n",
        "\n",
        "  Args:\n",
        "    environment: dm_env used to generate trajectories.\n",
        "    agent: acme.Actor for selecting actions in the run loop.\n",
        "    num_steps: number of episodes to run the loop for. If `None` (default), runs\n",
        "      without limit.\n",
        "    num_episodes: number of episodes to run the loop for. If `None` (default),\n",
        "      runs without limit.\n",
        "    logger_time_delta: time interval (in seconds) between consecutive logging\n",
        "      steps.\n",
        "    label: optional label used at logging steps.\n",
        "  \"\"\"\n",
        "  logger = loggers.TerminalLogger(label=label, time_delta=logger_time_delta)\n",
        "  iterator = range(num_episodes) if num_episodes else itertools.count()\n",
        "  all_returns = []\n",
        "  \n",
        "  num_total_steps = 0\n",
        "  for episode in iterator:\n",
        "    # Reset any counts and start the environment.\n",
        "    start_time = time.time()\n",
        "    episode_steps = 0\n",
        "    episode_return = 0\n",
        "    episode_loss = 0\n",
        "\n",
        "    timestep = environment.reset()\n",
        "    \n",
        "    # Make the first observation.\n",
        "    agent.observe_first(timestep)\n",
        "\n",
        "    # Run an episode.\n",
        "    while not timestep.last():\n",
        "      # Generate an action from the agent's policy and step the environment.\n",
        "      action = agent.select_action(timestep.observation)\n",
        "      timestep = environment.step(action)\n",
        "\n",
        "      # Have the agent observe the timestep and let the agent update itself.\n",
        "      agent.observe(action, next_timestep=timestep)\n",
        "      agent.update()\n",
        "\n",
        "      # Book-keeping.\n",
        "      episode_steps += 1\n",
        "      num_total_steps += 1\n",
        "      episode_return += timestep.reward\n",
        "\n",
        "      if log_loss:\n",
        "        episode_loss += agent.last_loss\n",
        "\n",
        "      if num_steps is not None and num_total_steps >= num_steps:\n",
        "        break\n",
        "\n",
        "    # Collect the results and combine with counts.\n",
        "    steps_per_second = episode_steps / (time.time() - start_time)\n",
        "    result = {\n",
        "        'episode': episode,\n",
        "        'episode_length': episode_steps,\n",
        "        'episode_return': episode_return,\n",
        "    }\n",
        "    if log_loss:\n",
        "      result['loss_avg'] = episode_loss/episode_steps\n",
        "\n",
        "    all_returns.append(episode_return)\n",
        "\n",
        "    # Log the given results.\n",
        "    logger.write(result)\n",
        "    \n",
        "    if num_steps is not None and num_total_steps >= num_steps:\n",
        "      break\n",
        "  return all_returns"
      ],
      "execution_count": 10,
      "outputs": []
    },
    {
      "cell_type": "code",
      "metadata": {
        "id": "_gatpjQ8QA_H",
        "cellView": "form"
      },
      "source": [
        "#@title Evaluation loop { form-width: \"30%\" }\n",
        "\n",
        "def evaluate(environment, agent, evaluation_episodes):\n",
        "  frames = []\n",
        "\n",
        "  for episode in range(evaluation_episodes):\n",
        "    timestep = environment.reset()\n",
        "    episode_return = 0\n",
        "    steps = 0\n",
        "    while not timestep.last():\n",
        "      frames.append(environment.plot_state(return_rgb=True))\n",
        "\n",
        "      action = agent.select_action(timestep.observation)\n",
        "      timestep = environment.step(action)\n",
        "      steps += 1\n",
        "      episode_return += timestep.reward\n",
        "    print(\n",
        "        f'Episode {episode} ended with reward {episode_return} in {steps} steps'\n",
        "    )\n",
        "  return frames\n",
        "\n",
        "def display_video(frames, filename='temp.mp4', frame_repeat=1):\n",
        "  \"\"\"Save and display video.\"\"\"\n",
        "  # Write video\n",
        "  with imageio.get_writer(filename, fps=60) as video:\n",
        "    for frame in frames:\n",
        "      for _ in range(frame_repeat):\n",
        "        video.append_data(frame)\n",
        "  # Read video and display the video\n",
        "  video = open(filename, 'rb').read()\n",
        "  b64_video = base64.b64encode(video)\n",
        "  video_tag = ('<video  width=\"320\" height=\"240\" controls alt=\"test\" '\n",
        "               'src=\"data:video/mp4;base64,{0}\">').format(b64_video.decode())\n",
        "  return IPython.display.HTML(video_tag)"
      ],
      "execution_count": 11,
      "outputs": []
    },
    {
      "cell_type": "code",
      "source": [
        "! pip install imageio-ffmpeg"
      ],
      "metadata": {
        "id": "PgY5fViiGPKl",
        "outputId": "ac7879a9-3444-44fc-e2cf-1ac63b75be2e",
        "colab": {
          "base_uri": "https://localhost:8080/"
        }
      },
      "execution_count": 55,
      "outputs": [
        {
          "output_type": "stream",
          "name": "stdout",
          "text": [
            "Looking in indexes: https://pypi.org/simple, https://us-python.pkg.dev/colab-wheels/public/simple/\n",
            "Requirement already satisfied: imageio-ffmpeg in /usr/local/lib/python3.8/dist-packages (0.4.7)\n"
          ]
        }
      ]
    },
    {
      "cell_type": "markdown",
      "metadata": {
        "id": "7XD9bXC3UCHd"
      },
      "source": [
        "Let's use these loops to run a Random Agent on our environment!"
      ]
    },
    {
      "cell_type": "code",
      "metadata": {
        "id": "oxjzoRO03jGH",
        "outputId": "740eca8f-3b75-4985-8f73-fd3b070e7800",
        "colab": {
          "base_uri": "https://localhost:8080/",
          "height": 279
        }
      },
      "source": [
        "#@title Visualise random agent's behaviour { form-width: \"30%\" }\n",
        "\n",
        "# This is how the random policy moves around\n",
        "frames = evaluate(environment, RandomAgent(), evaluation_episodes=1)\n",
        "display_video(frames, frame_repeat=5)"
      ],
      "execution_count": 14,
      "outputs": [
        {
          "output_type": "stream",
          "name": "stdout",
          "text": [
            "Episode 0 ended with reward -125.0 in 118 steps\n"
          ]
        },
        {
          "output_type": "execute_result",
          "data": {
            "text/plain": [
              "<IPython.core.display.HTML object>"
            ],
            "text/html": [
              "<video  width=\"320\" height=\"240\" controls alt=\"test\" src=\"data:video/mp4;base64,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\">"
            ]
          },
          "metadata": {},
          "execution_count": 14
        }
      ]
    },
    {
      "cell_type": "markdown",
      "metadata": {
        "id": "YPc0CrguF4GV"
      },
      "source": [
        "# RL Lab - Part 1: Tabular Agents\n",
        "\n",
        "The first set of execises are based on the simpler case where the number of states is small enough for our agents to maintain a table of values for each state-action pair that it will ever encounter. For example, in the case of GridWorld, such a table may look something like this:\n",
        "\n",
        "| (State, Action) | Q-value  |\n",
        "| ----------------| ---------|\n",
        "| ($s_i$, up)     | 0.7      |\n",
        "| ($s_i$, down)   | 0.0      |\n",
        "| ($s_i$, left)   | -0.5     |\n",
        "| ($s_i$, right)  | 0.32     |\n",
        "| ($s_j$, up)     | -1.0     |\n",
        "| ($s_j$, down)   | 0.1      |\n",
        "| $\\dots$         | $\\dots$  |\n",
        "\n",
        "Or in a more compact representation:\n",
        "\n",
        "| Q(s,a)  | up        | down      | left      | right     |\n",
        "| ------- | --------- | --------- | --------- | --------- |\n",
        "| $s_i$   | 0.7       | 0.0       | -0.5      | 0.32      |\n",
        "| $s_j$   | -1.0      | 0.1       | 0.2       | 0.3       |\n",
        "| $s_k$   | 0.4       | 0.15      | 0.6       | -0.23     |\n",
        "| $\\dots$ | $\\dots$   | $\\dots$   | $\\dots$   | $\\dots$   |\n",
        "\n",
        "\n",
        "\n",
        "In the exercises below, we will consider the case where the GridWorld has a fixed layout, and the goal is always at the same location, hence the state is fully determined by the location of the agent. As such, the <font color='red'>observation</font> from the environment is changed to be an integer corresponding to each one of approximately 50 locations on the grid.\n"
      ]
    },
    {
      "cell_type": "code",
      "metadata": {
        "id": "zL8J6nVc2zlq"
      },
      "source": [
        "# Environment\n",
        "grid = build_gridworld_task(\n",
        "    task='simple',\n",
        "    observation_type=ObservationType.STATE_INDEX,\n",
        "    max_episode_length=200)\n",
        "environment, environment_spec = setup_environment(grid)"
      ],
      "execution_count": 15,
      "outputs": []
    },
    {
      "cell_type": "markdown",
      "metadata": {
        "id": "sAiZn23xICKh"
      },
      "source": [
        "\n",
        "## 1.0: Overview\n",
        "\n",
        "We will cover three basic RL tabular algorithms:\n",
        "- Policy iteration\n",
        "- SARSA Agent\n",
        "- Q-learning Agent\n",
        "\n",
        "\n",
        "\n",
        "\n"
      ]
    },
    {
      "cell_type": "markdown",
      "source": [
        "### (Recap) Bellman equations\n",
        "\n",
        "============================================\n",
        "\n",
        "*Bellman Expectation Equation* \\\\\n",
        "$$ Q^{\\pi}(s,a) = r(s,a) + \\gamma \\mathbb{E}_{s',a' \\sim \\pi} [Q^{\\pi}(s',a')]$$\n",
        "\n",
        "(Turn this into an update => policy evaluation)\n",
        "\n",
        "$$ \\tilde{Q}^\\pi(\\color{red}{s},\\color{blue}{a}) ←  \\color{green}{r}(\\color{red}{s},\\color{blue}{a}) + \\gamma \\tilde{Q}^\\pi(\\color{red}{s'},\\color{blue}{a'})$$\n",
        "\n",
        "=============================================\n",
        "\n",
        "\n",
        "*Bellman Optimality Equation* \\\\\n",
        "\n",
        "$$ Q^*(s,a) = r(s,a) + \\gamma \\mathbb{E}_{s'} [\\max_{a'}Q^*(s',a')]$$\n",
        "\n",
        "where $Q^* = \\max_{\\pi} Q^{\\pi}$ is the optimal value function.\n",
        "\n",
        "(Turn this into an update => Q-learning)\n",
        "\n",
        "$$ \\tilde{Q}^*(\\color{red}{s},\\color{blue}{a}) ←  \\color{green}{r}(\\color{red}{s},\\color{blue}{a}) + \\gamma \\max_{\\color{blue}{a'}}\\tilde{Q}^*(\\color{red}{s'},\\color{blue}{a'})$$\n",
        "\n",
        "\n",
        "\n"
      ],
      "metadata": {
        "id": "OAukrb5uTOb6"
      }
    },
    {
      "cell_type": "markdown",
      "metadata": {
        "id": "xT7d9IIaDnUt"
      },
      "source": [
        "### TD-error\n",
        "\n",
        "Initially, we do not have good estimates of the $Q^\\pi$ values, so they do not satisfy this intuition. During training, we iteratively make updates to our $Q^\\pi$ estimates such that they are a bit closer to satisfying this relationship. Theory tells us that these updates will eventually converge to the optimal solution, i.e. our $Q^\\pi$ estimates will satisfy exactly the relationship.\n",
        "\n",
        "So how do we do this in practice? \n",
        "This difference between what $Q^\\pi$ *currently is* and what we *want it to be* is called **TD-error**, which, in the long term, we hope will converge to 0.\n",
        "\n",
        "To make our updates, in every step will we want to compute the TD-error\n",
        "\n",
        "$$\\delta = \\color{green}{r}(\\color{red}{s},\\color{blue}{a}) + \\gamma Q^\\pi(\\color{red}{s'},\\color{blue}{a'}) - Q^\\pi(\\color{red}{s},\\color{blue}{a})$$\n",
        "\n",
        "Then we can use this TD-error to update $Q^\\pi$:\n",
        "\n",
        "$$Q^\\pi(\\color{red}{s},\\color{blue}{a}) \\mathrel{{+}{=}} \\alpha (\\color{green}{r}(\\color{red}{s},\\color{blue}{a}) + \\gamma Q^\\pi(\\color{red}{s'},\\color{blue}{a'}) - Q^\\pi(\\color{red}{s},\\color{blue}{a}))$$\n",
        "\n",
        "where $\\alpha$ is parameter capturing the step size.\n",
        "\n",
        "We see two immediate questions here.\n",
        " * How do we choose $\\color{blue}{a}$? $\\rightarrow$ behaviour policy $\\pi_b$\n",
        " * How do we define the \"next\" action $\\color{blue}{a'}$? $\\rightarrow$ evaluated policy $\\pi_e$\n"
      ]
    },
    {
      "cell_type": "markdown",
      "metadata": {
        "id": "JhHsnLcFID1u"
      },
      "source": [
        "## 1.1: Policy iteration\n",
        "\n",
        "The first RL learning algorithm we will explore is **policy iteration**, which is repeating (1) Policy Evaluation and (2) Greedy Improvement until convergence.\n",
        "\n",
        "<center><img src=\"https://drive.google.com/uc?id=1lP2dFEXCBgYW744S3Lr3zMzVfOEYowdJ\" width=\"300\" /></center>\n",
        "\n",
        "For this exercise, we'll show you how to implement the \"first 2 arrows\", we will not repeat these steps to convergence yet.\n",
        "\n",
        "### 1. Policy Evaluation \n",
        "\n",
        "The purpose here is to evaluate a given policy $\\pi_e$:\n",
        "\n",
        "Compute the value function associated with following/employing this policy in a given MDP.\n",
        "\n",
        "$$ Q^{\\pi_e}(\\color{red}{s},\\color{blue}{a}) = \\mathbb{E}_{\\tau \\sim P^{\\pi_b}} \\left[ \\sum_t \\gamma^t \\color{green}{R_t}| s_0=\\color{red}s,a=\\color{blue}{a_0} \\right]$$\n",
        "\n",
        "where $\\tau = \\{\\color{red}{s_0}, \\color{blue}{a_0}, \\color{green}{r_0}, \\color{red}{s_1}, \\color{blue}{a_1}, \\color{green}{r_1}, \\cdots \\}$ and $\\pi_e = \\pi_b$ (on-policy evaluation).\n",
        "\n",
        "\n",
        "Algorithm:\n",
        "\n",
        "**Initialize** $Q(\\color{red}{s}, \\color{blue}{a})$ for all $\\color{red}{s}$ ∈ $\\mathcal{\\color{red}S}$ and $\\color{blue}a$ ∈ $\\mathcal{\\color{blue}A}$\n",
        "\n",
        "**Loop forever**:\n",
        "\n",
        "1. $\\color{red}{s} \\gets{}$current (nonterminal) state\n",
        " \n",
        "2. $\\color{blue}{a} \\gets{} \\text{behaviour_policy }a \\sim \\pi_b(\\color{red}s)=\\pi_e(\\color{red}s)$\n",
        " \n",
        "3. Take action $\\color{blue}{a}$; observe resulting reward $\\color{green}{r}$, discount $\\gamma$, and state, $\\color{red}{s'}$\n",
        "\n",
        "4. Compute TD-error: $\\delta = \\color{green}R + \\gamma Q(\\color{red}{s'}, \\underbrace{\\pi_e(\\color{red}{s'}}_{\\color{blue}{a'}})) − Q(\\color{red}s, \\color{blue}a)$\n",
        "\n",
        "4. Update Q-value with a small $\\alpha$ step: $Q(\\color{red}s, \\color{blue}a) \\gets Q(\\color{red}s, \\color{blue}a) + \\alpha \\delta$\n",
        "\n",
        "### 2. Greedy Policy Improvement\n",
        "\n",
        "Once a good approximation to the Q-value of a policy is obtained, we can improve this policy by simply changing action selection towards those that are evaluated higher. \n",
        "\n",
        "$$ \\pi_{greedy} (\\color{blue}a|\\color{red}s) = \\arg\\max_\\color{blue}a Q^{\\pi_e}(\\color{red}s,\\color{blue}a) $$"
      ]
    },
    {
      "cell_type": "markdown",
      "metadata": {
        "id": "cqrSos8dDPFb"
      },
      "source": [
        "### Create a policy evaluation agent\n",
        "\n",
        "An ACME `Actor` is the part of our framework that directly interacts with an environment by generating actions. Here we borrow a figure from Acme to show how this interaction occurs:\n",
        "\n",
        "<center><img src=\"https://drive.google.com/uc?id=1T7FTpA9RgDYFkciDFZK4brNyURZN_ZGp\" width=\"500\" /></center>\n",
        "\n",
        "While you can always write your own actor, we also provide a number of useful premade versions. \n",
        "\n",
        "Tabular agents implement a function `q_values()` returning a matrix of Q values\n",
        "of shape: (`number_of_states`, `number_of_actions`)\n",
        "\n",
        "In this section, we will implement a `PolicyEvalAgent` as an ACME actor: given an `evaluation_policy` and a `behaviour_policy`, it will use the `behaviour_policy` to choose actions, and it will use the corresponding trajectory data to evaluate the `evaluation_policy` (i.e. compute the Q-values as if you were following the `evaluation_policy`)."
      ]
    },
    {
      "cell_type": "code",
      "metadata": {
        "id": "iGtP3XRLF3qE",
        "cellView": "form"
      },
      "source": [
        "#@title **[Coding Task]** Policy Evaluation Agent { form-width: \"30%\" }\n",
        "class PolicyEvalAgent(acme.Actor):\n",
        "\n",
        "  def __init__(\n",
        "      self, \n",
        "      number_of_states, \n",
        "      number_of_actions,\n",
        "      evaluated_policy, \n",
        "      behaviour_policy=random_policy, \n",
        "      step_size=0.1):\n",
        "    self._state = None\n",
        "    self._number_of_states = number_of_states\n",
        "    self._number_of_actions = number_of_actions\n",
        "    self._step_size = step_size\n",
        "    self._behaviour_policy = behaviour_policy\n",
        "    self._evaluated_policy = evaluated_policy\n",
        "    \n",
        "    # ============ YOUR CODE HERE =============\n",
        "    # initialize your q-values (this is a table of state and action pairs\n",
        "    # Note: this can be random, but the code was tested w/ zero-initialization \n",
        "    pass\n",
        "    \n",
        "  @property\n",
        "  def q_values(self):\n",
        "    # ============ YOUR CODE HERE =============\n",
        "    pass\n",
        "\n",
        "  def select_action(self, observation):\n",
        "    # ============ YOUR CODE HERE =============\n",
        "    pass\n",
        "    \n",
        "  def observe_first(self, timestep):\n",
        "    self._state = timestep.observation\n",
        "\n",
        "  def observe(self, action, next_timestep):\n",
        "    s = self._state\n",
        "    a = action\n",
        "    r = next_timestep.reward\n",
        "    g = next_timestep.discount\n",
        "    next_s = next_timestep.observation\n",
        "\n",
        "    # ============ YOUR CODE HERE =============\n",
        "    # Compute TD-Error.\n",
        "    # self._td_error =\n",
        "    pass\n",
        "\n",
        "  def update(self):    \n",
        "    # ============ YOUR CODE HERE =============\n",
        "    # Q-value table update.\n",
        "    pass"
      ],
      "execution_count": 16,
      "outputs": []
    },
    {
      "cell_type": "code",
      "metadata": {
        "id": "BXMd87q0JVdr",
        "cellView": "form"
      },
      "source": [
        "#@title **[Solution]** Policy Evaluation Agent{ form-width: \"30%\" }\n",
        "class PolicyEvalAgent(acme.Actor):\n",
        "\n",
        "  def __init__(\n",
        "      self, number_of_states, number_of_actions, \n",
        "      evaluated_policy, \n",
        "      behaviour_policy=random_policy, \n",
        "      step_size=0.1):\n",
        "    self._state = None\n",
        "    self._number_of_states = number_of_states\n",
        "    self._number_of_actions = number_of_actions\n",
        "    self._step_size = step_size\n",
        "    self._behaviour_policy = behaviour_policy\n",
        "    self._evaluated_policy = evaluated_policy\n",
        "    \n",
        "    self._q = np.zeros((number_of_states, number_of_actions))\n",
        "    self._action = None\n",
        "    self._next_state = None\n",
        "\n",
        "  @property\n",
        "  def q_values(self):\n",
        "    return self._q\n",
        "\n",
        "  def select_action(self, observation):\n",
        "    return self._behaviour_policy(self._q[observation])\n",
        "    \n",
        "  def observe_first(self, timestep):\n",
        "    self._state = timestep.observation\n",
        "\n",
        "  def observe(self, action, next_timestep):\n",
        "    s = self._state\n",
        "    a = action\n",
        "    r = next_timestep.reward\n",
        "    g = next_timestep.discount\n",
        "    next_s = next_timestep.observation\n",
        "    \n",
        "    # Compute TD-Error.\n",
        "    self._action = a\n",
        "    self._next_state = next_s\n",
        "    \n",
        "    next_a = self._evaluated_policy(self._q[next_s])\n",
        "    self._td_error = r + g * self._q[next_s, next_a] - self._q[s, a]\n",
        "    \n",
        "    \n",
        "  def update(self):\n",
        "    # Q-value table update.\n",
        "    s = self._state\n",
        "    a = self._action\n",
        "    self._q[s, a] += self._step_size * self._td_error\n",
        "    self._state = self._next_state"
      ],
      "execution_count": 17,
      "outputs": []
    },
    {
      "cell_type": "code",
      "metadata": {
        "id": "FA8FRfY-Dsth",
        "cellView": "form"
      },
      "source": [
        "#@title Helper functions for visualisation  { form-width: \"30%\" }\n",
        "\n",
        "map_from_action_to_subplot = lambda a: (2, 6, 8, 4)[a]\n",
        "map_from_action_to_name = lambda a: (\"up\", \"right\", \"down\", \"left\")[a]\n",
        "\n",
        "def plot_values(values, colormap='pink', vmin=-1, vmax=10):\n",
        "  plt.imshow(values, interpolation=\"nearest\", cmap=colormap, vmin=vmin, vmax=vmax)\n",
        "  plt.yticks([])\n",
        "  plt.xticks([])\n",
        "  plt.colorbar(ticks=[vmin, vmax])\n",
        "\n",
        "def plot_state_value(action_values, epsilon=0.1):\n",
        "  q = action_values\n",
        "  fig = plt.figure(figsize=(4, 4))\n",
        "  vmin = np.min(action_values)\n",
        "  vmax = np.max(action_values)\n",
        "  v = (1 - epsilon) * np.max(q, axis=-1) + epsilon * np.mean(q, axis=-1)\n",
        "  plot_values(v, colormap='summer', vmin=vmin, vmax=vmax)\n",
        "  plt.title(\"$v(s)$\")\n",
        "\n",
        "def plot_action_values(action_values, epsilon=0.1):\n",
        "  q = action_values\n",
        "  fig = plt.figure(figsize=(8, 8))\n",
        "  fig.subplots_adjust(wspace=0.3, hspace=0.3)\n",
        "  vmin = np.min(action_values)\n",
        "  vmax = np.max(action_values)\n",
        "  dif = vmax - vmin\n",
        "  for a in [0, 1, 2, 3]:\n",
        "    plt.subplot(3, 3, map_from_action_to_subplot(a))\n",
        "    \n",
        "    plot_values(q[..., a], vmin=vmin - 0.05*dif, vmax=vmax + 0.05*dif)\n",
        "    action_name = map_from_action_to_name(a)\n",
        "    plt.title(r\"$q(s, \\mathrm{\" + action_name + r\"})$\")\n",
        "    \n",
        "  plt.subplot(3, 3, 5)\n",
        "  v = (1 - epsilon) * np.max(q, axis=-1) + epsilon * np.mean(q, axis=-1)\n",
        "  plot_values(v, colormap='summer', vmin=vmin, vmax=vmax)\n",
        "  plt.title(\"$v(s)$\")\n",
        "      \n",
        "\n",
        "def smooth(x, window=10):\n",
        "  return x[:window*(len(x)//window)].reshape(len(x)//window, window).mean(axis=1)\n",
        "  \n",
        "def plot_stats(stats, window=10):\n",
        "  plt.figure(figsize=(16,4))\n",
        "  plt.subplot(121)\n",
        "  xline = range(0, len(stats.episode_lengths), window)\n",
        "  plt.plot(xline, smooth(stats.episode_lengths, window=window))\n",
        "  plt.ylabel('Episode Length')\n",
        "  plt.xlabel('Episode Count')\n",
        "  plt.subplot(122)\n",
        "  plt.plot(xline, smooth(stats.episode_rewards, window=window))\n",
        "  plt.ylabel('Episode Return')\n",
        "  plt.xlabel('Episode Count')"
      ],
      "execution_count": 18,
      "outputs": []
    },
    {
      "cell_type": "markdown",
      "metadata": {
        "id": "KsuM-9sEKeT1"
      },
      "source": [
        "We will first see how this works on the `simple` GridWorld task.\n",
        "\n",
        "**Task 1**: Run the policy evaluation agent, evaluating the uniformly random policy on the `simple` task.\n",
        "\n",
        "Try different number of training steps, e.g. $\\texttt{num_steps} = 1e3, 1e5$. \n",
        "\n",
        "Visualise the resulting value functions $Q(\\color{red}s,\\color{blue}a)$.\n",
        "The plotting function is provided for you and it takes in a table of q-values."
      ]
    },
    {
      "cell_type": "code",
      "metadata": {
        "id": "YMumNsJIKhn_",
        "cellView": "form",
        "outputId": "a47cd2b3-26f4-434c-b30c-1dfd924eb9fa",
        "colab": {
          "base_uri": "https://localhost:8080/",
          "height": 493
        }
      },
      "source": [
        "num_steps = 1e5  #@param {type:\"number\"}\n",
        "\n",
        "# environment\n",
        "grid = build_gridworld_task(task='simple')\n",
        "environment, environment_spec = setup_environment(grid)\n",
        "\n",
        "# agent \n",
        "agent = PolicyEvalAgent(\n",
        "    number_of_states=environment_spec.observations.num_values, \n",
        "    number_of_actions=environment_spec.actions.num_values, \n",
        "    evaluated_policy=random_policy,\n",
        "    behaviour_policy=random_policy,\n",
        "    step_size=0.1)\n",
        "\n",
        "# run experiment and get the value functions from agent\n",
        "returns = run_loop(environment=environment, agent=agent, num_steps=int(num_steps))\n",
        "\n",
        "# get the q-values\n",
        "q = agent.q_values.reshape(grid._layout.shape + (4,))\n",
        "\n",
        "# visualize value functions\n",
        "print('AFTER {} STEPS ...'.format(num_steps))\n",
        "plot_action_values(q, epsilon=1.)"
      ],
      "execution_count": 19,
      "outputs": [
        {
          "output_type": "stream",
          "name": "stdout",
          "text": [
            "AFTER 100000.0 STEPS ...\n"
          ]
        },
        {
          "output_type": "display_data",
          "data": {
            "text/plain": [
              "<Figure size 576x576 with 10 Axes>"
            ],
            "image/png": "[encoded data removed]"
          },
          "metadata": {}
        }
      ]
    },
    {
      "cell_type": "markdown",
      "metadata": {
        "id": "0EfsRbSUN0B1"
      },
      "source": [
        "### Greedy Policy Improvement\n",
        "\n",
        "**Task 2**: Compute and Visualise the greedy policy based on the above evaluation, at the end of training.\n",
        "\n",
        "\n",
        "$$ \\pi_{greedy} (\\color{blue}a|\\color{red}s) = \\arg\\max_\\color{blue}a Q^{\\pi_e}(\\color{red}s,\\color{blue}a) $$\n",
        "\n",
        "**Q:** What do you observe? How does it compare to the behaviour policy we started from?"
      ]
    },
    {
      "cell_type": "code",
      "metadata": {
        "id": "qQFPI_0c1YXo"
      },
      "source": [
        "# @title **[Coding task]** Greedy policy\n",
        "def greedy(q_values):\n",
        "  pass"
      ],
      "execution_count": 20,
      "outputs": []
    },
    {
      "cell_type": "code",
      "metadata": {
        "id": "iTMx-QHU1f_j"
      },
      "source": [
        "# @title **[Solution]** Greedy policy\n",
        "def greedy(q_values):\n",
        "  return np.argmax(q_values)"
      ],
      "execution_count": 21,
      "outputs": []
    },
    {
      "cell_type": "code",
      "metadata": {
        "id": "bCcnLnvLOBYZ",
        "cellView": "form",
        "outputId": "ad769ccb-25c0-449d-ee0c-438af700c2f6",
        "colab": {
          "base_uri": "https://localhost:8080/",
          "height": 247
        }
      },
      "source": [
        "# @title Visualize the policy on `simple` { form-width: \"30%\" }\n",
        "\n",
        "# Do here whatever works for you, but you should be able to see what the agent\n",
        "# would do at each step/state.\n",
        "\n",
        "pi = np.zeros(grid._layout_dims, dtype=np.int32)\n",
        "for i in range(grid._layout_dims[0]):\n",
        "  for j in range(grid._layout_dims[1]):\n",
        "    pi[i, j] = greedy(q[i, j])\n",
        "    \n",
        "grid.plot_policy(pi)"
      ],
      "execution_count": 22,
      "outputs": [
        {
          "output_type": "display_data",
          "data": {
            "text/plain": [
              "<Figure size 288x288 with 1 Axes>"
            ],
            "image/png": "[encoded data removed]"
          },
          "metadata": {}
        }
      ]
    },
    {
      "cell_type": "markdown",
      "metadata": {
        "id": "W3fDpu9eOUm0"
      },
      "source": [
        "**Task 3**: Now try on the harder `obstacle` task and visualise the resulting value functions and the greedy policy on top of these values at the end of training.\n",
        "\n",
        "**Q:** What do you observe? \n",
        "- How does this policy compare with the optimal one?\n",
        "- Try running the training process longer -- what do you observe?"
      ]
    },
    {
      "cell_type": "code",
      "metadata": {
        "id": "Y4dbI0DLOeqC",
        "cellView": "form",
        "outputId": "3ab981af-266a-4d6c-a108-21380c7708a3",
        "colab": {
          "base_uri": "https://localhost:8080/",
          "height": 493
        }
      },
      "source": [
        "num_steps = 1e5 #@param {type:\"number\"}\n",
        "\n",
        "# environment\n",
        "grid = build_gridworld_task(task='obstacle')\n",
        "environment, environment_spec = setup_environment(grid)\n",
        "\n",
        "# agent \n",
        "agent = PolicyEvalAgent(\n",
        "    number_of_states=environment_spec.observations.num_values, \n",
        "    number_of_actions=environment_spec.actions.num_values, \n",
        "    evaluated_policy=random_policy,\n",
        "    behaviour_policy=random_policy,\n",
        "    step_size=0.1)\n",
        "\n",
        "# run experiment and get the value functions from agent\n",
        "returns = run_loop(environment=environment, agent=agent, num_steps=int(num_steps))\n",
        "\n",
        "# get the q-values\n",
        "q = agent.q_values.reshape(grid._layout.shape + (4,))\n",
        "\n",
        "# visualize value functions\n",
        "print('AFTER {} STEPS ...'.format(num_steps))\n",
        "plot_action_values(q, epsilon=1.)"
      ],
      "execution_count": 23,
      "outputs": [
        {
          "output_type": "stream",
          "name": "stdout",
          "text": [
            "AFTER 100000.0 STEPS ...\n"
          ]
        },
        {
          "output_type": "display_data",
          "data": {
            "text/plain": [
              "<Figure size 576x576 with 10 Axes>"
            ],
            "image/png": "[encoded data removed]"
          },
          "metadata": {}
        }
      ]
    },
    {
      "cell_type": "code",
      "metadata": {
        "id": "D4KxWhW8PCD9",
        "cellView": "form",
        "outputId": "8e699093-a210-4c04-d708-9807bc16f14d",
        "colab": {
          "base_uri": "https://localhost:8080/",
          "height": 247
        }
      },
      "source": [
        "# @title Visualise the greedy policy on `obstacle` { form-width: \"30%\" }\n",
        "grid.plot_greedy_policy(q)"
      ],
      "execution_count": 24,
      "outputs": [
        {
          "output_type": "display_data",
          "data": {
            "text/plain": [
              "<Figure size 288x288 with 1 Axes>"
            ],
            "image/png": "[encoded data removed]"
          },
          "metadata": {}
        }
      ]
    },
    {
      "cell_type": "markdown",
      "metadata": {
        "id": "EcrhrNnIr3kX"
      },
      "source": [
        "## 1.2 On-policy control: SARSA Agent\n",
        "In this section, we are focusing on control RL algorithms, which perform the evaluation and improvement of the policy synchronously. That is, the policy that is being evaluated improves as the agent is using it to interact with the environent.\n",
        "\n",
        "\n",
        "The first algorithm we are going to be looking at is SARSA. This is an **on-policy algorithm** -- i.e: the data collection is done by leveraging the policy we're trying to optimize (and not just another fixed behaviour policy). \n",
        "\n",
        "As discussed during lectures, a greedy policy with respect to a given estimate of $Q^\\pi$ fails to explore the environment as needed; we will use instead an $\\epsilon$-greedy policy WRT $Q^\\pi$.\n",
        "\n",
        "### SARSA Algorithm\n",
        "\n",
        "\n",
        "**Initialize** $Q(\\color{red}{s}, \\color{blue}{a})$ for all $\\color{red}{s}$ ∈ $\\mathcal{\\color{red}S}$ and $\\color{blue}a$ ∈ $\\mathcal{\\color{blue}A}(\\color{red}s)$\n",
        "\n",
        "**Loop forever**:\n",
        "\n",
        "1. $\\color{red}s \\gets{}$current (nonterminal) state\n",
        " \n",
        "1. $\\color{blue}a \\gets{} \\text{epsilon_greedy}(Q(\\color{red}s, \\cdot))$\n",
        " \n",
        "1. Take action $\\color{blue}a$; observe resultant reward $\\color{green}r$, discount $\\gamma$, and state, $\\color{red}{s'}$\n",
        "\n",
        "1. $\\color{blue}{a'} \\gets{} \\text{epsilon_greedy}(Q(\\color{red}{s'}, \\cdot))$\n",
        " \n",
        "1. $Q(\\color{red}s, \\color{blue}a) \\gets Q(\\color{red}s, \\color{blue}a) + \\alpha (\\color{green}r + \\gamma Q(\\color{red}{s'}, \\color{blue}{a'}) − Q(\\color{red}s, \\color{blue}a))$"
      ]
    },
    {
      "cell_type": "code",
      "metadata": {
        "id": "xNfVHzosN2P0",
        "cellView": "form"
      },
      "source": [
        "# @title **[Coding Task]** Epilson-greedy policy { form-width: \"30%\" }\n",
        "# Input(s): Q(s,:), epsilon\n",
        "# Output:   Sampled action based on epsilon-Greedy(Q(s,:))\n",
        "def epsilon_greedy(q_values, epsilon=0.1):\n",
        "  pass\n",
        "  #return the epsilon greedy action"
      ],
      "execution_count": 25,
      "outputs": []
    },
    {
      "cell_type": "code",
      "metadata": {
        "id": "XWqlIWbwN7Mk",
        "cellView": "form"
      },
      "source": [
        "# @title **[Solution]** Epilson-greedy policy { form-width: \"30%\" }\n",
        "def epsilon_greedy(q_values, epsilon=0.1):\n",
        "  if epsilon < np.random.random():\n",
        "    return np.argmax(q_values)\n",
        "  else:\n",
        "    return np.random.randint(np.array(q_values).shape[-1])"
      ],
      "execution_count": 26,
      "outputs": []
    },
    {
      "cell_type": "code",
      "metadata": {
        "id": "7bmAV4Kcr7Zz",
        "cellView": "form"
      },
      "source": [
        "#@title **[Coding Task]** SARSA Agent  { form-width: \"30%\" }\n",
        "class SarsaAgent(acme.Actor):\n",
        "\n",
        "  def __init__(\n",
        "      self, number_of_states, number_of_actions, epsilon, step_size=0.1): \n",
        "    self._q = np.zeros((number_of_states, number_of_actions))\n",
        "    self._step_size = step_size\n",
        "    self._epsilon = epsilon\n",
        "    self._state = None\n",
        "    self._action = None\n",
        "    self._next_state = None\n",
        "    \n",
        "  @property\n",
        "  def q_values(self):\n",
        "    return self._q\n",
        "\n",
        "  def select_action(self, observation):\n",
        "    return epsilon_greedy(self._q[observation], self._epsilon)\n",
        "    \n",
        "  def observe_first(self, timestep):\n",
        "    self._state = timestep.observation\n",
        "\n",
        "  def observe(self, action, next_timestep):\n",
        "    s = self._state\n",
        "    a = action\n",
        "    r = next_timestep.reward\n",
        "    g = next_timestep.discount\n",
        "    next_s = next_timestep.observation\n",
        "    \n",
        "    # ============ YOUR CODE HERE =============\n",
        "    # Online Q-value update\n",
        "    # self._td_error =\n",
        "    pass\n",
        "\n",
        "  def update(self):\n",
        "    # ============ YOUR CODE HERE =============\n",
        "    # Q-value table update\n",
        "    pass"
      ],
      "execution_count": 27,
      "outputs": []
    },
    {
      "cell_type": "code",
      "metadata": {
        "id": "JtlH1tU7sCEm",
        "cellView": "form"
      },
      "source": [
        "#@title **[Solution]** SARSA Agent { form-width: \"30%\" }\n",
        "class SarsaAgent(acme.Actor):\n",
        "\n",
        "  def __init__(\n",
        "      self, number_of_states, number_of_actions, epsilon, step_size=0.1): \n",
        "    self._q = np.zeros((number_of_states, number_of_actions))\n",
        "    self._number_of_states = number_of_states\n",
        "    self._number_of_actions = number_of_actions\n",
        "    self._step_size = step_size\n",
        "    self._epsilon = epsilon\n",
        "    self._state = None\n",
        "    self._action = None\n",
        "    self._next_state = None\n",
        "    \n",
        "  @property\n",
        "  def q_values(self):\n",
        "    return self._q\n",
        "\n",
        "  def select_action(self, observation):\n",
        "    return epsilon_greedy(self._q[observation], self._epsilon)\n",
        "    \n",
        "  def observe_first(self, timestep):\n",
        "    self._state = timestep.observation\n",
        "\n",
        "  def observe(self, action, next_timestep):\n",
        "    s = self._state\n",
        "    a = action\n",
        "    r = next_timestep.reward\n",
        "    g = next_timestep.discount\n",
        "    next_s = next_timestep.observation\n",
        "    next_a = epsilon_greedy(self._q[next_s], self._epsilon)\n",
        "    \n",
        "    # Online Q-value update\n",
        "    self._action = a\n",
        "    self._next_state = next_s\n",
        "    self._td_error = r + g * self._q[next_s, next_a] - self._q[s, a]\n",
        "\n",
        "  def update(self):\n",
        "    s = self._state\n",
        "    a = self._action\n",
        "    self._q[s, a] += self._step_size * self._td_error\n",
        "    self._state = self._next_state"
      ],
      "execution_count": 28,
      "outputs": []
    },
    {
      "cell_type": "markdown",
      "metadata": {
        "id": "K8eBOcXZu1fM"
      },
      "source": [
        "### **Task**: Run your SARSA agent on the `obstacle` environment"
      ]
    },
    {
      "cell_type": "code",
      "metadata": {
        "id": "xKYEB2d2uGaa",
        "cellView": "form",
        "outputId": "7d95dc7d-eca4-4bce-a075-4d5454b926f4",
        "colab": {
          "base_uri": "https://localhost:8080/",
          "height": 723
        }
      },
      "source": [
        "num_steps = 1e5 #@param {type:\"number\"}\n",
        "\n",
        "# environment\n",
        "grid = build_gridworld_task(task='obstacle')\n",
        "environment, environment_spec = setup_environment(grid)\n",
        "\n",
        "# agent \n",
        "agent = SarsaAgent(\n",
        "    number_of_states=environment_spec.observations.num_values, \n",
        "    number_of_actions=environment_spec.actions.num_values, \n",
        "    epsilon=0.1,\n",
        "    step_size=0.1)\n",
        "\n",
        "# run experiment and get the value functions from agent\n",
        "returns = run_loop(environment=environment, agent=agent, num_steps=int(num_steps))\n",
        "\n",
        "# get the q-values\n",
        "q = agent.q_values.reshape(grid._layout.shape + (4,))\n",
        "\n",
        "# visualize value functions\n",
        "print('AFTER {} STEPS ...'.format(num_steps))\n",
        "plot_action_values(q, epsilon=1.)\n",
        "\n",
        "# visualise the greedy policy\n",
        "grid.plot_greedy_policy(q)"
      ],
      "execution_count": 29,
      "outputs": [
        {
          "output_type": "stream",
          "name": "stdout",
          "text": [
            "AFTER 100000.0 STEPS ...\n"
          ]
        },
        {
          "output_type": "display_data",
          "data": {
            "text/plain": [
              "<Figure size 576x576 with 10 Axes>"
            ],
            "image/png": "[encoded data removed]"
          },
          "metadata": {}
        },
        {
          "output_type": "display_data",
          "data": {
            "text/plain": [
              "<Figure size 288x288 with 1 Axes>"
            ],
            "image/png": "[encoded data removed]"
          },
          "metadata": {}
        }
      ]
    },
    {
      "cell_type": "markdown",
      "metadata": {
        "id": "pFGX_zGcvb8D"
      },
      "source": [
        "## 1.3 Off-policy control: Q-learning Agent\n",
        "\n",
        "Reminder: Q-learning is a very powerful and general algorithm, that enables control (figuring out the optimal policy/value function) both on and off-policy.\n",
        "\n",
        "**Initialize** $Q(\\color{red}{s}, \\color{blue}{a})$ for all $\\color{red}{s} \\in \\color{red}{\\mathcal{S}}$ and $\\color{blue}{a} \\in \\color{blue}{\\mathcal{A}}(\\color{red}{s})$\n",
        "\n",
        "**Loop forever**:\n",
        "\n",
        "1. $\\color{red}{s} \\gets{}$current (nonterminal) state\n",
        " \n",
        "2. $\\color{blue}{a} \\gets{} \\text{behaviour_policy}(\\color{red}{s})$\n",
        " \n",
        "3. Take action $\\color{blue}{a}$; observe resultant reward $\\color{green}{R}$, discount $\\gamma$, and state, $\\color{red}{s'}$\n",
        "\n",
        "4. $Q(\\color{red}{s}, \\color{blue}{a}) \\gets Q(\\color{red}{s}, \\color{blue}{a}) + \\alpha (\\color{green}{R} + \\gamma \\max_{\\color{blue}{a'}} Q(\\color{red}{s'}, \\color{blue}{a'}) − Q(\\color{red}{s}, \\color{blue}{a}))$"
      ]
    },
    {
      "cell_type": "code",
      "metadata": {
        "id": "I6s820jAwoVA",
        "cellView": "form"
      },
      "source": [
        "#@title **[Coding Task]** Q-Learning Agent  { form-width: \"30%\" }\n",
        "class QLearningAgent(acme.Actor):\n",
        "\n",
        "  def __init__(\n",
        "      self, number_of_states, number_of_actions, behaviour_policy, step_size=0.1): \n",
        "    self._q = np.zeros((number_of_states, number_of_actions))\n",
        "    self._step_size = step_size\n",
        "    self._behaviour_policy = behaviour_policy\n",
        "    self._state = None\n",
        "    self._action = None\n",
        "    self._next_state = None\n",
        "    \n",
        "  @property\n",
        "  def q_values(self):\n",
        "    return self._q\n",
        "\n",
        "  def select_action(self, observation):\n",
        "    return self._behaviour_policy(self._q[observation])\n",
        "    \n",
        "  def observe_first(self, timestep):\n",
        "    self._state = timestep.observation\n",
        "\n",
        "  def observe(self, action, next_timestep):\n",
        "    s = self._state\n",
        "    a = action\n",
        "    r = next_timestep.reward\n",
        "    g = next_timestep.discount\n",
        "    next_s = next_timestep.observation\n",
        "    \n",
        "    # ============ YOUR CODE HERE =============\n",
        "    # Offline Q-value update\n",
        "    # self._td_error =\n",
        "    pass\n",
        "\n",
        "  def update(self):\n",
        "    # ============ YOUR CODE HERE =============\n",
        "    pass"
      ],
      "execution_count": 30,
      "outputs": []
    },
    {
      "cell_type": "code",
      "metadata": {
        "id": "ak1T5PNV8Pbk",
        "cellView": "form"
      },
      "source": [
        "#@title **[Solution]** Q-Learning Agent { form-width: \"30%\" }\n",
        "class QLearningAgent(acme.Actor):\n",
        "\n",
        "  def __init__(\n",
        "      self, number_of_states, number_of_actions, behaviour_policy, step_size=0.1): \n",
        "    self._q = np.zeros((number_of_states, number_of_actions))\n",
        "    self._step_size = step_size\n",
        "    self._behaviour_policy = behaviour_policy\n",
        "    self._state = None\n",
        "    self._action = None\n",
        "    self._next_state = None\n",
        "    \n",
        "  @property\n",
        "  def q_values(self):\n",
        "    return self._q\n",
        "\n",
        "  def select_action(self, observation):\n",
        "    return self._behaviour_policy(self._q[observation])\n",
        "    \n",
        "  def observe_first(self, timestep):\n",
        "    self._state = timestep.observation\n",
        "\n",
        "  def observe(self, action, next_timestep):\n",
        "    s = self._state\n",
        "    a = action\n",
        "    r = next_timestep.reward\n",
        "    g = next_timestep.discount\n",
        "    next_s = next_timestep.observation\n",
        "    \n",
        "    # Offline Q-value update\n",
        "    self._action = a\n",
        "    self._next_state = next_s\n",
        "    self._td_error = r + g * np.max(self._q[next_s]) - self._q[s, a]\n",
        "\n",
        "  def update(self):\n",
        "    s = self._state\n",
        "    a = self._action\n",
        "    self._q[s, a] += self._step_size * self._td_error\n",
        "    self._state = self._next_state"
      ],
      "execution_count": 31,
      "outputs": []
    },
    {
      "cell_type": "markdown",
      "metadata": {
        "id": "2RqdV3rjwcAh"
      },
      "source": [
        "### **Task 1**: Run your Q-learning agent on `obstacle`\n",
        "\n"
      ]
    },
    {
      "cell_type": "code",
      "metadata": {
        "id": "LL4PgT-jwi3-",
        "cellView": "form",
        "outputId": "1d16ec3d-50c9-478e-8754-4ebf814bdd3d",
        "colab": {
          "base_uri": "https://localhost:8080/",
          "height": 723
        }
      },
      "source": [
        "epsilon =   1.0#@param {type:\"number\"} \n",
        "num_steps = 1e5  #@param {type:\"number\"}\n",
        "\n",
        "# environment\n",
        "grid = build_gridworld_task(task='obstacle')\n",
        "environment, environment_spec = setup_environment(grid)\n",
        "\n",
        "# behavior policy\n",
        "behavior_policy = lambda qval: epsilon_greedy(qval, epsilon=epsilon)\n",
        "\n",
        "# agent\n",
        "agent = QLearningAgent(\n",
        "    number_of_states=environment_spec.observations.num_values,\n",
        "    number_of_actions=environment_spec.actions.num_values,\n",
        "    behaviour_policy=behavior_policy,\n",
        "    step_size=0.1)\n",
        "\n",
        "# run experiment and get the value functions from agent\n",
        "returns = run_loop(environment=environment, agent=agent, num_steps=int(num_steps))\n",
        "\n",
        "# get the q-values\n",
        "q = agent.q_values.reshape(grid._layout.shape + (4,))\n",
        "\n",
        "# visualize value functions\n",
        "print('AFTER {} STEPS ...'.format(num_steps))\n",
        "plot_action_values(q, epsilon=epsilon)\n",
        "\n",
        "# visualise the greedy policy\n",
        "grid.plot_greedy_policy(q)"
      ],
      "execution_count": 32,
      "outputs": [
        {
          "output_type": "stream",
          "name": "stdout",
          "text": [
            "AFTER 100000.0 STEPS ...\n"
          ]
        },
        {
          "output_type": "display_data",
          "data": {
            "text/plain": [
              "<Figure size 576x576 with 10 Axes>"
            ],
            "image/png": "[encoded data removed]"
          },
          "metadata": {}
        },
        {
          "output_type": "display_data",
          "data": {
            "text/plain": [
              "<Figure size 288x288 with 1 Axes>"
            ],
            "image/png": "[encoded data removed]"
          },
          "metadata": {}
        }
      ]
    },
    {
      "cell_type": "markdown",
      "metadata": {
        "id": "cMk2ArG-weg_"
      },
      "source": [
        "### **Task 2:** Experiment with different levels of 'greediness'\n",
        "* The default was $\\epsilon=1.$, what does this correspond to?\n",
        "* Try also $\\epsilon =0.1, 0.5$. What do you observe? Does the behaviour policy affect the training in any way?"
      ]
    },
    {
      "cell_type": "markdown",
      "metadata": {
        "id": "XFig9STjM827"
      },
      "source": [
        "## 1.4 Recap: Policy iteration vs. SARSA vs. Q-learning\n",
        "\n",
        "The table below captures the main differences between the three algorithms we just discussed.\n",
        "\n",
        "<table width=\"700\">\n",
        "  <colgroup>\n",
        "      <col span=\"1\" width=\"100\">\n",
        "      <col span=\"1\" width=\"190\">\n",
        "      <col span=\"1\" width=\"150\">\n",
        "      <col span=\"1\" width=\"400\">\n",
        "  </colgroup>\n",
        "  <tbody>\n",
        "    <tr>\n",
        "      <td height=\"20\"> <b> Algorithm </b> </td>\n",
        "      <td> <b> Behaviour policy </b> </td>\n",
        "      <td> <b> Evaluated policy </b> </td>\n",
        "      <td> <b> Update rule </b> </td>\n",
        "    </tr>\n",
        "    <tr>\n",
        "      <td height=\"50\"> Policy Iteration </td>\n",
        "      <td> any (e.g. random) --> off-policy </td>\n",
        "      <td> changes periodically </td>\n",
        "      <td> $Q(\\color{red}s, \\color{blue}a) \\gets Q(\\color{red}s, \\color{blue}a) + \\alpha (\\color{green}R + \\gamma Q(\\color{red}{s'}, \\underbrace{\\pi_e(\\color{red}{s'}}_{\\color{blue}{a'}})) − Q(\\color{red}s, \\color{blue}a))$  </td>\n",
        "    </tr>\n",
        "    <tr>\n",
        "      <td height=\"50\"> SARSA </td>\n",
        "      <td> epsilon-greedy --> on-policy </td>\n",
        "      <td> changes after every step </td>\n",
        "      <td> $Q(\\color{red}s, \\color{blue}a) \\gets Q(\\color{red}s, \\color{blue}a) + \\alpha (\\color{green}R + \\gamma Q(\\color{red}{s'}, \\color{blue}{a'}) − Q(\\color{red}s, \\color{blue}a))$   </td>\n",
        "    </tr>\n",
        "    <tr>\n",
        "      <td height=\"50\"> Q-learning </td>\n",
        "      <td> any (e.g. random) --> off-policy </td>\n",
        "      <td> changes after every step </td>\n",
        "      <td> $Q(\\color{red}{s}, \\color{blue}{a}) \\gets Q(\\color{red}{s}, \\color{blue}{a}) + \\alpha (\\color{green}{R} + \\gamma \\max_{\\color{blue}{a'}} Q(\\color{red}{s'}, \\color{blue}{a'}) − Q(\\color{red}{s}, \\color{blue}{a}))$   </td>\n",
        "    </tr>\n",
        "  </tbody>\n",
        "</table>\n",
        "\n",
        "$ $     "
      ]
    },
    {
      "cell_type": "markdown",
      "metadata": {
        "id": "Lqg1n48y81ei"
      },
      "source": [
        "## 1.5 **[Homework]** Experience Replay\n",
        "\n",
        "Implement an agent that uses **Experience Replay** to learn action values, at each step:\n",
        "* select actions randomly\n",
        "* accumulate all observed transitions *(s, a, r, s')* in the environment in a *replay buffer*,\n",
        "* apply an online Q-learning \n",
        "* apply multiple Q-learning updates based on transitions sampled from the *replay buffer* (in addition to the online updates).\n",
        "\n",
        "\n",
        "**Initialize** $Q(\\color{red}s, \\color{blue}a)$ for all $\\color{red}{s} ∈ \\mathcal{\\color{red}S}$ and $\\color{blue}a ∈ \\mathcal{\\color{blue}A}(\\color{red}s)$\n",
        "\n",
        "**Loop forever**:\n",
        "\n",
        "1. $\\color{red}{s} \\gets{}$current (nonterminal) state\n",
        " \n",
        "2. $\\color{blue}{a} \\gets{} \\text{random_action}(\\color{red}{s})$\n",
        " \n",
        "3. Take action $\\color{blue}{a}$; observe resultant reward $\\color{green}{r}$, discount $\\gamma$, and state, $\\color{red}{s'}$\n",
        "\n",
        "4. $Q(\\color{red}{s}, \\color{blue}{a}) \\gets Q(\\color{red}{s}, \\color{blue}{a}) + \\alpha (\\color{green}{r} + \\gamma Q(\\color{red}{s'}, \\color{blue}{a'}) − Q(\\color{red}{s}, \\color{blue}{a}))$\n",
        "\n",
        "5. $\\text{ReplayBuffer.append_transition}(s, a, r, \\gamma, s')$\n",
        "\n",
        "6. Loop repeat n times:\n",
        "\n",
        "  1. $\\color{red}{s}, \\color{blue}{a}, \\color{green}{r}, \\gamma, \\color{red}{s'} \\gets \\text{ReplayBuffer}.\\text{sample_transition}()$\n",
        "  \n",
        "  4. $Q(\\color{red}{s}, \\color{blue}{a}) \\gets Q(\\color{red}{s}, \\color{blue}{a}) + \\alpha (\\color{green}{r} + \\gamma \\max_\\color{blue}{a'} Q(\\color{red}{s'}, \\color{blue}{a'}) − Q(\\color{red}{s}, \\color{blue}{a}))$"
      ]
    },
    {
      "cell_type": "code",
      "metadata": {
        "id": "ietFnV739JwD",
        "cellView": "form"
      },
      "source": [
        "#@title **[Coding Task]** Q-learning AGENT with a simple replay buffer { form-width: \"30%\" }\n",
        "class ReplayQLearningAgent(acme.Actor):\n",
        "\n",
        "  def __init__(\n",
        "      self, number_of_states, number_of_actions, behaviour_policy, \n",
        "      num_offline_updates=0, step_size=0.1): \n",
        "    self._q = np.zeros((number_of_states, number_of_actions))\n",
        "    self._step_size = step_size\n",
        "    self._behaviour_policy = behaviour_policy\n",
        "    self._num_offline_updates = num_offline_updates\n",
        "    self._state = None\n",
        "    self._action = None\n",
        "    self._next_state = None\n",
        "    self._replay_buffer = []\n",
        "    \n",
        "  @property\n",
        "  def q_values(self):\n",
        "    return self._q\n",
        "\n",
        "  def select_action(self, observation):\n",
        "    return self._behaviour_policy(self._q[observation])\n",
        "    \n",
        "  def observe_first(self, timestep):\n",
        "    self._state = timestep.observation\n",
        "\n",
        "  def observe(self, action, next_timestep):\n",
        "    s = self._state\n",
        "    a = action\n",
        "    r = next_timestep.reward\n",
        "    g = next_timestep.discount\n",
        "    next_s = next_timestep.observation\n",
        "    \n",
        "    # Offline Q-value update\n",
        "    self._action = a\n",
        "    self._next_state = next_s\n",
        "    self._td_error = r + g * np.max(self._q[next_s]) - self._q[s, a]\n",
        "\n",
        "    if self._num_offline_updates > 0:\n",
        "      # ============ YOUR CODE HERE =============\n",
        "      # Update replay buffer.\n",
        "      pass\n",
        "    \n",
        "  def update(self):\n",
        "    s = self._state\n",
        "    a = self._action\n",
        "    self._q[s, a] += self._step_size * self._td_error\n",
        "    self._state = self._next_state\n",
        "\n",
        "    # Offline Q-value update\n",
        "    # ============ YOUR CODE HERE ============="
      ],
      "execution_count": 33,
      "outputs": []
    },
    {
      "cell_type": "code",
      "metadata": {
        "id": "I6Lunsx1-kmf",
        "cellView": "form"
      },
      "source": [
        "#@title **[Solution]**  Q-learning AGENT with a simple replay buffer { form-width: \"30%\" }\n",
        "class ReplayQLearningAgent(acme.Actor):\n",
        "\n",
        "  def __init__(\n",
        "      self, number_of_states, number_of_actions, behaviour_policy, \n",
        "      num_offline_updates=0, step_size=0.1): \n",
        "    self._q = np.zeros((number_of_states, number_of_actions))\n",
        "    self._step_size = step_size\n",
        "    self._behaviour_policy = behaviour_policy\n",
        "    self._num_offline_updates = num_offline_updates\n",
        "    self._state = None\n",
        "    self._action = None\n",
        "    self._next_state = None\n",
        "    self._replay_buffer = []\n",
        "    \n",
        "  @property\n",
        "  def q_values(self):\n",
        "    return self._q\n",
        "\n",
        "  def select_action(self, observation):\n",
        "    return self._behaviour_policy(self._q[observation])\n",
        "    \n",
        "  def observe_first(self, timestep):\n",
        "    self._state = timestep.observation\n",
        "\n",
        "  def observe(self, action, next_timestep):\n",
        "    s = self._state\n",
        "    a = action\n",
        "    r = next_timestep.reward\n",
        "    g = next_timestep.discount\n",
        "    next_s = next_timestep.observation\n",
        "    \n",
        "    # Offline Q-value update\n",
        "    self._action = a\n",
        "    self._next_state = next_s\n",
        "    self._td_error = r + g * np.max(self._q[next_s]) - self._q[s, a]\n",
        "\n",
        "    if self._num_offline_updates > 0:\n",
        "      self._replay_buffer.append((s, a, r, g, next_s))\n",
        "\n",
        "  def update(self):\n",
        "    s = self._state\n",
        "    a = self._action\n",
        "    self._q[s, a] += self._step_size * self._td_error\n",
        "    self._state = self._next_state\n",
        "\n",
        "    # Offline Q-value update\n",
        "    if len(self._replay_buffer) > self._num_offline_updates:\n",
        "      for i in range(self._num_offline_updates):\n",
        "        idx = np.random.randint(0, len(self._replay_buffer))\n",
        "        s, a, r, g, next_s = self._replay_buffer[idx]\n",
        "        td_error = r + g * np.max(self._q[next_s]) - self._q[s, a]\n",
        "        self._q[s, a] += self._step_size * td_error"
      ],
      "execution_count": 34,
      "outputs": []
    },
    {
      "cell_type": "markdown",
      "metadata": {
        "id": "k3J6CE2M_AdF"
      },
      "source": [
        "### **Task**: Compare Q-learning with/without experience replay\n",
        "\n",
        "Use a small number of training steps (e.g. `num_steps = 1e3`) and vary `num_offline_updates` between `0` and `30`."
      ]
    },
    {
      "cell_type": "code",
      "metadata": {
        "id": "9yLCXKBH_F0j",
        "cellView": "form",
        "outputId": "18599db0-fa10-46cd-d95f-47b873ee243d",
        "colab": {
          "base_uri": "https://localhost:8080/",
          "height": 706
        }
      },
      "source": [
        "num_offline_updates = 0#@param {type:\"integer\"}\n",
        "num_steps = 1e3\n",
        "\n",
        "grid = build_gridworld_task(task='obstacle')\n",
        "environment, environment_spec = setup_environment(grid)\n",
        "\n",
        "agent = ReplayQLearningAgent(\n",
        "    number_of_states=environment_spec.observations.num_values,\n",
        "    number_of_actions=environment_spec.actions.num_values,\n",
        "    behaviour_policy=random_policy,\n",
        "    num_offline_updates=num_offline_updates,\n",
        "    step_size=0.1)\n",
        "\n",
        "# run experiment and get the value functions from agent\n",
        "returns = run_loop(environment=environment, agent=agent, num_steps=int(num_steps))\n",
        "\n",
        "q = agent.q_values.reshape(grid._layout.shape + (4,))\n",
        "plot_action_values(q)\n",
        "\n",
        "grid.plot_greedy_policy(q)"
      ],
      "execution_count": 35,
      "outputs": [
        {
          "output_type": "display_data",
          "data": {
            "text/plain": [
              "<Figure size 576x576 with 10 Axes>"
            ],
            "image/png": "[encoded data removed]"
          },
          "metadata": {}
        },
        {
          "output_type": "display_data",
          "data": {
            "text/plain": [
              "<Figure size 288x288 with 1 Axes>"
            ],
            "image/png": "[encoded data removed]"
          },
          "metadata": {}
        }
      ]
    },
    {
      "cell_type": "markdown",
      "metadata": {
        "id": "Rkn2ud_0Pn2o"
      },
      "source": [
        "# RL Lab - Part 2: Function Approximation"
      ]
    },
    {
      "cell_type": "markdown",
      "metadata": {
        "id": "yxqnvCLoe3KU"
      },
      "source": [
        "<img src=\"https://drive.google.com/uc?id=1oqIQNM_tMPmP8l38C_3yp5uUego3S8kV\" width=\"500\" />\n",
        "\n",
        "So far we only considered look-up tables. In all previous cases every state and action pair $(\\color{red}{s}, \\color{blue}{a})$, had an entry in our Q table. Again, this is possible in this environment as the number of states is a equal to the number of cells in the grid. But this is not scalable to situations where, say, the goal location changes or the obstacles are in different locations at every episode (consider how big the table should be in this situation?).\n",
        "\n",
        "As example (not covered in this tutorial) is ATARI from pixels, where the number of possible frames an agent can see is exponential in the number of pixels on the screen.\n",
        "\n",
        "<center><img width=\"200\" alt=\"portfolio_view\" src=\"https://miro.medium.com/max/1760/1*XyIpmXXAjbXerDzmGQL1yA.gif\"></center>\n",
        "\n",
        "But what we **really** want is just being able to *compute* the Q-value, when fed with a particular $(\\color{red}{s}, \\color{blue}{a})$ pair. So if we had a way to get a function to do this work instead of keeping a big table, we'd get around this problem.\n",
        "\n",
        "To address this, we can use **Function Approximation** as a way to generalize Q-values over some representation of the very large state space, and **train** them to output the values they should. In this section, we will explore Q-Learning with function approximation, which, although theoretically proven to diverge for some degenerate MDPs, can yield impressive results in very large environments. In particular, we will look at [Neural Fitted Q (NFQ) Iteration](http://ml.informatik.uni-freiburg.de/former/_media/publications/rieecml05.pdf).\n",
        "\n",
        "\n"
      ]
    },
    {
      "cell_type": "markdown",
      "metadata": {
        "id": "OTAYVPnaJN0t"
      },
      "source": [
        "## 2.1 NFQ agent"
      ]
    },
    {
      "cell_type": "markdown",
      "metadata": {
        "id": "-omtUOQCS8VI"
      },
      "source": [
        "[Neural Fitted Q Iteration](http://ml.informatik.uni-freiburg.de/former/_media/publications/rieecml05.pdf) was one of the first papers to demonstrate how to leverage recent advances in Deep Learning to approximate the Q-value by a neural network $^1$.\n",
        "\n",
        "We represent $Q(\\color{red}s, \\color{blue}a)$ as a neural network $f()$. which given a vector $\\color{red}s$, will output a vector of Q-values for all possible actions $\\color{blue}a$.$^2$\n",
        "\n",
        "When introducing function approximations, and neural networks in particular, we need to have a loss to optimize. But looking back at the tabular setting above, you can see that we already have some notion of error: the **TD error**.\n",
        "\n",
        "By training our neural network to output values such that the *TD error is minimized*, we will also satisfy the Bellman Optimality Equation, which is a good sufficient condition to enforce, so that we may obtain an optimal policy.\n",
        "Thanks to automatic differentiation, we can just write the TD error as a loss (e.g. with a $L2$ loss, but others would work too), compute its gradient (which are now gradients with respect to individual parameters of the neural network) and slowly improve our Q-value approximation:\n",
        "\n",
        "$$Loss = \\mathbb{E}\\left[ \\left( \\color{green}{r} + \\gamma \\max_\\color{blue}{a'} Q(\\color{red}{s'}, \\color{blue}{a'}) − Q(\\color{red}{s}, \\color{blue}{a})  \\right)^2\\right]$$\n",
        "\n",
        "\n",
        "NFQ builds on Q-learning, but if one were to update the Q-values online directly, the training can be unstable and very slow.\n",
        "Instead, NFQ uses a Replay buffer, similar to what you just implemented above, to update the Q-value in a batched setting.\n",
        "\n",
        "When it was introduced, it also was entirely off-policy (i.e. one would use a random policy to collect data), and is prone to unstability when applied to more complex environments (e.g. when the input are pixels or the tasks are longer and complicated).\n",
        "But it is a good stepping stone to the more complex agents used today. Here, we will look at a slightly different and modernised implementation of NFQ.\n",
        "\n",
        "<br />\n",
        "\n",
        "---\n",
        "\n",
        "<sub>*$^1$ if you read the NFQ paper, they use a \"control\" notation, where there is a \"cost to minimize\", instead of \"rewards to maximize\", so don't be surprised if signs/max/min do not correspond.* </sub>\n",
        "\n",
        "<sub>*$^2$ we could feed it $\\color{blue}a$ as well and ask $f$ for a single scalar value, but given we have a fixed number of actions and we usually need to take an $argmax$ over them, it's easiest to just output them all in one pass.*</sub>"
      ]
    },
    {
      "cell_type": "markdown",
      "metadata": {
        "id": "_NjO3wD-Sphk"
      },
      "source": [
        "<center><img src=\"https://drive.google.com/uc?id=1ivTQBHWkYi_J9vWwXFd2sSWg5f2TB5T-\" width=\"400\" /></center> "
      ]
    },
    {
      "cell_type": "code",
      "metadata": {
        "id": "KULsnljicr9t"
      },
      "source": [
        "#@title **[Coding Task]** NFQ Agent  { form-width: \"30%\" }\n",
        "\n",
        "Transitions = collections.namedtuple('Transitions',\n",
        "                                     ['s_t', 'a_t', 'r_t', 'd_t', 's_tp1'])\n",
        "TrainingState = namedtuple('TrainingState', 'params, opt_state, step')\n",
        "\n",
        "\n",
        "class NeuralFittedQAgent(acme.Actor):\n",
        "\n",
        "  def __init__(self,\n",
        "               q_network,\n",
        "               observation_spec,\n",
        "               replay_capacity=100000,\n",
        "               epsilon=0.1,\n",
        "               batch_size=1,\n",
        "               learning_rate=3e-4):\n",
        "\n",
        "    self._observation_spec = observation_spec\n",
        "    self.epsilon = epsilon\n",
        "    self._batch_size = batch_size\n",
        "    self._replay_buffer = ReplayBuffer(replay_capacity)\n",
        "    self.last_loss = 0\n",
        "\n",
        "    # Setup Network and loss with Haiku\n",
        "    self._rng = hk.PRNGSequence(1)\n",
        "    self._q_network = hk.transform(q_network)\n",
        "\n",
        "    # Initialize network\n",
        "    # ============ YOUR CODE HERE =============\n",
        "    # init_params = \n",
        "\n",
        "    # Setup optimizer\n",
        "    self._optimizer = optix.adam(learning_rate)\n",
        "    initial_optimizer_state = self._optimizer.init(initial_params)\n",
        "\n",
        "    self._state = TrainingState(\n",
        "        params=initial_params, opt_state=initial_optimizer_state, step=0)\n",
        "\n",
        "  @functools.partial(jax.jit, static_argnums=(0,))\n",
        "  def _policy(self, params: hk.Params, rng_key: jnp.ndarray,\n",
        "              observation: jnp.ndarray, epsilon: float):\n",
        "    # You can use rlax.epsilon_greedy here\n",
        "    # ============ YOUR CODE HERE =============\n",
        "    pass\n",
        "\n",
        "  def select_action(self, observation):\n",
        "    return self._policy(self._state.params, next(self._rng), observation,\n",
        "                        self.epsilon)\n",
        "\n",
        "  def q_values(self, observation):\n",
        "    return jnp.squeeze(\n",
        "        self._q_network.apply(self._state.params, observation[None, ...]),\n",
        "        axis=0)\n",
        "\n",
        "  @functools.partial(jax.jit, static_argnums=(0,))\n",
        "  def _loss(self, params: hk.Params, transitions: Transitions):\n",
        "\n",
        "    def _td_error(q_s, q_next_s, a, r, d):\n",
        "      \"\"\"TD error for a single transition.\"\"\"\n",
        "      # ============ YOUR CODE HERE =============\n",
        "      pass\n",
        "\n",
        "    batch_td_error = jax.vmap(_td_error)\n",
        "\n",
        "    # Compute batched Q-values [Batch, actions]\n",
        "    q_s = self._q_network.apply(params, transitions.s_t)\n",
        "    q_next_s = self._q_network.apply(params, transitions.s_tp1)\n",
        "    # Get batched td errors\n",
        "    td_errors = batch_td_error(q_s, q_next_s, transitions.a_t, transitions.r_t,\n",
        "                               transitions.d_t)\n",
        "    losses = 0.5 * td_errors**2.  # [Batch]\n",
        "\n",
        "    return jnp.mean(losses)\n",
        "\n",
        "  @functools.partial(jax.jit, static_argnums=(0,))\n",
        "  def _train_step(self, state: TrainingState, transitions: Transitions):\n",
        "    # Do one learning step on the batch of transitions\n",
        "    # ============ YOUR CODE HERE =============\n",
        "    # Use jax.value_and_grad to compute gradients and values from _loss, \n",
        "    # and optix.apply_updates to compute new parameters for the network.\n",
        "   \n",
        "    new_state = TrainingState(\n",
        "        params=new_params, opt_state=new_opt_state, step=state.step + 1)\n",
        "    return new_state, loss\n",
        "\n",
        "  def update(self):\n",
        "    if self._replay_buffer.is_ready(self._batch_size):\n",
        "      # Collect a minibatch of random transitions\n",
        "      transitions = Transitions(*self._replay_buffer.sample(self._batch_size))\n",
        "      # Compute loss and update parameters\n",
        "      self._state, self.last_loss = self._train_step(self._state, transitions)\n",
        "\n",
        "  def observe_first(self, timestep):\n",
        "    self._replay_buffer.push(timestep, None)\n",
        "\n",
        "  def observe(self, action, next_timestep):\n",
        "    self._replay_buffer.push(next_timestep, action)\n",
        "\n",
        "\n",
        "class ReplayBuffer(object):\n",
        "  \"\"\"A simple Python replay buffer.\"\"\"\n",
        "\n",
        "  def __init__(self, capacity):\n",
        "    self._prev = None\n",
        "    self._action = None\n",
        "    self._latest = None\n",
        "    self.buffer = collections.deque(maxlen=capacity)\n",
        "\n",
        "  def push(self, timestep, action):\n",
        "    self._prev = self._latest\n",
        "    self._action = action\n",
        "    self._latest = timestep\n",
        "\n",
        "    if action is not None:\n",
        "      self.buffer.append(\n",
        "          (self._prev.observation, self._action, self._latest.reward,\n",
        "           self._latest.discount, self._latest.observation))\n",
        "\n",
        "  def sample(self, batch_size):\n",
        "    obs_tm1, a_tm1, r_t, discount_t, obs_t = zip(\n",
        "        *random.sample(self.buffer, batch_size))\n",
        "    return (jnp.stack(obs_tm1), jnp.asarray(a_tm1), jnp.asarray(r_t),\n",
        "            jnp.asarray(discount_t), jnp.stack(obs_t))\n",
        "\n",
        "  def is_ready(self, batch_size):\n",
        "    return batch_size <= len(self.buffer)"
      ],
      "execution_count": 36,
      "outputs": []
    },
    {
      "cell_type": "code",
      "metadata": {
        "id": "DWrRFI_qLmmt"
      },
      "source": [
        "#@title **[Solution]** NFQ Agent  { form-width: \"30%\" }\n",
        "\n",
        "Transitions = collections.namedtuple('Transitions',\n",
        "                                     ['s_t', 'a_t', 'r_t', 'd_t', 's_tp1'])\n",
        "TrainingState = namedtuple('TrainingState', 'params, opt_state, step')\n",
        "\n",
        "\n",
        "class NeuralFittedQAgent(acme.Actor):\n",
        "\n",
        "  def __init__(self,\n",
        "               q_network,\n",
        "               observation_spec,\n",
        "               replay_capacity=100000,\n",
        "               epsilon=0.1,\n",
        "               batch_size=1,\n",
        "               learning_rate=3e-4):\n",
        "\n",
        "    self._observation_spec = observation_spec\n",
        "    self.epsilon = epsilon\n",
        "    self._batch_size = batch_size\n",
        "    self._replay_buffer = ReplayBuffer(replay_capacity)\n",
        "    self.last_loss = 0\n",
        "\n",
        "    # Setup Network and loss with Haiku\n",
        "    self._rng = hk.PRNGSequence(1)\n",
        "    self._q_network = hk.without_apply_rng(hk.transform(q_network))\n",
        "    \n",
        "    # Initialize network\n",
        "    dummy_observation = observation_spec.generate_value()\n",
        "    initial_params = self._q_network.init(\n",
        "        next(self._rng), dummy_observation[None, ...])\n",
        "\n",
        "    # Setup optimizer\n",
        "    self._optimizer = optax.adam(learning_rate)\n",
        "    initial_optimizer_state = self._optimizer.init(initial_params)\n",
        "\n",
        "    self._state = TrainingState(\n",
        "        params=initial_params, opt_state=initial_optimizer_state, step=0)\n",
        "\n",
        "  @functools.partial(jax.jit, static_argnums=(0,))\n",
        "  def _policy(self, params: hk.Params, rng_key: jnp.ndarray,\n",
        "              observation: jnp.ndarray, epsilon: float):\n",
        "    q_values = self._q_network.apply(params, observation[None, ...])\n",
        "    actions = rlax.epsilon_greedy(epsilon).sample(rng_key, q_values)\n",
        "    return jnp.squeeze(actions, axis=0)\n",
        "\n",
        "  def select_action(self, observation):\n",
        "    return self._policy(self._state.params, next(self._rng), observation,\n",
        "                        self.epsilon)\n",
        "\n",
        "  def q_values(self, observation):\n",
        "    return jnp.squeeze(\n",
        "        self._q_network.apply(self._state.params, observation[None, ...]),\n",
        "        axis=0)\n",
        "\n",
        "  @functools.partial(jax.jit, static_argnums=(0,))\n",
        "  def _loss(self, params: hk.Params, transitions: Transitions):\n",
        "\n",
        "    def _td_error(q_s, q_next_s, a, r, d):\n",
        "      \"\"\"TD error for a single transition.\"\"\"\n",
        "      target_s = r + d * jnp.max(q_next_s)\n",
        "      td_error = jax.lax.stop_gradient(target_s) - q_s[a]\n",
        "      # Task: think of why we are not using td_error = target_s - q_s[a]? \n",
        "      return td_error\n",
        "\n",
        "    batch_td_error = jax.vmap(_td_error)\n",
        "\n",
        "    # Compute batched Q-values [Batch, actions]\n",
        "    q_s = self._q_network.apply(params, transitions.s_t)\n",
        "    q_next_s = self._q_network.apply(params, transitions.s_tp1)\n",
        "    # Get batched td errors\n",
        "    td_errors = batch_td_error(q_s, q_next_s, transitions.a_t, transitions.r_t,\n",
        "                               transitions.d_t)\n",
        "    losses = 0.5 * td_errors**2.  # [Batch]\n",
        "\n",
        "    return jnp.mean(losses)\n",
        "\n",
        "  @functools.partial(jax.jit, static_argnums=(0,))\n",
        "  def _train_step(self, state: TrainingState, transitions: Transitions):\n",
        "    # Do one learning step on the batch of transitions\n",
        "    compute_loss_and_grad = jax.value_and_grad(self._loss)\n",
        "    loss, dloss_dparams = compute_loss_and_grad(state.params, transitions)\n",
        "    updates, new_opt_state = self._optimizer.update(dloss_dparams,\n",
        "                                                    state.opt_state)\n",
        "    new_params = optax.apply_updates(state.params, updates)\n",
        "\n",
        "    new_state = TrainingState(\n",
        "        params=new_params, opt_state=new_opt_state, step=state.step + 1)\n",
        "    return new_state, loss\n",
        "\n",
        "  def update(self):\n",
        "    if self._replay_buffer.is_ready(self._batch_size):\n",
        "      # Collect a minibatch of random transitions\n",
        "      transitions = Transitions(*self._replay_buffer.sample(self._batch_size))\n",
        "      # Compute loss and update parameters\n",
        "      self._state, self.last_loss = self._train_step(self._state, transitions)\n",
        "\n",
        "  def observe_first(self, timestep):\n",
        "    self._replay_buffer.push(timestep, None)\n",
        "\n",
        "  def observe(self, action, next_timestep):\n",
        "    self._replay_buffer.push(next_timestep, action)\n",
        "\n",
        "\n",
        "class ReplayBuffer(object):\n",
        "  \"\"\"A simple Python replay buffer.\"\"\"\n",
        "\n",
        "  def __init__(self, capacity):\n",
        "    self._prev = None\n",
        "    self._action = None\n",
        "    self._latest = None\n",
        "    self.buffer = collections.deque(maxlen=capacity)\n",
        "\n",
        "  def push(self, timestep, action):\n",
        "    self._prev = self._latest\n",
        "    self._action = action\n",
        "    self._latest = timestep\n",
        "\n",
        "    if action is not None:\n",
        "      self.buffer.append(\n",
        "          (self._prev.observation, self._action, self._latest.reward,\n",
        "           self._latest.discount, self._latest.observation))\n",
        "\n",
        "  def sample(self, batch_size):\n",
        "    obs_tm1, a_tm1, r_t, discount_t, obs_t = zip(\n",
        "        *random.sample(self.buffer, batch_size))\n",
        "    return (jnp.stack(obs_tm1), jnp.asarray(a_tm1), jnp.asarray(r_t),\n",
        "            jnp.asarray(discount_t), jnp.stack(obs_t))\n",
        "\n",
        "  def is_ready(self, batch_size):\n",
        "    return batch_size <= len(self.buffer)"
      ],
      "execution_count": 37,
      "outputs": []
    },
    {
      "cell_type": "markdown",
      "metadata": {
        "id": "MQoI1y88Mfsz"
      },
      "source": [
        "### **Task: Train a NFQ agent**\n",
        "\n"
      ]
    },
    {
      "cell_type": "code",
      "metadata": {
        "id": "g7QmF3UGgYJa",
        "cellView": "form",
        "outputId": "540b5982-be7c-44aa-efef-40f8abbb30fa",
        "colab": {
          "base_uri": "https://localhost:8080/"
        }
      },
      "source": [
        "#@title Training the NFQ Agent.  { form-width: \"30%\" }\n",
        "epsilon = 1. #@param {type:\"number\"}\n",
        "num_episodes = 300 #@param {type:\"number\"}\n",
        "\n",
        "max_episode_length = 200\n",
        "\n",
        "# Environment\n",
        "grid = build_gridworld_task(\n",
        "    task='simple',\n",
        "    observation_type=ObservationType.AGENT_GOAL_POS,\n",
        "    max_episode_length=max_episode_length)\n",
        "environment, environment_spec = setup_environment(grid)\n",
        "\n",
        "# Define function approximation for the Q-values\n",
        "# i.e. Q_a(s) for a in num_actions.\n",
        "def q_network(observation: np.ndarray):\n",
        "  \"\"\"Outputs action values given an observation.\"\"\"\n",
        "  model = hk.Sequential([\n",
        "      hk.Flatten(),  # Flattens everything except the batch dimension\n",
        "      hk.nets.MLP([50, 50, environment_spec.actions.num_values])\n",
        "  ])\n",
        "  return model(observation)\n",
        "\n",
        "# Build the trainable Q-learning agent\n",
        "agent = NeuralFittedQAgent(\n",
        "    q_network,\n",
        "    environment_spec.observations,\n",
        "    epsilon=epsilon,\n",
        "    replay_capacity=100000,\n",
        "    batch_size=10,\n",
        "    learning_rate=1e-3)\n",
        "\n",
        "returns = run_loop(\n",
        "    environment=environment,\n",
        "    agent=agent,\n",
        "    num_episodes=num_episodes,\n",
        "    logger_time_delta=1.,\n",
        "    log_loss=True)"
      ],
      "execution_count": 38,
      "outputs": [
        {
          "output_type": "stream",
          "name": "stderr",
          "text": [
            "WARNING:jax._src.lib.xla_bridge:No GPU/TPU found, falling back to CPU. (Set TF_CPP_MIN_LOG_LEVEL=0 and rerun for more info.)\n"
          ]
        }
      ]
    },
    {
      "cell_type": "markdown",
      "metadata": {
        "id": "YWbMwjdgmxGe"
      },
      "source": [
        "### Evaluate the policy it learned"
      ]
    },
    {
      "cell_type": "code",
      "metadata": {
        "id": "bZM2TNJ0PB6F",
        "cellView": "form",
        "outputId": "e203eafb-df5b-4978-d12c-8ce85f22d73e",
        "colab": {
          "base_uri": "https://localhost:8080/",
          "height": 348
        }
      },
      "source": [
        "#@title Evaluating the agent.  { form-width: \"30%\" }\n",
        "\n",
        "# Change epsilon to be more greedy\n",
        "agent.epsilon = 0.05\n",
        "\n",
        "# Look at a few episodes\n",
        "frames = evaluate(environment, agent, evaluation_episodes=5)\n",
        "display_video(frames, frame_repeat=10)"
      ],
      "execution_count": 39,
      "outputs": [
        {
          "output_type": "stream",
          "name": "stdout",
          "text": [
            "Episode 0 ended with reward 10.0 in 5 steps\n",
            "Episode 1 ended with reward 10.0 in 7 steps\n",
            "Episode 2 ended with reward 10.0 in 5 steps\n",
            "Episode 3 ended with reward 10.0 in 5 steps\n",
            "Episode 4 ended with reward 10.0 in 5 steps\n"
          ]
        },
        {
          "output_type": "execute_result",
          "data": {
            "text/plain": [
              "<IPython.core.display.HTML object>"
            ],
            "text/html": [
              "<video  width=\"320\" height=\"240\" controls alt=\"test\" src=\"data:video/mp4;base64,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\">"
            ]
          },
          "metadata": {},
          "execution_count": 39
        }
      ]
    },
    {
      "cell_type": "code",
      "metadata": {
        "id": "vYmDVoZ4sDjJ",
        "cellView": "form",
        "outputId": "02459e17-9a4f-4ae4-f701-119c5ac76b3c",
        "colab": {
          "base_uri": "https://localhost:8080/",
          "height": 476
        }
      },
      "source": [
        "#@title Visualise the learned Q values\n",
        "\n",
        "# Evaluate the policy for every state, similar to tabular agents above.\n",
        "\n",
        "environment.reset()\n",
        "pi = np.zeros(grid._layout_dims, dtype=np.int32)\n",
        "q = np.zeros(grid._layout_dims + (4,))\n",
        "for y in range(grid._layout_dims[0]):\n",
        "  for x in range(grid._layout_dims[1]):\n",
        "    # Hack observation to see what the Q-network would output at that point.\n",
        "    environment.set_state(x, y)\n",
        "    obs = environment.get_obs()\n",
        "    q[y, x] = np.asarray(agent.q_values(obs))\n",
        "    pi[y, x] = np.asarray(agent.select_action(obs))\n",
        "    \n",
        "plot_action_values(q)"
      ],
      "execution_count": 40,
      "outputs": [
        {
          "output_type": "display_data",
          "data": {
            "text/plain": [
              "<Figure size 576x576 with 10 Axes>"
            ],
            "image/png": "[encoded data removed]"
          },
          "metadata": {}
        }
      ]
    },
    {
      "cell_type": "code",
      "metadata": {
        "id": "ek3MNCu0LGBE",
        "cellView": "form",
        "outputId": "9cfc82ab-82aa-4da6-947f-192dc1dcc760",
        "colab": {
          "base_uri": "https://localhost:8080/",
          "height": 477
        }
      },
      "source": [
        "#@title Compare the greedy policy with the behaviour policy { form-width: \"30%\" }\n",
        "\n",
        "grid.plot_greedy_policy(q)\n",
        "plt.title('Greedy policy using the learnt Q-values')\n",
        "\n",
        "grid.plot_policy(pi)\n",
        "_ = plt.title(\"Policy using the agent's behaviour policy\")"
      ],
      "execution_count": 41,
      "outputs": [
        {
          "output_type": "display_data",
          "data": {
            "text/plain": [
              "<Figure size 288x288 with 1 Axes>"
            ],
            "image/png": "[encoded data removed]"
          },
          "metadata": {}
        },
        {
          "output_type": "display_data",
          "data": {
            "text/plain": [
              "<Figure size 288x288 with 1 Axes>"
            ],
            "image/png": "[encoded data removed]"
          },
          "metadata": {}
        }
      ]
    },
    {
      "cell_type": "markdown",
      "metadata": {
        "id": "Clv_QlpgoY1J"
      },
      "source": [
        "# RL Lab - Part 3: Deep Reinforcement Learning"
      ]
    },
    {
      "cell_type": "markdown",
      "metadata": {
        "id": "gjR8zkBdjIrB"
      },
      "source": [
        "\n",
        "<!-- <center><img src=\"https://drive.google.com/uc?id=1ivTQBHWkYi_J9vWwXFd2sSWg5f2TB5T-\" width=\"500\" /></center>  -->\n",
        "\n",
        "<center><img src=\"https://media.springernature.com/full/springer-static/image/art%3A10.1038%2Fnature14236/MediaObjects/41586_2015_Article_BFnature14236_Fig1_HTML.jpg\" width=\"500\" /></center> \n",
        "\n",
        "In this subsection, we will look at an advanced deep RL Agent based on the following publication, [Playing Atari with Deep Reinforcement Learning](https://deepmind.com/research/publications/playing-atari-deep-reinforcement-learning), which introduced the first deep learning model to successfully learn control policies directly from high-dimensional pixel inputs using RL.\n"
      ]
    },
    {
      "cell_type": "markdown",
      "metadata": {
        "id": "BukOfOsmtSQn"
      },
      "source": [
        " ## 3.1 Create an ACME DQN agent"
      ]
    },
    {
      "cell_type": "code",
      "metadata": {
        "id": "NbHdPc-nxO2j"
      },
      "source": [
        "#@title Create the environment\n",
        "grid = build_gridworld_task(\n",
        "    task='simple', \n",
        "    observation_type=ObservationType.GRID,\n",
        "    max_episode_length=200)\n",
        "environment, environment_spec = setup_environment(grid)"
      ],
      "execution_count": 42,
      "outputs": []
    },
    {
      "cell_type": "code",
      "metadata": {
        "id": "3Jcjk1w6oHVX"
      },
      "source": [
        "#@title Construct the agent and a training loop  { form-width: \"30%\" }\n",
        "\n",
        "# Build agent network module\n",
        "def _network(x):\n",
        "  model = hk.Sequential([\n",
        "      hk.Conv2D(32, kernel_shape=[4,4], stride=[2,2], padding='VALID'),\n",
        "      jax.nn.relu,\n",
        "      hk.Conv2D(64, kernel_shape=[3,3], stride=[1,1], padding='VALID'),\n",
        "      jax.nn.relu,\n",
        "      hk.Flatten(),\n",
        "      hk.nets.MLP([50, 50, environment_spec.actions.num_values])\n",
        "  ])\n",
        "  return model(x)\n",
        "\n",
        "# Create agent network pure functions and prebind the observation shape.\n",
        "hk_network: hk.Transformed = hk.without_apply_rng(hk.transform(_network))\n",
        "observation_spec = environment_spec.observations\n",
        "dummy_observation = np.zeros(observation_spec.shape, observation_spec.dtype)\n",
        "\n",
        "# Pack the network pure functions.\n",
        "# Here we also prebind a dummy observation to the network initialization\n",
        "# function. This is so that Acme can maintain compatibility with both haiku and\n",
        "# flax.\n",
        "network = acme.jax.networks.FeedForwardNetwork(\n",
        "    init=lambda rng_key: hk_network.init(rng_key, dummy_observation),\n",
        "    apply=hk_network.apply,\n",
        ")\n",
        "\n",
        "# Avoid logging from Acme\n",
        "class DummyLogger(object):\n",
        "\n",
        "  def write(self, data):\n",
        "    pass\n",
        "\n",
        "# Use library agent implementation.\n",
        "agent = dqn.DQN(\n",
        "    environment_spec=environment_spec,\n",
        "    network=network,\n",
        "    batch_size=10,\n",
        "    samples_per_insert=2,\n",
        "    epsilon=0.05,\n",
        "    min_replay_size=10,)"
      ],
      "execution_count": 43,
      "outputs": []
    },
    {
      "cell_type": "code",
      "metadata": {
        "id": "0dHDdPDr3QxI"
      },
      "source": [
        "# @title Run a training loop  { form-width: \"30%\" }\n",
        "num_episodes = 100  # @param {type: \"number\"}\n",
        "\n",
        "# Run a `num_episodes` training episodes.\n",
        "# Rerun this cell until the agent has learned the given task.\n",
        "returns = run_loop(environment=environment, agent=agent, num_episodes=100, num_steps=100000, logger_time_delta=0.2 )"
      ],
      "execution_count": 44,
      "outputs": []
    },
    {
      "cell_type": "code",
      "metadata": {
        "id": "8ksVITeN5_Vq",
        "outputId": "f373d297-c961-45f0-f96d-254f6b269600",
        "colab": {
          "base_uri": "https://localhost:8080/",
          "height": 238
        }
      },
      "source": [
        "# @title Visualise the learned Q values { form-width: \"30%\" }\n",
        "\n",
        "# get agent parameters\n",
        "params = agent._learner.get_variables([])[0]\n",
        "\n",
        "# Evaluate the policy for every state, similar to tabular agents above.\n",
        "pi = np.zeros(grid._layout_dims, dtype=np.int32)\n",
        "q = np.zeros(grid._layout_dims + (4,))\n",
        "for y in range(grid._layout_dims[0]):\n",
        "  for x in range(grid._layout_dims[1]):\n",
        "    # Hack observation to see what the Q-network would output at that point.\n",
        "    environment.set_state(x, y)\n",
        "    obs = environment.get_obs()\n",
        "    q[y, x] = np.asarray(agent._learner.network.apply(params, np.expand_dims(obs, axis=0)))\n",
        "    pi[y, x] = np.asarray(agent.select_action(obs))\n",
        "    \n",
        "plot_action_values(q)"
      ],
      "execution_count": 52,
      "outputs": [
        {
          "output_type": "error",
          "ename": "TypeError",
          "evalue": "ignored",
          "traceback": [
            "\u001b[0;31m---------------------------------------------------------------------------\u001b[0m",
            "\u001b[0;31mTypeError\u001b[0m                                 Traceback (most recent call last)",
            "\u001b[0;32m<ipython-input-52-c734429d490b>\u001b[0m in \u001b[0;36m<module>\u001b[0;34m\u001b[0m\n\u001b[1;32m      2\u001b[0m \u001b[0;34m\u001b[0m\u001b[0m\n\u001b[1;32m      3\u001b[0m \u001b[0;31m# get agent parameters\u001b[0m\u001b[0;34m\u001b[0m\u001b[0;34m\u001b[0m\u001b[0;34m\u001b[0m\u001b[0m\n\u001b[0;32m----> 4\u001b[0;31m \u001b[0mparams\u001b[0m \u001b[0;34m=\u001b[0m \u001b[0magent\u001b[0m\u001b[0;34m.\u001b[0m\u001b[0m_learner\u001b[0m\u001b[0;34m.\u001b[0m\u001b[0mget_variables\u001b[0m\u001b[0;34m(\u001b[0m\u001b[0;34m[\u001b[0m\u001b[0;34m]\u001b[0m\u001b[0;34m)\u001b[0m\u001b[0;34m[\u001b[0m\u001b[0;36m0\u001b[0m\u001b[0;34m]\u001b[0m\u001b[0;34m\u001b[0m\u001b[0;34m\u001b[0m\u001b[0m\n\u001b[0m\u001b[1;32m      5\u001b[0m \u001b[0;34m\u001b[0m\u001b[0m\n\u001b[1;32m      6\u001b[0m \u001b[0;31m# Evaluate the policy for every state, similar to tabular agents above.\u001b[0m\u001b[0;34m\u001b[0m\u001b[0;34m\u001b[0m\u001b[0;34m\u001b[0m\u001b[0m\n",
            "\u001b[0;31mTypeError\u001b[0m: get_variables() takes 1 positional argument but 2 were given"
          ]
        }
      ]
    },
    {
      "cell_type": "code",
      "metadata": {
        "id": "6PQaQej4LsU-",
        "outputId": "33b4c442-dc15-441e-ea9b-995d902dbf4a",
        "colab": {
          "base_uri": "https://localhost:8080/",
          "height": 494
        }
      },
      "source": [
        "#@title Compare the greedy policy with the agent's policy { form-width: \"30%\" }\n",
        "\n",
        "grid.plot_greedy_policy(q)\n",
        "plt.title('Greedy policy using the learnt Q-values')\n",
        "\n",
        "grid.plot_policy(pi)\n",
        "plt.title(\"Policy using the agent's policy\")"
      ],
      "execution_count": 46,
      "outputs": [
        {
          "output_type": "execute_result",
          "data": {
            "text/plain": [
              "Text(0.5, 1.0, \"Policy using the agent's policy\")"
            ]
          },
          "metadata": {},
          "execution_count": 46
        },
        {
          "output_type": "display_data",
          "data": {
            "text/plain": [
              "<Figure size 288x288 with 1 Axes>"
            ],
            "image/png": "[encoded data removed]"
          },
          "metadata": {}
        },
        {
          "output_type": "display_data",
          "data": {
            "text/plain": [
              "<Figure size 288x288 with 1 Axes>"
            ],
            "image/png": "[encoded data removed]"
          },
          "metadata": {}
        }
      ]
    },
    {
      "cell_type": "markdown",
      "metadata": {
        "id": "acqPbd8zXH_K"
      },
      "source": [
        "## 3.2 **[Advanced]** DQN Algorithm.\n",
        "\n",
        "The following coding exercise implements the loss function described in the DQN paper. This loss function is used by a learner class to compute gradients for the parameters $\\theta_i$ of the Q-network $Q( \\cdot; \\theta_i)$:\n",
        "\n",
        "```none\n",
        "loss(params: hk.Params, target_params: hk.Params, sample: reverb.ReplaySample)\n",
        "```\n",
        "which, at iteration `i` computes the DQN loss $L_i$ on the parameters $\\theta_i$, based on a the set of target parameters $\\theta_{i-1}$ and a given batch of sampled trajectories `sample`. As described in the manuscript, the loss function is defined as:\n",
        "\n",
        "$$L_i (\\theta_i) = \\mathbb{E}_{\\color{red}{s},\\color{blue}{a} \\sim \\rho(\\cdot)} \\left[ \\left( y_i - Q(\\color{red}{s},\\color{blue}{a} ;\\theta_i) \\right)^2\\right]$$\n",
        "\n",
        "where the target $y_i$ is computed using a bootstrap value computed from Q-value network with target parameters:\n",
        "\n",
        "$$ y_i = \\mathbb{E}_{\\color{red}{s'} \\sim \\mathcal{E}} \\left[ \\color{green}{r} + \\gamma \\max_{\\color{blue}{a'} \\in \\color{blue}{\\mathcal{A}}} Q(\\color{red}{s'}, \\color{blue}{a'} ; \\theta^{\\text{target}}_i) \\; | \\; \\color{red}{s}, \\color{blue}{a} \\right] $$\n",
        "\n",
        "The batch of data `sample` is prepackaged by the agent to match the sampling distributions $\\rho$ and $\\mathcal{E}$. To get the explicit data items, use the following:\n",
        "\n",
        "```none\n",
        "o_tm1, a_tm1, r_t, d_t, o_t = sample.data\n",
        "```\n",
        "\n",
        "The function is expected to return  \n",
        "* `mean_loss` is the mean of the above loss over the batched data,\n",
        "* (`keys`, `priorities`) will pair the `keys` corresponding to each batch item to the absolute TD-error used to compute the `mean_loss` above. The agent uses these to update priorities for samples in the replay buffer.\n",
        "\n",
        "\n",
        "**Note**. A full implementation of a DQN agent is outside the scope of this tutorial, but we encoruage you to explore the code (in a cell below) to understand where the learner fits with other the services used by the agent. Moreover, if you feel ambitious, we prepared a separate exercise where you are expected to implement the learner itself (see  *DQN Learner [Coding Task - Hard]*).\n",
        "\n",
        "\n",
        "\n",
        "**[Optional]**\n",
        "- use a Double-Q Learning Loss function instead of the original published loss (see [`rlax.double_q_learning`](https://github.com/deepmind/rlax/blob/870cba1ea8ad36725f4f3a790846298657b6fd4b/rlax/_src/value_learning.py#L233)) for more details.\n",
        "- for more stable optimization, use the Huber Loss instead of $L_2$, as prescribed in the manuscript (see [`rlax.huber_loss`](https://github.com/deepmind/rlax/blob/870cba1ea8ad36725f4f3a790846298657b6fd4b/rlax/_src/clipping.py#L31)).\n"
      ]
    },
    {
      "cell_type": "code",
      "metadata": {
        "id": "liZKoQbaj4Wq"
      },
      "source": [
        "# @title **[Coding Task - Easy]** DQN Loss function  { form-width: \"30%\" }\n",
        "\n",
        "TrainingState =  namedtuple('TrainingState', 'params, target_params, opt_state, step')\n",
        "LearnerOutputs =  namedtuple('LearnerOutputs', 'keys, priorities')\n",
        "\n",
        "class DQNLearner(acme.Learner):\n",
        "  \"\"\"DQN learner.\"\"\"\n",
        "\n",
        "  _state: TrainingState\n",
        "\n",
        "  def __init__(self,\n",
        "               network,\n",
        "               obs_spec,\n",
        "               discount,\n",
        "               importance_sampling_exponent,\n",
        "               target_update_period,\n",
        "               data_iterator,\n",
        "               optimizer,\n",
        "               rng,\n",
        "               replay_client,\n",
        "               max_abs_reward=1.,\n",
        "               huber_loss_parameter=1.,\n",
        "               ):\n",
        "    \"\"\"Initializes the learner.\"\"\"\n",
        "\n",
        "    # Transform network into a pure function.\n",
        "    network = hk.transform(network)\n",
        "\n",
        "    def loss(params: hk.Params, target_params: hk.Params,\n",
        "             sample: reverb.ReplaySample):\n",
        "      o_tm1, a_tm1, r_t, d_t, o_t, _ = sample.data\n",
        "      keys, probs = sample.info[:2]\n",
        "      \n",
        "      # ============ YOUR CODE HERE =============\n",
        "      # return mean_loss, (keys, priorities)\n",
        "\n",
        "      pass\n",
        "      \n",
        "\n",
        "    def sgd_step(state, samples):\n",
        "      # Compute gradients on the given loss function and update the network\n",
        "      # using the optimizer provided at init time.\n",
        "      grad_fn = jax.grad(loss, has_aux=True)\n",
        "      gradients, (keys, priorities) = grad_fn(state.params, state.target_params,\n",
        "                                              samples)\n",
        "      updates, new_opt_state = optimizer.update(gradients, state.opt_state)\n",
        "      new_params = optax.apply_updates(state.params, updates)\n",
        "\n",
        "      # Update the internal state for the learner with (1) network parameters,\n",
        "      # (2) parameters of the target network, (3) the state of the optimizer,\n",
        "      # (4) Numbers of SGD steps performed by the agent.  \n",
        "      new_state = TrainingState(\n",
        "          params=new_params,\n",
        "          target_params=state.target_params,\n",
        "          opt_state=new_opt_state,\n",
        "          step=state.step + 1)\n",
        "\n",
        "      outputs = LearnerOutputs(keys=keys, priorities=priorities)\n",
        "      return new_state, outputs\n",
        "\n",
        "    # Internalise agent components (replay buffer, networks, optimizer).\n",
        "    self._replay_client = replay_client\n",
        "    self._iterator = data_iterator\n",
        "\n",
        "    # Since sampling is base on a priority experience replay, we need to pass\n",
        "    # the absolute td-loss values to the replay client to update priorities\n",
        "    # accordingly.\n",
        "    def update_priorities(outputs: LearnerOutputs):\n",
        "      for key, priority in zip(outputs.keys, outputs.priorities):\n",
        "        self._replay_client.mutate_priorities(\n",
        "            table='priority_table', \n",
        "            updates={key: priority})\n",
        "        \n",
        "    self._update_priorities = update_priorities\n",
        "\n",
        "    # Internalise the hyperparameters.\n",
        "    self._target_update_period = target_update_period\n",
        "\n",
        "    # Internalise logging/counting objects.\n",
        "    self._counter = counting.Counter()\n",
        "    self._logger = loggers.TerminalLogger('learner', time_delta=1.)\n",
        "\n",
        "    # Initialise parameters and optimiser state.\n",
        "    def initialization_fn(values):\n",
        "      values = tree_util.tree_map(lambda x: jnp.zeros(x.shape, x.dtype), values)\n",
        "      # Add batch dim.\n",
        "      return tree_util.tree_map(lambda x: jnp.expand_dims(x, axis=0), values)\n",
        "\n",
        "    initial_params = network.init(next(rng))\n",
        "    initial_target_params = initial_params\n",
        "    initial_opt_state = optimizer.init(initial_params)\n",
        "\n",
        "    self._state = TrainingState(\n",
        "        params=initial_params,\n",
        "        target_params=initial_target_params,\n",
        "        opt_state=initial_opt_state,\n",
        "        step=0)\n",
        "\n",
        "    self._forward = jax.jit(network.apply)\n",
        "    self._sgd_step = jax.jit(sgd_step)\n",
        "    \n",
        "  def step(self):\n",
        "    samples = next(self._iterator)\n",
        "    # Do a batch of SGD.\n",
        "    self._state, outputs = self._sgd_step(self._state, samples)\n",
        "\n",
        "    # Update our counts and record it.\n",
        "    result = self._counter.increment(steps=1)\n",
        "\n",
        "    # Periodically update target network parameters.\n",
        "    if self._state.step % self._target_update_period == 0:\n",
        "      self._state = self._state._replace(target_params=self._state.params)\n",
        "\n",
        "    # Update priorities in replay.\n",
        "    self._update_priorities(outputs)\n",
        "\n",
        "    # Write to logs.\n",
        "    self._logger.write(result)\n",
        "\n",
        "  def get_variables(self):\n",
        "    \"\"\"Network variables after a number of SGD steps.\"\"\"\n",
        "    return self._state.params"
      ],
      "execution_count": 47,
      "outputs": []
    },
    {
      "cell_type": "code",
      "metadata": {
        "id": "jbULeKGwURlL",
        "cellView": "form"
      },
      "source": [
        "# @title **[Coding Task - Hard]** DQN Learner  { form-width: \"30%\" }\n",
        "\n",
        "TrainingState =  namedtuple('TrainingState', 'params, target_params, opt_state, step')\n",
        "LearnerOutputs =  namedtuple('LearnerOutputs', 'keys, priorities')\n",
        "\n",
        "class DQNLearner(acme.Learner):\n",
        "  \"\"\"DQN learner.\"\"\"\n",
        "\n",
        "  _state: TrainingState\n",
        "\n",
        "  def __init__(self,\n",
        "               network,\n",
        "               obs_spec,\n",
        "               discount,\n",
        "               importance_sampling_exponent,\n",
        "               target_update_period,\n",
        "               data_iterator,\n",
        "               optimizer,\n",
        "               rng,\n",
        "               replay_client,\n",
        "               max_abs_reward=1.,\n",
        "               huber_loss_parameter=1.,\n",
        "               ):\n",
        "    \"\"\"Initializes the learner.\"\"\"\n",
        "\n",
        "    # ============ YOUR CODE HERE =============\n",
        "    # Use provided params to initialize any jax functions used in the `step`\n",
        "    # function.\n",
        "    \n",
        "    # Internalise agent components (replay buffer, networks, optimizer).\n",
        "    self._replay_client = replay_client\n",
        "    self._iterator = data_iterator\n",
        "\n",
        "    # Since sampling is base on a priority experience replay, we need to pass\n",
        "    # the absolute td-loss values to the replay client to update priorities\n",
        "    # accordingly.\n",
        "    def update_priorities(outputs: LearnerOutputs):\n",
        "      for key, priority in zip(outputs.keys, outputs.priorities):\n",
        "        self._replay_client.mutate_priorities(\n",
        "            table='priority_table', \n",
        "            updates={key: priority})\n",
        "        \n",
        "    self._update_priorities = update_priorities\n",
        "\n",
        "    # Internalise the hyperparameters.\n",
        "    self._target_update_period = target_update_period\n",
        "\n",
        "    # Internalise logging/counting objects.\n",
        "    self._counter = counting.Counter()\n",
        "    self._logger = loggers.TerminalLogger('learner', time_delta=1.)\n",
        "\n",
        "    # Initialise parameters and optimiser state.\n",
        "\n",
        "    # Transform network into a pure function.\n",
        "    network = hk.transform(network)\n",
        "\n",
        "    def initialization_fn(values):\n",
        "      values = tree_util.tree_map(lambda x: jnp.zeros(x.shape, x.dtype), values)\n",
        "      # Add batch dim.\n",
        "      return tree_util.tree_map(lambda x: jnp.expand_dims(x, axis=0), values)\n",
        "\n",
        "    initial_params = network.init(next(rng))\n",
        "    initial_target_params = initial_params\n",
        "    initial_opt_state = optimizer.init(initial_params)\n",
        "\n",
        "    self._state = TrainingState(\n",
        "        params=initial_params,\n",
        "        target_params=initial_target_params,\n",
        "        opt_state=initial_opt_state,\n",
        "        step=0)\n",
        "\n",
        "  def step(self):\n",
        "    samples = next(self._iterator)\n",
        "    \n",
        "    # Do a batch of SGD and update self._state accordingly.\n",
        "    # ============ YOUR CODE HERE =============\n",
        "    \n",
        "    # Update our counts and record it.\n",
        "    result = self._counter.increment(steps=1)\n",
        "\n",
        "    # Periodically update target network parameters.\n",
        "    # ============ YOUR CODE HERE =============\n",
        "    \n",
        "    # Update priorities in replay.\n",
        "    self._update_priorities(outputs)\n",
        "\n",
        "    # Write to logs.\n",
        "    self._logger.write(result)\n",
        "\n",
        "  def get_variables(self):\n",
        "    \"\"\"Network variables after a number of SGD steps.\"\"\"\n",
        "    return self._state.params"
      ],
      "execution_count": 48,
      "outputs": []
    },
    {
      "cell_type": "code",
      "metadata": {
        "id": "eZuigF_bD0DP"
      },
      "source": [
        "# @title **[Solution]** DQN Learner  { form-width: \"30%\" }\n",
        "\n",
        "TrainingState =  namedtuple('TrainingState', 'params, target_params, opt_state, step')\n",
        "LearnerOutputs =  namedtuple('LearnerOutputs', 'keys, priorities')\n",
        "\n",
        "class DQNLearner(acme.Learner):\n",
        "  \"\"\"DQN learner.\"\"\"\n",
        "\n",
        "  _state: TrainingState\n",
        "\n",
        "  def __init__(self,\n",
        "               network,\n",
        "               obs_spec,\n",
        "               discount,\n",
        "               importance_sampling_exponent,\n",
        "               target_update_period,\n",
        "               data_iterator,\n",
        "               optimizer,\n",
        "               rng,\n",
        "               replay_client,\n",
        "               max_abs_reward=1.,\n",
        "               huber_loss_parameter=1.,\n",
        "               ):\n",
        "    \"\"\"Initializes the learner.\"\"\"\n",
        "\n",
        "    def loss(params: hk.Params, target_params: hk.Params,\n",
        "             sample: reverb.ReplaySample):\n",
        "      o_tm1, a_tm1, r_t, d_t, o_t, _ = sample.data  # Ignore the empty extras.\n",
        "      keys, probs = sample.info[:2]\n",
        "\n",
        "      # Forward pass.\n",
        "      q_tm1 = network.apply(params, o_tm1)\n",
        "      q_t_value = network.apply(target_params, o_t)\n",
        "      q_t_selector = network.apply(params, o_t)\n",
        "\n",
        "      # Cast and clip rewards.\n",
        "      d_t = (d_t * discount).astype(jnp.float32)\n",
        "      r_t = jnp.clip(r_t, -max_abs_reward, max_abs_reward).astype(jnp.float32)\n",
        "\n",
        "      # Compute double Q-learning n-step TD-error.\n",
        "      batch_error = jax.vmap(rlax.double_q_learning)\n",
        "      td_error = batch_error(q_tm1, a_tm1, r_t, d_t, q_t_value, q_t_selector)\n",
        "      batch_loss = rlax.huber_loss(td_error, huber_loss_parameter)\n",
        "\n",
        "      # Importance weighting.\n",
        "      importance_weights = (1. / probs).astype(jnp.float32)\n",
        "      importance_weights **= importance_sampling_exponent\n",
        "      importance_weights /= jnp.max(importance_weights)\n",
        "\n",
        "      # Reweight.\n",
        "      mean_loss = jnp.mean(importance_weights * batch_loss)  # []\n",
        "\n",
        "      priorities = jnp.abs(td_error).astype(jnp.float64)\n",
        "\n",
        "      return mean_loss, (keys, priorities)\n",
        "\n",
        "    def sgd_step(state, samples):\n",
        "      # Compute gradients on the given loss function and update the network\n",
        "      # using the optimizer provided at init time.\n",
        "      grad_fn = jax.grad(loss, has_aux=True)\n",
        "      gradients, (keys, priorities) = grad_fn(state.params, state.target_params,\n",
        "                                              samples)\n",
        "      updates, new_opt_state = optimizer.update(gradients, state.opt_state)\n",
        "      new_params = optax.apply_updates(state.params, updates)\n",
        "\n",
        "      # Update the internal state for the learner with (1) network parameters,\n",
        "      # (2) parameters of the target network, (3) the state of the optimizer,\n",
        "      # (4) Numbers of SGD steps performed by the agent.  \n",
        "      new_state = TrainingState(\n",
        "          params=new_params,\n",
        "          target_params=state.target_params,\n",
        "          opt_state=new_opt_state,\n",
        "          step=state.step + 1)\n",
        "\n",
        "      outputs = LearnerOutputs(keys=keys, priorities=priorities)\n",
        "\n",
        "      return new_state, outputs\n",
        "\n",
        "    # Internalise agent components (replay buffer, networks, optimizer).\n",
        "    self._replay_client = replay_client\n",
        "    self._iterator = data_iterator\n",
        "\n",
        "    # Since sampling is base on a priority experience replay, we need to pass\n",
        "    # the absolute td-loss values to the replay client to update priorities\n",
        "    # accordingly.\n",
        "    def update_priorities(outputs: LearnerOutputs):\n",
        "      for key, priority in zip(outputs.keys, outputs.priorities):\n",
        "        self._replay_client.mutate_priorities(\n",
        "            table='priority_table', \n",
        "            updates={key: priority})\n",
        "        \n",
        "    self._update_priorities = update_priorities\n",
        "\n",
        "    # Internalise the hyperparameters.\n",
        "    self._target_update_period = target_update_period\n",
        "\n",
        "    # Internalise logging/counting objects.\n",
        "    self._counter = counting.Counter()\n",
        "    self._logger = loggers.TerminalLogger('learner', time_delta=1.)\n",
        "\n",
        "    # Initialise parameters and optimiser state.\n",
        "    def initialization_fn(values):\n",
        "      values = tree_util.tree_map(lambda x: jnp.zeros(x.shape, x.dtype), values)\n",
        "      # Add batch dim.\n",
        "      return tree_util.tree_map(lambda x: jnp.expand_dims(x, axis=0), values)\n",
        "\n",
        "    initial_params = network.init(next(rng))\n",
        "    initial_target_params = initial_params\n",
        "    initial_opt_state = optimizer.init(initial_params)\n",
        "\n",
        "    self._state = TrainingState(\n",
        "        params=initial_params,\n",
        "        target_params=initial_target_params,\n",
        "        opt_state=initial_opt_state,\n",
        "        step=0)\n",
        "\n",
        "    self._forward = jax.jit(network.apply)\n",
        "    self._sgd_step = jax.jit(sgd_step)\n",
        "    \n",
        "  def step(self):\n",
        "    samples = next(self._iterator)\n",
        "    # Do a batch of SGD.\n",
        "    self._state, outputs = self._sgd_step(self._state, samples)\n",
        "\n",
        "    # Update our counts and record it.\n",
        "    result = self._counter.increment(steps=1)\n",
        "\n",
        "    # Periodically update target network parameters.\n",
        "    if self._state.step % self._target_update_period == 0:\n",
        "      self._state = self._state._replace(target_params=self._state.params)\n",
        "\n",
        "    # Update priorities in replay.\n",
        "    self._update_priorities(outputs)\n",
        "\n",
        "    # Write to logs.\n",
        "    self._logger.write(result)\n",
        "\n",
        "  def get_variables(self):\n",
        "    \"\"\"Network variables after a number of SGD steps.\"\"\"\n",
        "    return self._state.params"
      ],
      "execution_count": 49,
      "outputs": []
    },
    {
      "cell_type": "code",
      "metadata": {
        "id": "ywObWtqgaSXx"
      },
      "source": [
        "# @title DQN Agent implementation (use for reference only) { form-width: \"30%\" }\n",
        "class DQN(acme.Actor):\n",
        "  def __init__(\n",
        "    self,\n",
        "    environment_spec,\n",
        "    network,\n",
        "    batch_size=256,\n",
        "    prefetch_size=4,\n",
        "    target_update_period=100,\n",
        "    samples_per_insert=32.0,\n",
        "    min_replay_size=1000,\n",
        "    max_replay_size=1000000,\n",
        "    importance_sampling_exponent=0.2,\n",
        "    priority_exponent=0.6,\n",
        "    n_step=5,\n",
        "    epsilon=0.,\n",
        "    learning_rate=1e-3,\n",
        "    discount=0.99,\n",
        "  ):\n",
        "    # Create a replay server to add data to. This is initialized as a\n",
        "    # table, and a Learner (defined separately) will be in charge of updating\n",
        "    # sample priorities based on the corresponding learner loss. \n",
        "    replay_table = reverb.Table(\n",
        "        name='priority_table',\n",
        "        sampler=reverb.selectors.Prioritized(priority_exponent),\n",
        "        remover=reverb.selectors.Fifo(),\n",
        "        max_size=max_replay_size,\n",
        "        rate_limiter=reverb.rate_limiters.MinSize(1),\n",
        "        signature=adders.NStepTransitionAdder.signature(environment_spec))\n",
        "    self._server = reverb.Server([replay_table], port=None)\n",
        "    address = f'localhost:{self._server.port}'\n",
        "\n",
        "    # Use ACME reverb adder as a tool to add transition data into the replay\n",
        "    # buffer defined above.\n",
        "    self._adder = adders.NStepTransitionAdder(\n",
        "        client=reverb.Client(address),\n",
        "        n_step=n_step,\n",
        "        discount=discount)\n",
        "\n",
        "    # ACME datasets provides an interface to easily sample from a replay server.\n",
        "    dataset = datasets.make_reverb_dataset(\n",
        "        server_address=address,\n",
        "        batch_size=batch_size,\n",
        "        prefetch_size=prefetch_size)\n",
        "    data_iterator = dataset.as_numpy_iterator()\n",
        "\n",
        "    # Create a learner that updates the parameters (and initializes them).\n",
        "    self._learner = DQNLearner(\n",
        "        network=network,\n",
        "        obs_spec=environment_spec.observations,\n",
        "        rng=hk.PRNGSequence(1),\n",
        "        optimizer=optax.adam(learning_rate),\n",
        "        discount=discount,\n",
        "        importance_sampling_exponent=importance_sampling_exponent,\n",
        "        target_update_period=target_update_period,\n",
        "        data_iterator=data_iterator,\n",
        "        replay_client=reverb.Client(address),\n",
        "    )\n",
        "    \n",
        "    # Create a feed forward actor that obtains its variables from the DQNLearner\n",
        "    # above.\n",
        "    def policy(params, key, observation):\n",
        "      action_values = network.apply(params, observation)\n",
        "      return rlax.epsilon_greedy(epsilon).sample(key, action_values)\n",
        "\n",
        "    self._policy = policy\n",
        "    self._rng = hk.PRNGSequence(1)\n",
        " \n",
        "    # We'll ignore the first min_observations when determining whether to take\n",
        "    # a step and we'll do so by making sure num_observations >= 0.\n",
        "    self._num_observations = -max(batch_size, min_replay_size)\n",
        "\n",
        "    observations_per_step = float(batch_size) / samples_per_insert\n",
        "    if observations_per_step >= 1.0:\n",
        "      self._observations_per_update = int(observations_per_step)\n",
        "      self._learning_steps_per_update = 1\n",
        "    else:\n",
        "      self._observations_per_update = 1\n",
        "      self._learning_steps_per_update = int(1.0 / observations_per_step)\n",
        "\n",
        "  def select_action(self, observation):\n",
        "    observation = tree_util.tree_map(lambda x: jnp.expand_dims(x, axis=0), \n",
        "                                     observation)\n",
        "    \n",
        "    key = next(self._rng)\n",
        "    params = self._learner.get_variables()\n",
        "    action = self._policy(params, key, observation)\n",
        "    action = tree_util.tree_map(lambda x: np.array(x).squeeze(axis=0), action)\n",
        "    return action \n",
        "\n",
        "  def observe_first(self, timestep):\n",
        "    self._adder.add_first(timestep)\n",
        "\n",
        "  def observe(self, action, next_timestep):\n",
        "    self._num_observations += 1\n",
        "    self._adder.add(action, next_timestep)\n",
        "\n",
        "  def update(self):\n",
        "    # Only allow updates after some minimum number of observations have been and\n",
        "    # then at some period given by observations_per_update.\n",
        "    if (self._num_observations >= 0 and\n",
        "        self._num_observations % self._observations_per_update == 0):\n",
        "      self._num_observations = 0\n",
        "\n",
        "      # Run a number of learner steps (usually gradient steps).\n",
        "      for _ in range(self._learning_steps_per_update):\n",
        "        self._learner.step()"
      ],
      "execution_count": 50,
      "outputs": []
    },
    {
      "cell_type": "code",
      "metadata": {
        "id": "0iBoBqLvcy14",
        "outputId": "0a88725f-6f1a-46da-b29e-cb2dccaff992",
        "colab": {
          "base_uri": "https://localhost:8080/",
          "height": 366
        }
      },
      "source": [
        "# @title Run a training loop  { form-width: \"30%\" }\n",
        "\n",
        "# Run a `num_episodes` training episodes.\n",
        "# Rerun this cell until the agent has learned the given task.\n",
        "\n",
        "grid = build_gridworld_task(\n",
        "    task='simple', \n",
        "    observation_type=ObservationType.GRID, \n",
        "    max_episode_length=100,\n",
        ")\n",
        "environment, environment_spec = setup_environment(grid)\n",
        "\n",
        "agent = DQN(\n",
        "    environment_spec=environment_spec,\n",
        "    network=network,\n",
        "    batch_size=16,\n",
        "    samples_per_insert=2,\n",
        "    epsilon=0.1,\n",
        "    min_replay_size=100)\n",
        "\n",
        "returns = run_loop(environment=environment, agent=agent, num_episodes=200, \n",
        "    logger_time_delta=0.2)"
      ],
      "execution_count": 51,
      "outputs": [
        {
          "output_type": "error",
          "ename": "TypeError",
          "evalue": "ignored",
          "traceback": [
            "\u001b[0;31m---------------------------------------------------------------------------\u001b[0m",
            "\u001b[0;31mTypeError\u001b[0m                                 Traceback (most recent call last)",
            "\u001b[0;32m<ipython-input-51-942608502a7b>\u001b[0m in \u001b[0;36m<module>\u001b[0;34m\u001b[0m\n\u001b[1;32m     19\u001b[0m     min_replay_size=100)\n\u001b[1;32m     20\u001b[0m \u001b[0;34m\u001b[0m\u001b[0m\n\u001b[0;32m---> 21\u001b[0;31m returns = run_loop(environment=environment, agent=agent, num_episodes=200, \n\u001b[0m\u001b[1;32m     22\u001b[0m     logger_time_delta=0.2)\n",
            "\u001b[0;32m<ipython-input-10-11091adc43f1>\u001b[0m in \u001b[0;36mrun_loop\u001b[0;34m(environment, agent, num_episodes, num_steps, logger_time_delta, label, log_loss)\u001b[0m\n\u001b[1;32m     57\u001b[0m       \u001b[0;31m# Have the agent observe the timestep and let the agent update itself.\u001b[0m\u001b[0;34m\u001b[0m\u001b[0;34m\u001b[0m\u001b[0;34m\u001b[0m\u001b[0m\n\u001b[1;32m     58\u001b[0m       \u001b[0magent\u001b[0m\u001b[0;34m.\u001b[0m\u001b[0mobserve\u001b[0m\u001b[0;34m(\u001b[0m\u001b[0maction\u001b[0m\u001b[0;34m,\u001b[0m \u001b[0mnext_timestep\u001b[0m\u001b[0;34m=\u001b[0m\u001b[0mtimestep\u001b[0m\u001b[0;34m)\u001b[0m\u001b[0;34m\u001b[0m\u001b[0;34m\u001b[0m\u001b[0m\n\u001b[0;32m---> 59\u001b[0;31m       \u001b[0magent\u001b[0m\u001b[0;34m.\u001b[0m\u001b[0mupdate\u001b[0m\u001b[0;34m(\u001b[0m\u001b[0;34m)\u001b[0m\u001b[0;34m\u001b[0m\u001b[0;34m\u001b[0m\u001b[0m\n\u001b[0m\u001b[1;32m     60\u001b[0m \u001b[0;34m\u001b[0m\u001b[0m\n\u001b[1;32m     61\u001b[0m       \u001b[0;31m# Book-keeping.\u001b[0m\u001b[0;34m\u001b[0m\u001b[0;34m\u001b[0m\u001b[0;34m\u001b[0m\u001b[0m\n",
            "\u001b[0;32m<ipython-input-50-38e180ebccf8>\u001b[0m in \u001b[0;36mupdate\u001b[0;34m(self)\u001b[0m\n\u001b[1;32m    105\u001b[0m       \u001b[0;31m# Run a number of learner steps (usually gradient steps).\u001b[0m\u001b[0;34m\u001b[0m\u001b[0;34m\u001b[0m\u001b[0;34m\u001b[0m\u001b[0m\n\u001b[1;32m    106\u001b[0m       \u001b[0;32mfor\u001b[0m \u001b[0m_\u001b[0m \u001b[0;32min\u001b[0m \u001b[0mrange\u001b[0m\u001b[0;34m(\u001b[0m\u001b[0mself\u001b[0m\u001b[0;34m.\u001b[0m\u001b[0m_learning_steps_per_update\u001b[0m\u001b[0;34m)\u001b[0m\u001b[0;34m:\u001b[0m\u001b[0;34m\u001b[0m\u001b[0;34m\u001b[0m\u001b[0m\n\u001b[0;32m--> 107\u001b[0;31m         \u001b[0mself\u001b[0m\u001b[0;34m.\u001b[0m\u001b[0m_learner\u001b[0m\u001b[0;34m.\u001b[0m\u001b[0mstep\u001b[0m\u001b[0;34m(\u001b[0m\u001b[0;34m)\u001b[0m\u001b[0;34m\u001b[0m\u001b[0;34m\u001b[0m\u001b[0m\n\u001b[0m",
            "\u001b[0;32m<ipython-input-49-d5bf4447653d>\u001b[0m in \u001b[0;36mstep\u001b[0;34m(self)\u001b[0m\n\u001b[1;32m    131\u001b[0m \u001b[0;34m\u001b[0m\u001b[0m\n\u001b[1;32m    132\u001b[0m     \u001b[0;31m# Update priorities in replay.\u001b[0m\u001b[0;34m\u001b[0m\u001b[0;34m\u001b[0m\u001b[0;34m\u001b[0m\u001b[0m\n\u001b[0;32m--> 133\u001b[0;31m     \u001b[0mself\u001b[0m\u001b[0;34m.\u001b[0m\u001b[0m_update_priorities\u001b[0m\u001b[0;34m(\u001b[0m\u001b[0moutputs\u001b[0m\u001b[0;34m)\u001b[0m\u001b[0;34m\u001b[0m\u001b[0;34m\u001b[0m\u001b[0m\n\u001b[0m\u001b[1;32m    134\u001b[0m \u001b[0;34m\u001b[0m\u001b[0m\n\u001b[1;32m    135\u001b[0m     \u001b[0;31m# Write to logs.\u001b[0m\u001b[0;34m\u001b[0m\u001b[0;34m\u001b[0m\u001b[0;34m\u001b[0m\u001b[0m\n",
            "\u001b[0;32m<ipython-input-49-d5bf4447653d>\u001b[0m in \u001b[0;36mupdate_priorities\u001b[0;34m(outputs)\u001b[0m\n\u001b[1;32m     88\u001b[0m         self._replay_client.mutate_priorities(\n\u001b[1;32m     89\u001b[0m             \u001b[0mtable\u001b[0m\u001b[0;34m=\u001b[0m\u001b[0;34m'priority_table'\u001b[0m\u001b[0;34m,\u001b[0m\u001b[0;34m\u001b[0m\u001b[0;34m\u001b[0m\u001b[0m\n\u001b[0;32m---> 90\u001b[0;31m             updates={key: priority})\n\u001b[0m\u001b[1;32m     91\u001b[0m \u001b[0;34m\u001b[0m\u001b[0m\n\u001b[1;32m     92\u001b[0m     \u001b[0mself\u001b[0m\u001b[0;34m.\u001b[0m\u001b[0m_update_priorities\u001b[0m \u001b[0;34m=\u001b[0m \u001b[0mupdate_priorities\u001b[0m\u001b[0;34m\u001b[0m\u001b[0;34m\u001b[0m\u001b[0m\n",
            "\u001b[0;31mTypeError\u001b[0m: unhashable type: 'DeviceArray'"
          ]
        }
      ]
    },
    {
      "cell_type": "markdown",
      "metadata": {
        "id": "iJi7LDrn0eO4"
      },
      "source": [
        "### DQN agent on the Gym Cartpole environment\n",
        "\n",
        "Here we show that you can apply what you learned to other environments such as Cartpole in [Gym](https://gym.openai.com/).\n",
        "\n",
        "\n",
        "<center><img src=\"https://user-images.githubusercontent.com/10624937/42135683-dde5c6f0-7d13-11e8-90b1-8770df3e40cf.gif\" height=\"250\" /></center>\n"
      ]
    },
    {
      "cell_type": "code",
      "metadata": {
        "id": "DIERzZVk0xIh"
      },
      "source": [
        "#@title Construct the agent and run the training loop { form-width: \"30%\" }\n",
        "\n",
        "#  Try different parameters to see how learning is affected.\n",
        "\n",
        "env = gym_wrapper.GymWrapper(gym.make('CartPole-v0'))\n",
        "env = wrappers.SinglePrecisionWrapper(env)\n",
        "\n",
        "environment, environment_spec = setup_environment(env)\n",
        "\n",
        "# Build agent networks\n",
        "def _network(x):\n",
        "  model = hk.Sequential([\n",
        "      hk.Flatten(),\n",
        "      hk.nets.MLP([200, environment_spec.actions.num_values])\n",
        "  ])\n",
        "  return model(x)\n",
        "\n",
        "# Create agent network pure functions and prebind the observation shape.\n",
        "hk_network: hk.Transformed = hk.without_apply_rng(hk.transform(_network))\n",
        "observation_spec = environment_spec.observations\n",
        "dummy_observation = np.zeros(observation_spec.shape, observation_spec.dtype)\n",
        "\n",
        "# Pack the network pure functions.\n",
        "# Here we also prebind a dummy observation to the network initialization\n",
        "# function. This is so that Acme can maintain compatibility with both haiku and\n",
        "# flax.\n",
        "network = acme.jax.networks.FeedForwardNetwork(\n",
        "    init=lambda rng_key: hk_network.init(rng_key, dummy_observation),\n",
        "    apply=hk_network.apply,\n",
        ")\n",
        "\n",
        "agent = dqn.DQN(\n",
        "    environment_spec=environment_spec,\n",
        "    network=network,\n",
        "    batch_size=64,\n",
        "    epsilon=0.1,\n",
        "    learning_rate=1e-4,\n",
        "    min_replay_size=100,\n",
        "    samples_per_insert=32,\n",
        "    )\n",
        "\n",
        "returns = run_loop(environment=environment, agent=agent, num_episodes=1500, \n",
        "         logger_time_delta=0.2)"
      ],
      "execution_count": null,
      "outputs": []
    },
    {
      "cell_type": "code",
      "metadata": {
        "id": "dDmLcICc98Z8"
      },
      "source": [
        "#@title Visualise training curve { form-width: \"30%\" }\n",
        "\n",
        "# Compute rolling average over returns\n",
        "returns_avg = pd.Series(returns).rolling(10, center=True).mean()\n",
        "\n",
        "plt.figure(figsize=(8, 5))\n",
        "plt.plot(range(len(returns)), returns_avg)\n",
        "plt.xlabel('Episodes')\n",
        "plt.ylabel('Total reward');"
      ],
      "execution_count": null,
      "outputs": []
    },
    {
      "cell_type": "markdown",
      "metadata": {
        "id": "rzqrYxAtH11S"
      },
      "source": [
        "# Want to learn more?\n",
        "\n"
      ]
    },
    {
      "cell_type": "markdown",
      "metadata": {
        "id": "odBz1OO0JIXY"
      },
      "source": [
        "\n",
        "This Colab is based on the [EEML 2020 RL practical](https://github.com/eemlcommunity/PracticalSessions2020/blob/master/rl/EEML2020_RL_Tutorial.ipynb) by Feryal Behbahani & Gheorghe Comanici. \n",
        "\n",
        "\n",
        "Books and lecture notes\n",
        "*   [Reinforcement Learning: an Introduction by Sutton & Barto](http://incompleteideas.net/book/RLbook2018.pdf)\n",
        "* [Algorithms for Reinforcement Learning by Csaba Szepesvari](https://sites.ualberta.ca/~szepesva/papers/RLAlgsInMDPs.pdf)\n",
        "\n",
        "\n",
        "Lectures and course \n",
        "*   [Reinforcement Learning Course | UCL & DeepMind](https://www.youtube.com/watch?v=TCCjZe0y4Qc&list=PLqYmG7hTraZDVH599EItlEWsUOsJbAodm)\n",
        "*   [RL Course by David Silver](https://www.youtube.com/playlist?list=PLzuuYNsE1EZAXYR4FJ75jcJseBmo4KQ9-) (older version of the above)\n",
        "*   [Emma Brunskill Stanford RL Course](https://www.youtube.com/playlist?list=PLoROMvodv4rOSOPzutgyCTapiGlY2Nd8u)\n",
        "*   [RL Course on Coursera by Martha White & Adam White](https://www.coursera.org/specializations/reinforcement-learning)\n",
        "\n",
        "More practical:\n",
        "* [Spinning Up in Deep RL by Josh Achiam](https://spinningup.openai.com/en/latest/)\n",
        "*   [Acme white paper](http://go/arxiv/2006.00979)\n",
        "\n",
        "\n",
        "\n"
      ]
    }
  ]
}